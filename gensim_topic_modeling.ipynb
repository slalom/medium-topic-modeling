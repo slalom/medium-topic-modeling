{
 "cells": [
  {
   "cell_type": "markdown",
   "metadata": {},
   "source": [
    "## Importing Packages and Data"
   ]
  },
  {
   "cell_type": "code",
   "execution_count": 1,
   "metadata": {},
   "outputs": [],
   "source": [
    "import boto3\n",
    "import pandas as pd\n",
    "import nltk\n",
    "\n",
    "#nltk.download('stopwords')\n",
    "#nltk.download('averaged_perceptron_tagger')\n",
    "#nltk.download('punkt')\n",
    "#nltk.download('universal_tagset')"
   ]
  },
  {
   "cell_type": "code",
   "execution_count": 2,
   "metadata": {},
   "outputs": [
    {
     "name": "stdout",
     "output_type": "stream",
     "text": [
      "                           PRE comprehend_topic_data/\r\n",
      "                           PRE comprehend_topic_results/\r\n",
      "                           PRE ecommerce_marketbasket/\r\n",
      "                           PRE ecommerce_recommender/\r\n",
      "                           PRE movie_lens/\r\n",
      "                           PRE netflix/\r\n",
      "2019-02-10 00:27:12          0 \r\n",
      "2019-02-22 05:21:06      56866 WorkdayClasses.csv\r\n"
     ]
    }
   ],
   "source": [
    "!aws s3 ls s3://ml-personalization/data/"
   ]
  },
  {
   "cell_type": "markdown",
   "metadata": {},
   "source": [
    "## "
   ]
  },
  {
   "cell_type": "code",
   "execution_count": 3,
   "metadata": {},
   "outputs": [
    {
     "data": {
      "text/html": [
       "<div>\n",
       "<style scoped>\n",
       "    .dataframe tbody tr th:only-of-type {\n",
       "        vertical-align: middle;\n",
       "    }\n",
       "\n",
       "    .dataframe tbody tr th {\n",
       "        vertical-align: top;\n",
       "    }\n",
       "\n",
       "    .dataframe thead th {\n",
       "        text-align: right;\n",
       "    }\n",
       "</style>\n",
       "<table border=\"1\" class=\"dataframe\">\n",
       "  <thead>\n",
       "    <tr style=\"text-align: right;\">\n",
       "      <th></th>\n",
       "      <th>Class Name</th>\n",
       "      <th>Description Text</th>\n",
       "      <th>Source</th>\n",
       "    </tr>\n",
       "  </thead>\n",
       "  <tbody>\n",
       "    <tr>\n",
       "      <th>0</th>\n",
       "      <td>Coaching Habit</td>\n",
       "      <td>Coaching can help our people to perform at the...</td>\n",
       "      <td>Workday</td>\n",
       "    </tr>\n",
       "    <tr>\n",
       "      <th>1</th>\n",
       "      <td>Meaningful Feedback</td>\n",
       "      <td>Feedback is a catalyst for career growth and c...</td>\n",
       "      <td>Workday</td>\n",
       "    </tr>\n",
       "    <tr>\n",
       "      <th>2</th>\n",
       "      <td>Client Introductions and Meetings</td>\n",
       "      <td>Even the most experienced consultant must prep...</td>\n",
       "      <td>Workday</td>\n",
       "    </tr>\n",
       "    <tr>\n",
       "      <th>3</th>\n",
       "      <td>Ladder of Inference &amp; The Drama Triangle</td>\n",
       "      <td>What you say and how you say it is a part of w...</td>\n",
       "      <td>Workday</td>\n",
       "    </tr>\n",
       "    <tr>\n",
       "      <th>4</th>\n",
       "      <td>Listening with Purpose</td>\n",
       "      <td>\"Most people do not listen with the intent to ...</td>\n",
       "      <td>Workday</td>\n",
       "    </tr>\n",
       "  </tbody>\n",
       "</table>\n",
       "</div>"
      ],
      "text/plain": [
       "                                 Class Name  \\\n",
       "0                            Coaching Habit   \n",
       "1                       Meaningful Feedback   \n",
       "2         Client Introductions and Meetings   \n",
       "3  Ladder of Inference & The Drama Triangle   \n",
       "4                    Listening with Purpose   \n",
       "\n",
       "                                    Description Text   Source  \n",
       "0  Coaching can help our people to perform at the...  Workday  \n",
       "1  Feedback is a catalyst for career growth and c...  Workday  \n",
       "2  Even the most experienced consultant must prep...  Workday  \n",
       "3  What you say and how you say it is a part of w...  Workday  \n",
       "4  \"Most people do not listen with the intent to ...  Workday  "
      ]
     },
     "execution_count": 3,
     "metadata": {},
     "output_type": "execute_result"
    }
   ],
   "source": [
    "class_data = pd.read_csv(\"s3://ml-personalization/data/WorkdayClasses.csv\")\n",
    "class_data.head()"
   ]
  },
  {
   "cell_type": "markdown",
   "metadata": {},
   "source": [
    "## Basic Text Preprocessing"
   ]
  },
  {
   "cell_type": "code",
   "execution_count": 4,
   "metadata": {},
   "outputs": [],
   "source": [
    "import preprocessing"
   ]
  },
  {
   "cell_type": "code",
   "execution_count": 5,
   "metadata": {},
   "outputs": [
    {
     "name": "stdout",
     "output_type": "stream",
     "text": [
      "[[('Coaching', 'Coaching', ['VBG']), ('can', 'can', ['MD']), ('help', 'help', ['VB']), ('our', 'our', ['PRP$']), ('people', 'people', ['NNS']), ('to', 'to', ['TO']), ('perform', 'perform', ['VB']), ('at', 'at', ['IN']), ('their', 'their', ['PRP$']), ('best', 'best', ['JJS']), (',', ',', [',']), ('learn', 'learn', ['VBP']), ('from', 'from', ['IN']), ('their', 'their', ['PRP$']), ('own', 'own', ['JJ']), ('experiences', 'experience', ['NNS']), (',', ',', [',']), ('and', 'and', ['CC']), ('drive', 'drive', ['JJ']), ('empowerment', 'empowerment', ['NN']), ('and', 'and', ['CC']), ('engagement', 'engagement', ['NN']), ('.', '.', ['.'])], [('Yet', 'Yet', ['RB']), (',', ',', [',']), ('we', 'we', ['PRP']), ('regularly', 'regularly', ['VBP']), ('fall', 'fall', ['DT']), ('back', 'back', ['RB']), ('on', 'on', ['IN']), ('old', 'old', ['JJ']), ('habits', 'habit', ['NNS']), ('of', 'of', ['IN']), ('telling', 'tell', ['VBG']), ('instead', 'instead', ['RB']), ('of', 'of', ['IN']), ('asking', 'ask', ['VBG']), (',', ',', [',']), ('mentoring', 'mentor', ['VBG']), ('instead', 'instead', ['RB']), ('of', 'of', ['IN']), ('coaching', 'coaching', ['NN']), (',', ',', [',']), ('and', 'and', ['CC']), ('directing', 'direct', ['VBG']), ('instead', 'instead', ['RB']), ('of', 'of', ['IN']), ('leading', 'lead', ['VBG']), ('.', '.', ['.'])], [('In', 'In', ['IN']), ('this', 'this', ['DT']), ('class', 'class', ['NN']), (',', ',', [',']), ('we', 'we', ['PRP']), ('’', '’', ['VBP']), ('ll', 'll', ['JJ']), ('delineate', 'delineate', ['VBP']), ('the', 'the', ['DT']), ('difference', 'difference', ['NN']), ('between', 'between', ['IN']), ('mentoring', 'mentor', ['VBG']), ('and', 'and', ['CC']), ('coaching', 'coaching', ['NN']), (',', ',', [',']), ('introduce', 'introduce', ['VB']), ('a', 'a', ['DT']), ('simple', 'simple', ['JJ']), ('frameworks', 'framework', ['NN']), ('for', 'for', ['IN']), ('a', 'a', ['DT']), ('10', '10', ['CD']), ('minutes', 'minute', ['NNS']), ('coaching', 'coach', ['VBG']), ('conversation', 'conversation', ['NN']), (',', ',', [',']), ('and', 'and', ['CC']), ('establish', 'establish', ['VB']), ('a', 'a', ['DT']), ('new', 'new', ['JJ']), ('habit', 'habit', ['NN']), ('to', 'to', ['TO']), ('reinforce', 'reinforce', ['VB']), ('regular', 'regular', ['JJ']), ('coaching', 'coaching', ['NN']), ('conversations', 'conversation', ['NNS']), ('with', 'with', ['IN']), ('your', 'your', ['PRP$']), ('team', 'team', ['NN']), ('.', '.', ['.'])], [('At', 'At', ['IN']), ('the', 'the', ['DT']), ('end', 'end', ['NN']), ('of', 'of', ['IN']), ('this', 'this', ['DT']), ('course', 'course', ['NN']), (',', ',', [',']), ('participants', 'participant', ['NNS']), ('will', 'will', ['MD']), ('be', 'be', ['VB']), ('able', 'able', ['JJ']), ('to', 'to', ['TO']), (':', ':', [':']), ('Determine', 'Determine', ['VB']), ('when', 'when', ['WRB']), ('and', 'and', ['CC']), ('how', 'how', ['WRB']), ('to', 'to', ['TO']), ('use', 'use', ['VB']), ('coaching', 'coach', ['VBG']), ('questions', 'question', ['NNS']), ('to', 'to', ['TO']), ('support', 'support', ['VB']), ('others', 'others', ['NNS']), ('development', 'development', ['NN']), ('and', 'and', ['CC']), ('performance', 'performance', ['NN']), (',', ',', [',']), ('Facilitate', 'Facilitate', ['NNP']), ('a', 'a', ['DT']), ('coaching', 'coach', ['VBG']), ('conversation', 'conversation', ['NN']), ('in', 'in', ['IN']), ('10', '10', ['CD']), ('minutes', 'minute', ['NNS']), ('or', 'or', ['CC']), ('less', 'less', ['JJR']), (',', ',', [',']), ('Effectively', 'Effectively', ['RB']), ('establish', 'establish', ['VB']), ('a', 'a', ['DT']), ('new', 'new', ['JJ']), ('habit', 'habit', ['NN'])]]\n"
     ]
    }
   ],
   "source": [
    "from nltk.stem import WordNetLemmatizer\n",
    "from nltk.corpus import wordnet\n",
    "\n",
    "class Splitter(object):\n",
    "    \"\"\"\n",
    "    split the document into sentences and tokenize each sentence\n",
    "    \"\"\"\n",
    "    def __init__(self):\n",
    "        self.splitter = nltk.data.load('tokenizers/punkt/english.pickle')\n",
    "        self.tokenizer = nltk.tokenize.TreebankWordTokenizer()\n",
    "\n",
    "    def split(self,text):\n",
    "        \"\"\"\n",
    "        out : ['What', 'can', 'I', 'say', 'about', 'this', 'place', '.']\n",
    "        \"\"\"\n",
    "        # split into single sentence\n",
    "        sentences = self.splitter.tokenize(text)\n",
    "        # tokenization in each sentences\n",
    "        tokens = [self.tokenizer.tokenize(sent) for sent in sentences]\n",
    "        return tokens\n",
    "\n",
    "\n",
    "class LemmatizationWithPOSTagger(object):\n",
    "    def __init__(self):\n",
    "        pass\n",
    "    def get_wordnet_pos(self,treebank_tag):\n",
    "        \"\"\"\n",
    "        return WORDNET POS compliance to WORDENT lemmatization (a,n,r,v) \n",
    "        \"\"\"\n",
    "        if treebank_tag.startswith('J'):\n",
    "            return wordnet.ADJ\n",
    "        elif treebank_tag.startswith('V'):\n",
    "            return wordnet.VERB\n",
    "        elif treebank_tag.startswith('N'):\n",
    "            return wordnet.NOUN\n",
    "        elif treebank_tag.startswith('R'):\n",
    "            return wordnet.ADV\n",
    "        else:\n",
    "            # As default pos in lemmatization is Noun\n",
    "            return wordnet.NOUN\n",
    "\n",
    "    def pos_tag(self,tokens):\n",
    "        # find the pos tagginf for each tokens [('What', 'WP'), ('can', 'MD'), ('I', 'PRP') ....\n",
    "        pos_tokens = [nltk.pos_tag(token) for token in tokens]\n",
    "\n",
    "        # lemmatization using pos tagg   \n",
    "        # convert into feature set of [('What', 'What', ['WP']), ('can', 'can', ['MD']), ... ie [original WORD, Lemmatized word, POS tag]\n",
    "        pos_tokens = [ [(word, lemmatizer.lemmatize(word,self.get_wordnet_pos(pos_tag)), [pos_tag]) for (word,pos_tag) in pos] for pos in pos_tokens]\n",
    "        return pos_tokens\n",
    "\n",
    "lemmatizer = WordNetLemmatizer()\n",
    "splitter = Splitter()\n",
    "lemmatization_using_pos_tagger = LemmatizationWithPOSTagger()\n",
    "\n",
    "#step 1 split document into sentence followed by tokenization\n",
    "tokens = class_data['Description Text'].apply(lambda x: splitter.split(x))\n",
    "\n",
    "#step 2 lemmatization using pos tagger \n",
    "lemma_pos_token = tokens.apply(lambda x: lemmatization_using_pos_tagger.pos_tag(x))\n",
    "print(lemma_pos_token[0])"
   ]
  },
  {
   "cell_type": "code",
   "execution_count": 6,
   "metadata": {},
   "outputs": [
    {
     "data": {
      "text/plain": [
       "'Coaching can help our people to perform at their best , learn from their own experience , and drive empowerment and engagement . Yet , we regularly fall back on old habit of tell instead of ask , mentor instead of coaching , and direct instead of lead . In this class , we ’ ll delineate the difference between mentor and coaching , introduce a simple framework for a 10 minute coach conversation , and establish a new habit to reinforce regular coaching conversation with your team . At the end of this course , participant will be able to : Determine when and how to use coach question to support others development and performance , Facilitate a coach conversation in 10 minute or less , Effectively establish a new habit'"
      ]
     },
     "execution_count": 6,
     "metadata": {},
     "output_type": "execute_result"
    }
   ],
   "source": [
    "#creating and testing lemmatizing function\n",
    "\n",
    "def lemmatize_to_string(value):\n",
    "    string_list = []\n",
    "    for i in range(len(value)):\n",
    "        string_list.extend([x[1] for x in value[i]])\n",
    "    \n",
    "    \n",
    "    return \" \".join(string_list)\n",
    "        \n",
    "lemmatize_to_string(lemma_pos_token[0])"
   ]
  },
  {
   "cell_type": "code",
   "execution_count": 7,
   "metadata": {},
   "outputs": [],
   "source": [
    "# we can see the above lemmatizing approach isn't perfect, applying to all rows\n",
    "\n",
    "lemmatized_descriptions = lemma_pos_token.apply(lambda x: lemmatize_to_string(x))"
   ]
  },
  {
   "cell_type": "code",
   "execution_count": 8,
   "metadata": {},
   "outputs": [
    {
     "name": "stdout",
     "output_type": "stream",
     "text": [
      "converting to lower case...\n",
      "converting to lower case...\n",
      "removing English stopwords...\n",
      "removing English stopwords...\n",
      "stemming words...\n",
      "\n",
      "\n",
      "Coaching can help our people to perform at their best, learn from their own experiences, and drive empowerment and engagement. Yet, we regularly fall back on old habits of telling instead of asking, mentoring instead of coaching, and directing instead of leading. In this class, we’ll delineate the difference between mentoring and coaching, introduce a simple frameworks for a 10 minutes coaching conversation, and establish a new habit to reinforce regular coaching conversations with your team. At the end of this course, participants will be able to: Determine when and how to use coaching questions to support others development and performance, Facilitate a coaching conversation in 10 minutes or less, Effectively establish a new habit\n",
      "\n",
      "coaching help people perform best learn experience drive empowerment engagement yet regularly fall back old habit tell instead ask mentor instead coaching direct instead lead class delineate difference mentor coaching introduce simple framework minute coach conversation establish new habit reinforce regular coaching conversation team end course participant able determine use coach question support others development performance facilitate coach conversation minute less effectively establish new habit\n",
      "\n",
      "coach help peopl perform best learn experi drive empower engag yet regularli fall back old habit tell instead ask mentor instead coach direct instead lead class delin differ mentor coach introduc simpl framework minut coach convers establish new habit reinforc regular coach convers team end cours particip abl determin use coach question support other develop perform facilit coach convers minut less effect establish new habit\n"
     ]
    }
   ],
   "source": [
    "# basic text preparation for NLP\n",
    "\n",
    "# converting to lowercase\n",
    "class_data['Lemma_Processed'] = preprocessing.lowercase(lemmatized_descriptions)\n",
    "class_data['Stem_Processed'] = preprocessing.lowercase(class_data['Description Text'])\n",
    "\n",
    "# stripping punctuation\n",
    "class_data['Lemma_Processed'] = preprocessing.strip_punctuation(class_data['Lemma_Processed'])\n",
    "class_data['Stem_Processed'] = preprocessing.strip_punctuation(class_data['Stem_Processed'])\n",
    "\n",
    "# removing stopwords\n",
    "class_data['Lemma_Processed'] = preprocessing.remove_english_stopwords(class_data['Lemma_Processed'])\n",
    "class_data['Stem_Processed'] = preprocessing.remove_english_stopwords(class_data['Stem_Processed'])\n",
    "\n",
    "# stemming\n",
    "class_data['Stem_Processed'] = preprocessing.stem(class_data['Stem_Processed'])\n",
    "\n",
    "print()\n",
    "print()\n",
    "print(class_data['Description Text'][0])\n",
    "print()\n",
    "print(class_data['Lemma_Processed'][0])\n",
    "print()\n",
    "print(class_data['Stem_Processed'][0])"
   ]
  },
  {
   "cell_type": "code",
   "execution_count": 9,
   "metadata": {},
   "outputs": [],
   "source": [
    "# evaluating model ranges to determine best topic model\n",
    "\n",
    "import time\n",
    "from collections import defaultdict\n",
    "\n",
    "grid = defaultdict(list)\n",
    "parameter_list = range(2,8)\n",
    "eval_columns = ['Number_Of_Topics', 'Lemma_Coherence', 'Stem_Coherence']\n",
    "\n",
    "# getting kfold splits\n",
    "\n",
    "from sklearn.model_selection import KFold # import KFold\n",
    "kf = KFold(n_splits=5, shuffle=True)"
   ]
  },
  {
   "cell_type": "code",
   "execution_count": 10,
   "metadata": {
    "scrolled": true
   },
   "outputs": [
    {
     "name": "stdout",
     "output_type": "stream",
     "text": [
      "Building topic models for 2 topics\n",
      "Building topic models for 3 topics\n",
      "Building topic models for 4 topics\n",
      "Building topic models for 5 topics\n",
      "Building topic models for 6 topics\n",
      "Building topic models for 7 topics\n",
      "Building topic models for 2 topics\n",
      "Building topic models for 3 topics\n",
      "Building topic models for 4 topics\n",
      "Building topic models for 5 topics\n",
      "Building topic models for 6 topics\n",
      "Building topic models for 7 topics\n",
      "Building topic models for 2 topics\n",
      "Building topic models for 3 topics\n",
      "Building topic models for 4 topics\n",
      "Building topic models for 5 topics\n",
      "Building topic models for 6 topics\n",
      "Building topic models for 7 topics\n",
      "Building topic models for 2 topics\n",
      "Building topic models for 3 topics\n",
      "Building topic models for 4 topics\n",
      "Building topic models for 5 topics\n",
      "Building topic models for 6 topics\n",
      "Building topic models for 7 topics\n",
      "Building topic models for 2 topics\n",
      "Building topic models for 3 topics\n",
      "Building topic models for 4 topics\n",
      "Building topic models for 5 topics\n",
      "Building topic models for 6 topics\n",
      "Building topic models for 7 topics\n",
      "    Number_Of_Topics  Lemma_Coherence  Stem_Coherence\n",
      "0                2.0         0.257453        0.292505\n",
      "1                3.0         0.306590        0.321425\n",
      "2                4.0         0.315804        0.310355\n",
      "3                5.0         0.355308        0.326782\n",
      "4                6.0         0.368670        0.282336\n",
      "5                7.0         0.361800        0.302446\n",
      "6                2.0         0.328493        0.319380\n",
      "7                3.0         0.300471        0.320795\n",
      "8                4.0         0.315152        0.309896\n",
      "9                5.0         0.308019        0.370406\n",
      "10               6.0         0.301616        0.422639\n",
      "11               7.0         0.312004        0.359877\n",
      "12               2.0         0.324097        0.439151\n",
      "13               3.0         0.310698        0.318621\n",
      "14               4.0         0.324104        0.382143\n",
      "15               5.0         0.303354        0.372749\n",
      "16               6.0         0.323872        0.356766\n",
      "17               7.0         0.324771        0.324734\n",
      "18               2.0         0.358195        0.297947\n",
      "19               3.0         0.345887        0.351043\n",
      "20               4.0         0.366832        0.330227\n",
      "21               5.0         0.387611        0.400210\n",
      "22               6.0         0.390209        0.470276\n",
      "23               7.0         0.346332        0.474466\n",
      "24               2.0         0.378726        0.360205\n",
      "25               3.0         0.327686        0.363964\n",
      "26               4.0         0.397977        0.419771\n",
      "27               5.0         0.371169        0.405231\n",
      "28               6.0         0.363816        0.389686\n",
      "29               7.0         0.370402        0.364636\n"
     ]
    }
   ],
   "source": [
    "# evaluating kfold splits\n",
    "\n",
    "from gensim import corpora, models\n",
    "from gensim.models.coherencemodel import CoherenceModel\n",
    "import re\n",
    "import warnings\n",
    "\n",
    "eval_df = pd.DataFrame(columns=eval_columns)\n",
    "\n",
    "for train_index, test_index in kf.split(class_data):\n",
    "    \n",
    "    # getting train/test split for the fold\n",
    "    train_data = class_data.iloc[train_index]\n",
    "    test_data = class_data.iloc[test_index]\n",
    "    \n",
    "    # creating text lists\n",
    "    stemmed_train_text = []\n",
    "    lemma_train_text = []\n",
    "    stemmed_test_text = []\n",
    "    lemma_test_text = []\n",
    "    \n",
    "    for row in train_data.iterrows():\n",
    "        stem_val = str(row[1]['Stem_Processed'])\n",
    "        lemma_val = str(row[1]['Lemma_Processed'])\n",
    "        stemmed_train_text.append(re.split(r'\\s+', stem_val))\n",
    "        lemma_train_text.append(re.split(r'\\s+', lemma_val))\n",
    "        \n",
    "    for row in test_data.iterrows():\n",
    "        stem_val = str(row[1]['Stem_Processed'])\n",
    "        lemma_val = str(row[1]['Lemma_Processed'])\n",
    "        stemmed_test_text.append(re.split(r'\\s+', stem_val))\n",
    "        lemma_test_text.append(re.split(r'\\s+', lemma_val))\n",
    "        \n",
    "    # creating dictionaries\n",
    "    stem_dictionary = corpora.Dictionary(stemmed_train_text)\n",
    "    lemma_dictionary = corpora.Dictionary(lemma_train_text)\n",
    "    \n",
    "    # creating corpuses\n",
    "    stem_corpus = [stem_dictionary.doc2bow(stem) for stem in stemmed_train_text]\n",
    "    lemma_corpus = [lemma_dictionary.doc2bow(lemma) for lemma in lemma_train_text]\n",
    "    \n",
    "    # building models for parameter values\n",
    "    with warnings.catch_warnings():\n",
    "        warnings.simplefilter(\"ignore\")\n",
    "        \n",
    "        for param in parameter_list:\n",
    "            \n",
    "            # building models\n",
    "            print(\"Building topic models for {0} topics\".format(str(param)))\n",
    "            start_time = time.time()\n",
    "            stem_model = models.ldamodel.LdaModel(corpus=stem_corpus, id2word=stem_dictionary, num_topics=param, passes=10, random_state = 1)\n",
    "            lemma_model = models.ldamodel.LdaModel(corpus=lemma_corpus, id2word=lemma_dictionary, num_topics=param, passes=10, random_state = 1)\n",
    "            elapsed = time.time() - start_time\n",
    "            #print(\"Elapsed time: %s\" % elapsed)\n",
    "            \n",
    "            # getting coherence values\n",
    "            stem_cm = CoherenceModel(model=stem_model, texts=stemmed_train_text, dictionary=stem_dictionary, coherence='c_v')\n",
    "            lemma_cm = CoherenceModel(model=lemma_model, texts=lemma_train_text, dictionary=lemma_dictionary, coherence='c_v')\n",
    "            stem_coherence = stem_cm.get_coherence()\n",
    "            lemma_coherence = lemma_cm.get_coherence()\n",
    "        \n",
    "            # adding to eval data frame\n",
    "            eval_df.loc[len(eval_df)] = [param, lemma_coherence, stem_coherence]\n",
    "\n",
    "print(eval_df)"
   ]
  },
  {
   "cell_type": "code",
   "execution_count": 11,
   "metadata": {},
   "outputs": [
    {
     "data": {
      "text/html": [
       "<div>\n",
       "<style scoped>\n",
       "    .dataframe tbody tr th:only-of-type {\n",
       "        vertical-align: middle;\n",
       "    }\n",
       "\n",
       "    .dataframe tbody tr th {\n",
       "        vertical-align: top;\n",
       "    }\n",
       "\n",
       "    .dataframe thead th {\n",
       "        text-align: right;\n",
       "    }\n",
       "</style>\n",
       "<table border=\"1\" class=\"dataframe\">\n",
       "  <thead>\n",
       "    <tr style=\"text-align: right;\">\n",
       "      <th></th>\n",
       "      <th>Number_Of_Topics</th>\n",
       "      <th>Lemma_Coherence</th>\n",
       "      <th>Stem_Coherence</th>\n",
       "    </tr>\n",
       "  </thead>\n",
       "  <tbody>\n",
       "    <tr>\n",
       "      <th>0</th>\n",
       "      <td>2.0</td>\n",
       "      <td>0.257453</td>\n",
       "      <td>0.292505</td>\n",
       "    </tr>\n",
       "    <tr>\n",
       "      <th>1</th>\n",
       "      <td>3.0</td>\n",
       "      <td>0.306590</td>\n",
       "      <td>0.321425</td>\n",
       "    </tr>\n",
       "    <tr>\n",
       "      <th>2</th>\n",
       "      <td>4.0</td>\n",
       "      <td>0.315804</td>\n",
       "      <td>0.310355</td>\n",
       "    </tr>\n",
       "    <tr>\n",
       "      <th>3</th>\n",
       "      <td>5.0</td>\n",
       "      <td>0.355308</td>\n",
       "      <td>0.326782</td>\n",
       "    </tr>\n",
       "    <tr>\n",
       "      <th>4</th>\n",
       "      <td>6.0</td>\n",
       "      <td>0.368670</td>\n",
       "      <td>0.282336</td>\n",
       "    </tr>\n",
       "  </tbody>\n",
       "</table>\n",
       "</div>"
      ],
      "text/plain": [
       "   Number_Of_Topics  Lemma_Coherence  Stem_Coherence\n",
       "0               2.0         0.257453        0.292505\n",
       "1               3.0         0.306590        0.321425\n",
       "2               4.0         0.315804        0.310355\n",
       "3               5.0         0.355308        0.326782\n",
       "4               6.0         0.368670        0.282336"
      ]
     },
     "execution_count": 11,
     "metadata": {},
     "output_type": "execute_result"
    }
   ],
   "source": [
    "eval_df.head()"
   ]
  },
  {
   "cell_type": "code",
   "execution_count": 12,
   "metadata": {},
   "outputs": [
    {
     "data": {
      "text/html": [
       "<div>\n",
       "<style scoped>\n",
       "    .dataframe tbody tr th:only-of-type {\n",
       "        vertical-align: middle;\n",
       "    }\n",
       "\n",
       "    .dataframe tbody tr th {\n",
       "        vertical-align: top;\n",
       "    }\n",
       "\n",
       "    .dataframe thead th {\n",
       "        text-align: right;\n",
       "    }\n",
       "</style>\n",
       "<table border=\"1\" class=\"dataframe\">\n",
       "  <thead>\n",
       "    <tr style=\"text-align: right;\">\n",
       "      <th></th>\n",
       "      <th>Lemma_Coherence</th>\n",
       "      <th>Stem_Coherence</th>\n",
       "      <th>diff</th>\n",
       "    </tr>\n",
       "    <tr>\n",
       "      <th>Number_Of_Topics</th>\n",
       "      <th></th>\n",
       "      <th></th>\n",
       "      <th></th>\n",
       "    </tr>\n",
       "  </thead>\n",
       "  <tbody>\n",
       "    <tr>\n",
       "      <th>2.0</th>\n",
       "      <td>0.329393</td>\n",
       "      <td>0.341838</td>\n",
       "      <td>-0.012445</td>\n",
       "    </tr>\n",
       "    <tr>\n",
       "      <th>3.0</th>\n",
       "      <td>0.318266</td>\n",
       "      <td>0.335170</td>\n",
       "      <td>-0.016903</td>\n",
       "    </tr>\n",
       "    <tr>\n",
       "      <th>4.0</th>\n",
       "      <td>0.343974</td>\n",
       "      <td>0.350478</td>\n",
       "      <td>-0.006504</td>\n",
       "    </tr>\n",
       "    <tr>\n",
       "      <th>5.0</th>\n",
       "      <td>0.345092</td>\n",
       "      <td>0.375076</td>\n",
       "      <td>-0.029983</td>\n",
       "    </tr>\n",
       "    <tr>\n",
       "      <th>6.0</th>\n",
       "      <td>0.349637</td>\n",
       "      <td>0.384341</td>\n",
       "      <td>-0.034704</td>\n",
       "    </tr>\n",
       "    <tr>\n",
       "      <th>7.0</th>\n",
       "      <td>0.343062</td>\n",
       "      <td>0.365232</td>\n",
       "      <td>-0.022170</td>\n",
       "    </tr>\n",
       "  </tbody>\n",
       "</table>\n",
       "</div>"
      ],
      "text/plain": [
       "                  Lemma_Coherence  Stem_Coherence      diff\n",
       "Number_Of_Topics                                           \n",
       "2.0                      0.329393        0.341838 -0.012445\n",
       "3.0                      0.318266        0.335170 -0.016903\n",
       "4.0                      0.343974        0.350478 -0.006504\n",
       "5.0                      0.345092        0.375076 -0.029983\n",
       "6.0                      0.349637        0.384341 -0.034704\n",
       "7.0                      0.343062        0.365232 -0.022170"
      ]
     },
     "execution_count": 12,
     "metadata": {},
     "output_type": "execute_result"
    }
   ],
   "source": [
    "avg_eval_df = eval_df \\\n",
    ".groupby('Number_Of_Topics')[['Lemma_Coherence', 'Stem_Coherence']] \\\n",
    ".agg('mean')\n",
    "\n",
    "avg_eval_df['diff'] = avg_eval_df['Lemma_Coherence'] - avg_eval_df['Stem_Coherence']\n",
    "avg_eval_df"
   ]
  },
  {
   "cell_type": "code",
   "execution_count": 13,
   "metadata": {},
   "outputs": [],
   "source": [
    "stemmed_text = []\n",
    "\n",
    "for row in class_data.iterrows():\n",
    "    stem_val = str(row[1]['Stem_Processed'])\n",
    "    stemmed_text.append(re.split(r'\\s+', stem_val))\n",
    "        \n",
    "# creating dictionaries\n",
    "stem_dictionary = corpora.Dictionary(stemmed_text)\n",
    "\n",
    "# creating corpuses\n",
    "stem_corpus = [stem_dictionary.doc2bow(stem) for stem in stemmed_text]"
   ]
  },
  {
   "cell_type": "code",
   "execution_count": 14,
   "metadata": {},
   "outputs": [],
   "source": [
    "# build model\n",
    "model2 = models.ldamodel.LdaModel(corpus=stem_corpus, id2word=stem_dictionary, num_topics=2, passes=50, random_state = 1)\n"
   ]
  },
  {
   "cell_type": "code",
   "execution_count": 15,
   "metadata": {},
   "outputs": [],
   "source": [
    "# build model Anny\n",
    "model6 = models.ldamodel.LdaModel(corpus=stem_corpus, id2word=stem_dictionary, num_topics=6, passes=50, random_state = 1)\n"
   ]
  },
  {
   "cell_type": "code",
   "execution_count": 16,
   "metadata": {},
   "outputs": [],
   "source": [
    "# build model Anny\n",
    "model7 = models.ldamodel.LdaModel(corpus=stem_corpus, id2word=stem_dictionary, num_topics=7, passes=50, random_state = 1)\n"
   ]
  },
  {
   "cell_type": "code",
   "execution_count": 17,
   "metadata": {},
   "outputs": [
    {
     "name": "stderr",
     "output_type": "stream",
     "text": [
      "/home/ec2-user/anaconda3/envs/python3/lib/python3.6/site-packages/pyLDAvis/_prepare.py:257: FutureWarning: Sorting because non-concatenation axis is not aligned. A future version\n",
      "of pandas will change to not sort by default.\n",
      "\n",
      "To accept the future behavior, pass 'sort=False'.\n",
      "\n",
      "To retain the current behavior and silence the warning, pass 'sort=True'.\n",
      "\n",
      "  return pd.concat([default_term_info] + list(topic_dfs))\n"
     ]
    }
   ],
   "source": [
    "import pyLDAvis\n",
    "import pyLDAvis.gensim as gensimvis\n",
    "\n",
    "vis_data = gensimvis.prepare(model7, stem_corpus, stem_dictionary)\n",
    "#pyLDAvis.display(vis_data)"
   ]
  },
  {
   "cell_type": "code",
   "execution_count": 18,
   "metadata": {},
   "outputs": [
    {
     "data": {
      "text/html": [
       "\n",
       "<link rel=\"stylesheet\" type=\"text/css\" href=\"https://cdn.rawgit.com/bmabey/pyLDAvis/files/ldavis.v1.0.0.css\">\n",
       "\n",
       "\n",
       "<div id=\"ldavis_el301381400956603015529646476980\"></div>\n",
       "<script type=\"text/javascript\">\n",
       "\n",
       "var ldavis_el301381400956603015529646476980_data = {\"mdsDat\": {\"x\": [0.055216537111184676, -0.14385790273215204, -0.11323271338702463, 0.07013467723298566, 0.11298074482939391, -0.03421762520337493, 0.05297628214898734], \"y\": [0.0687037929193931, -0.10885281678835919, 0.027907391654643142, -0.04596032468699014, -0.0638545534563622, 0.14130857003354055, -0.019252059675864963], \"topics\": [1, 2, 3, 4, 5, 6, 7], \"cluster\": [1, 1, 1, 1, 1, 1, 1], \"Freq\": [22.84862518310547, 17.720401763916016, 15.126411437988281, 12.807707786560059, 11.523711204528809, 10.25536060333252, 9.717779159545898]}, \"tinfo\": {\"Category\": [\"Default\", \"Default\", \"Default\", \"Default\", \"Default\", \"Default\", \"Default\", \"Default\", \"Default\", \"Default\", \"Default\", \"Default\", \"Default\", \"Default\", \"Default\", \"Default\", \"Default\", \"Default\", \"Default\", \"Default\", \"Default\", \"Default\", \"Default\", \"Default\", \"Default\", \"Default\", \"Default\", \"Default\", \"Default\", \"Default\", \"Topic1\", \"Topic1\", \"Topic1\", \"Topic1\", \"Topic1\", \"Topic1\", \"Topic1\", \"Topic1\", \"Topic1\", \"Topic1\", \"Topic1\", \"Topic1\", \"Topic1\", \"Topic1\", \"Topic1\", \"Topic1\", \"Topic1\", \"Topic1\", \"Topic1\", \"Topic1\", \"Topic1\", \"Topic1\", \"Topic1\", \"Topic1\", \"Topic1\", \"Topic1\", \"Topic1\", \"Topic1\", \"Topic1\", \"Topic1\", \"Topic1\", \"Topic1\", \"Topic1\", \"Topic1\", \"Topic1\", \"Topic1\", \"Topic1\", \"Topic1\", \"Topic1\", \"Topic1\", \"Topic1\", \"Topic1\", \"Topic1\", \"Topic1\", \"Topic1\", \"Topic1\", \"Topic1\", \"Topic1\", \"Topic1\", \"Topic1\", \"Topic1\", \"Topic1\", \"Topic1\", \"Topic1\", \"Topic1\", \"Topic1\", \"Topic1\", \"Topic1\", \"Topic1\", \"Topic1\", \"Topic1\", \"Topic1\", \"Topic2\", \"Topic2\", \"Topic2\", \"Topic2\", \"Topic2\", \"Topic2\", \"Topic2\", \"Topic2\", \"Topic2\", \"Topic2\", \"Topic2\", \"Topic2\", \"Topic2\", \"Topic2\", \"Topic2\", \"Topic2\", \"Topic2\", \"Topic2\", \"Topic2\", \"Topic2\", \"Topic2\", \"Topic2\", \"Topic2\", \"Topic2\", \"Topic2\", \"Topic2\", \"Topic2\", \"Topic2\", \"Topic2\", \"Topic2\", \"Topic2\", \"Topic2\", \"Topic2\", \"Topic2\", \"Topic2\", \"Topic2\", \"Topic2\", \"Topic2\", \"Topic2\", \"Topic2\", \"Topic2\", \"Topic2\", \"Topic2\", \"Topic2\", \"Topic2\", \"Topic2\", \"Topic2\", \"Topic2\", \"Topic2\", \"Topic2\", \"Topic2\", \"Topic2\", \"Topic2\", \"Topic2\", \"Topic2\", \"Topic2\", \"Topic2\", \"Topic2\", \"Topic3\", \"Topic3\", \"Topic3\", \"Topic3\", \"Topic3\", \"Topic3\", \"Topic3\", \"Topic3\", \"Topic3\", \"Topic3\", \"Topic3\", \"Topic3\", \"Topic3\", \"Topic3\", \"Topic3\", \"Topic3\", \"Topic3\", \"Topic3\", \"Topic3\", \"Topic3\", \"Topic3\", \"Topic3\", \"Topic3\", \"Topic3\", \"Topic3\", \"Topic3\", \"Topic3\", \"Topic3\", \"Topic3\", \"Topic3\", \"Topic3\", \"Topic3\", \"Topic3\", \"Topic3\", \"Topic3\", \"Topic3\", \"Topic3\", \"Topic3\", \"Topic3\", \"Topic3\", \"Topic3\", \"Topic3\", \"Topic3\", \"Topic3\", \"Topic3\", \"Topic3\", \"Topic3\", \"Topic3\", \"Topic3\", \"Topic3\", \"Topic3\", \"Topic3\", \"Topic3\", \"Topic3\", \"Topic3\", \"Topic3\", \"Topic3\", \"Topic4\", \"Topic4\", \"Topic4\", \"Topic4\", \"Topic4\", \"Topic4\", \"Topic4\", \"Topic4\", \"Topic4\", \"Topic4\", \"Topic4\", \"Topic4\", \"Topic4\", \"Topic4\", \"Topic4\", \"Topic4\", \"Topic4\", \"Topic4\", \"Topic4\", \"Topic4\", \"Topic4\", \"Topic4\", \"Topic4\", \"Topic4\", \"Topic4\", \"Topic4\", \"Topic4\", \"Topic4\", \"Topic4\", \"Topic4\", \"Topic4\", \"Topic4\", \"Topic4\", \"Topic4\", \"Topic4\", \"Topic4\", \"Topic4\", \"Topic4\", \"Topic4\", \"Topic4\", \"Topic4\", \"Topic4\", \"Topic4\", \"Topic4\", \"Topic4\", \"Topic4\", \"Topic4\", \"Topic4\", \"Topic4\", \"Topic4\", \"Topic4\", \"Topic4\", \"Topic4\", \"Topic4\", \"Topic4\", \"Topic4\", \"Topic4\", \"Topic4\", \"Topic4\", \"Topic4\", \"Topic4\", \"Topic4\", \"Topic4\", \"Topic4\", \"Topic5\", \"Topic5\", \"Topic5\", \"Topic5\", \"Topic5\", \"Topic5\", \"Topic5\", \"Topic5\", \"Topic5\", \"Topic5\", \"Topic5\", \"Topic5\", \"Topic5\", \"Topic5\", \"Topic5\", \"Topic5\", \"Topic5\", \"Topic5\", \"Topic5\", \"Topic5\", \"Topic5\", \"Topic5\", \"Topic5\", \"Topic5\", \"Topic5\", \"Topic5\", \"Topic5\", \"Topic5\", \"Topic5\", \"Topic5\", \"Topic5\", \"Topic5\", \"Topic5\", \"Topic5\", \"Topic5\", \"Topic5\", \"Topic5\", \"Topic5\", \"Topic5\", \"Topic5\", \"Topic5\", \"Topic5\", \"Topic5\", \"Topic5\", \"Topic5\", \"Topic5\", \"Topic5\", \"Topic5\", \"Topic5\", \"Topic5\", \"Topic5\", \"Topic5\", \"Topic5\", \"Topic5\", \"Topic5\", \"Topic5\", \"Topic5\", \"Topic5\", \"Topic5\", \"Topic5\", \"Topic5\", \"Topic5\", \"Topic5\", \"Topic5\", \"Topic5\", \"Topic5\", \"Topic5\", \"Topic5\", \"Topic5\", \"Topic5\", \"Topic5\", \"Topic6\", \"Topic6\", \"Topic6\", \"Topic6\", \"Topic6\", \"Topic6\", \"Topic6\", \"Topic6\", \"Topic6\", \"Topic6\", \"Topic6\", \"Topic6\", \"Topic6\", \"Topic6\", \"Topic6\", \"Topic6\", \"Topic6\", \"Topic6\", \"Topic6\", \"Topic6\", \"Topic6\", \"Topic6\", \"Topic6\", \"Topic6\", \"Topic6\", \"Topic6\", \"Topic6\", \"Topic6\", \"Topic6\", \"Topic6\", \"Topic6\", \"Topic6\", \"Topic6\", \"Topic6\", \"Topic6\", \"Topic6\", \"Topic6\", \"Topic6\", \"Topic6\", \"Topic6\", \"Topic6\", \"Topic6\", \"Topic6\", \"Topic6\", \"Topic6\", \"Topic6\", \"Topic6\", \"Topic6\", \"Topic6\", \"Topic6\", \"Topic6\", \"Topic6\", \"Topic6\", \"Topic6\", \"Topic6\", \"Topic6\", \"Topic6\", \"Topic6\", \"Topic6\", \"Topic6\", \"Topic6\", \"Topic6\", \"Topic6\", \"Topic6\", \"Topic6\", \"Topic6\", \"Topic7\", \"Topic7\", \"Topic7\", \"Topic7\", \"Topic7\", \"Topic7\", \"Topic7\", \"Topic7\", \"Topic7\", \"Topic7\", \"Topic7\", \"Topic7\", \"Topic7\", \"Topic7\", \"Topic7\", \"Topic7\", \"Topic7\", \"Topic7\", \"Topic7\", \"Topic7\", \"Topic7\", \"Topic7\", \"Topic7\", \"Topic7\", \"Topic7\", \"Topic7\", \"Topic7\", \"Topic7\", \"Topic7\", \"Topic7\", \"Topic7\", \"Topic7\", \"Topic7\", \"Topic7\", \"Topic7\", \"Topic7\", \"Topic7\", \"Topic7\", \"Topic7\", \"Topic7\", \"Topic7\", \"Topic7\", \"Topic7\", \"Topic7\", \"Topic7\", \"Topic7\", \"Topic7\", \"Topic7\", \"Topic7\", \"Topic7\", \"Topic7\", \"Topic7\", \"Topic7\", \"Topic7\", \"Topic7\", \"Topic7\", \"Topic7\", \"Topic7\", \"Topic7\", \"Topic7\", \"Topic7\", \"Topic7\", \"Topic7\", \"Topic7\", \"Topic7\", \"Topic7\", \"Topic7\", \"Topic7\", \"Topic7\", \"Topic7\", \"Topic7\", \"Topic7\", \"Topic7\", \"Topic7\"], \"Freq\": [48.0, 28.0, 68.0, 95.0, 78.0, 27.0, 16.0, 15.0, 14.0, 23.0, 30.0, 9.0, 18.0, 22.0, 23.0, 8.0, 10.0, 10.0, 13.0, 13.0, 22.0, 23.0, 18.0, 24.0, 16.0, 7.0, 20.0, 13.0, 113.0, 6.0, 9.63190746307373, 4.446325302124023, 4.446319580078125, 3.5817010402679443, 3.5799145698547363, 6.175309181213379, 2.717135190963745, 2.717135429382324, 2.717134952545166, 2.717134475708008, 2.7171342372894287, 2.716155529022217, 4.438207149505615, 4.446347236633301, 4.446355819702148, 1.852534532546997, 1.8525341749191284, 1.8525341749191284, 1.8525341749191284, 1.8525341749191284, 1.8525341749191284, 1.8525340557098389, 1.8525334596633911, 1.8525347709655762, 1.8525347709655762, 1.852532148361206, 1.852534532546997, 1.8525347709655762, 1.8525336980819702, 1.8525341749191284, 16.67243003845215, 5.982532978057861, 4.156426906585693, 10.498516082763672, 7.516857147216797, 51.04014205932617, 5.310781955718994, 7.040420055389404, 10.954851150512695, 4.446327209472656, 6.359134674072266, 7.904679775238037, 11.466194152832031, 4.029360294342041, 4.7374348640441895, 6.251487731933594, 10.132772445678711, 17.840076446533203, 8.562129974365234, 6.945075511932373, 22.425975799560547, 17.52787208557129, 7.4413886070251465, 8.769046783447266, 8.284994125366211, 7.993032455444336, 8.494033813476562, 7.721709728240967, 6.6813883781433105, 5.881939888000488, 5.310908794403076, 6.912089824676514, 10.082135200500488, 13.40277099609375, 5.100290775299072, 4.2699456214904785, 4.269585132598877, 4.2695722579956055, 3.43947696685791, 3.426076889038086, 7.529566287994385, 6.761218547821045, 2.6094555854797363, 2.609454393386841, 2.6093814373016357, 2.609372138977051, 5.100478172302246, 37.87664031982422, 5.044079303741455, 4.269749641418457, 9.681151390075684, 1.7791298627853394, 1.7791298627853394, 1.7791292667388916, 1.779129147529602, 1.779129147529602, 1.779129147529602, 1.779128909111023, 1.7791286706924438, 1.7791285514831543, 1.7791260480880737, 1.7791262865066528, 7.502950668334961, 6.760993003845215, 3.439380645751953, 9.396665573120117, 15.06916618347168, 6.591223239898682, 4.270187854766846, 4.2696428298950195, 9.034655570983887, 7.51154899597168, 8.853376388549805, 8.27370834350586, 31.83519744873047, 10.205700874328613, 5.917773246765137, 8.770285606384277, 7.177603244781494, 6.854990482330322, 6.757840633392334, 7.30601692199707, 6.846463680267334, 7.153256893157959, 5.068549156188965, 5.6979570388793945, 5.8402814865112305, 6.380269527435303, 5.643172740936279, 5.3673858642578125, 3.3622467517852783, 2.551192283630371, 2.5511903762817383, 2.5507819652557373, 2.550781488418579, 4.986649513244629, 4.1740336418151855, 1.7394131422042847, 1.7394107580184937, 1.7394107580184937, 1.739412784576416, 1.7394112348556519, 1.7394112348556519, 1.7394111156463623, 1.7391960620880127, 1.7391960620880127, 1.7391716241836548, 1.7385380268096924, 1.7382813692092896, 3.3624637126922607, 3.363006353378296, 5.562588214874268, 4.174849987030029, 2.5512237548828125, 2.5512993335723877, 2.551215648651123, 3.057141065597534, 2.5512197017669678, 5.797961235046387, 3.3624401092529297, 12.931283950805664, 27.099885940551758, 3.9243874549865723, 9.5288724899292, 8.127924919128418, 11.187673568725586, 23.979976654052734, 2.7296953201293945, 4.581530570983887, 10.267337799072266, 4.174827575683594, 6.065783977508545, 6.644684314727783, 6.740262031555176, 9.453317642211914, 4.380629062652588, 4.290750503540039, 5.390049457550049, 4.488582611083984, 5.380687713623047, 4.174809455871582, 4.909048557281494, 4.654151439666748, 3.8998332023620605, 4.926058769226074, 4.166665554046631, 4.44771671295166, 7.966064929962158, 6.395343780517578, 3.2537262439727783, 2.4683237075805664, 2.468322992324829, 2.4680116176605225, 1.6829153299331665, 1.682915210723877, 1.6829155683517456, 1.682915210723877, 1.682915210723877, 1.6829153299331665, 1.6829146146774292, 1.6829142570495605, 1.6829140186309814, 1.6829140186309814, 1.6829140186309814, 1.6829140186309814, 1.6829140186309814, 1.6829136610031128, 1.6829136610031128, 1.682913899421692, 1.682913899421692, 1.6829136610031128, 1.6825209856033325, 1.6821815967559814, 1.6818907260894775, 1.6818907260894775, 1.6816045045852661, 3.253762722015381, 4.039318084716797, 7.180748462677002, 8.594534873962402, 2.9358973503112793, 3.253809690475464, 2.468329906463623, 2.468480110168457, 2.4683303833007812, 9.33397388458252, 6.395645618438721, 3.2537949085235596, 7.002851963043213, 2.840846538543701, 12.037307739257812, 4.8246846199035645, 7.180990219116211, 2.468381643295288, 2.2276203632354736, 3.2526907920837402, 2.468339443206787, 3.253882646560669, 5.308605670928955, 3.90128755569458, 4.643964767456055, 4.684333324432373, 7.180419921875, 6.030384540557861, 5.528614521026611, 5.354790687561035, 3.4235036373138428, 3.2537405490875244, 3.2537853717803955, 3.2537550926208496, 3.1074788570404053, 5.488583087921143, 3.188091278076172, 3.18809175491333, 2.418532133102417, 2.418531656265259, 2.418531656265259, 1.6489702463150024, 1.6489689350128174, 1.6489681005477905, 1.6489681005477905, 1.6484884023666382, 2.418553113937378, 2.418552875518799, 2.4186384677886963, 4.7263503074646, 2.41862416267395, 3.1881394386291504, 3.1881442070007324, 0.8793965578079224, 0.8793965578079224, 0.8793965578079224, 0.8793966770172119, 0.8793967366218567, 0.8793965578079224, 0.8793965578079224, 0.8793965578079224, 0.8793965578079224, 0.8793965578079224, 0.8793965578079224, 0.8793965578079224, 0.8793964982032776, 0.8793964982032776, 0.8793964982032776, 14.731839179992676, 0.8793965578079224, 0.8793964982032776, 0.8793964982032776, 3.188096046447754, 0.879396378993988, 0.879396378993988, 1.648977518081665, 1.648977279663086, 2.4185895919799805, 1.6487598419189453, 28.47269058227539, 1.6490063667297363, 1.6489797830581665, 2.4181106090545654, 3.0844125747680664, 2.131375312805176, 3.7414379119873047, 8.727346420288086, 6.266741752624512, 2.416017532348633, 4.727420806884766, 4.727344989776611, 4.694423675537109, 4.322030067443848, 4.658113956451416, 4.759737968444824, 2.6557819843292236, 8.256836891174316, 5.34161901473999, 3.188246965408325, 3.188218593597412, 3.188192129135132, 3.188058376312256, 2.8578062057495117, 3.188180923461914, 3.18806529045105, 2.41866135597229, 3.8568975925445557, 3.8557140827178955, 24.09718894958496, 3.1066627502441406, 2.3569657802581787, 2.356837272644043, 2.3568062782287598, 7.606778144836426, 1.6069964170455933, 1.6069962978363037, 1.6069958209991455, 1.606783151626587, 1.6067825555801392, 1.606781244277954, 1.6067290306091309, 11.3565673828125, 2.3564233779907227, 2.3568525314331055, 2.8554491996765137, 3.107003688812256, 2.258469820022583, 0.8570163249969482, 0.8570165038108826, 0.8570165038108826, 0.857016384601593, 0.8570165038108826, 0.8570165038108826, 0.8570165038108826, 0.8570165038108826, 0.8570163249969482, 0.8570165038108826, 5.768081188201904, 0.857016384601593, 0.8570165038108826, 0.8570165038108826, 2.35697865486145, 2.3569743633270264, 1.6070027351379395, 1.6070023775100708, 1.6070023775100708, 2.3568289279937744, 1.6070053577423096, 1.6070016622543335, 20.38465690612793, 6.351902008056641, 21.360628128051758, 5.241030216217041, 2.3569650650024414, 3.1069486141204834, 10.597020149230957, 4.607065677642822, 3.10703706741333, 2.356895923614502, 7.218695163726807, 4.917716979980469, 3.8565361499786377, 4.607218265533447, 6.4873175621032715, 3.7269392013549805, 3.106741428375244, 2.860166549682617, 3.1042544841766357, 3.1069891452789307, 2.693434238433838, 2.3571624755859375, 2.357069730758667, 2.313929557800293, 1.5776550769805908, 1.5776547193527222, 1.57765531539917, 1.577654480934143, 1.5776543617248535, 1.5776543617248535, 6.729791164398193, 8.940511703491211, 3.0505599975585938, 0.8413705825805664, 0.8413705825805664, 0.8413705825805664, 0.8413705825805664, 0.8413705229759216, 0.8413705229759216, 0.8413705229759216, 0.8413705229759216, 0.8413705229759216, 0.8413705229759216, 0.8413705229759216, 0.8413704037666321, 0.8413705229759216, 0.8413705229759216, 0.8413704037666321, 0.8413705229759216, 0.8413704037666321, 0.8413704037666321, 0.8413704037666321, 0.8413704037666321, 0.8413704037666321, 0.8413704037666321, 0.8413704037666321, 0.8413704037666321, 0.8413704037666321, 0.8413704037666321, 1.5776631832122803, 1.5777040719985962, 1.5777398347854614, 1.5777100324630737, 6.731943607330322, 9.894336700439453, 3.7865712642669678, 2.313929796218872, 7.303764343261719, 2.3133254051208496, 2.313296318054199, 3.0503623485565186, 2.3140077590942383, 2.313922643661499, 3.7866737842559814, 1.5777735710144043, 1.5777077674865723, 3.0497612953186035, 9.943794250488281, 4.2733845710754395, 11.414227485656738, 3.0503058433532715, 4.523057460784912, 6.731717586517334, 3.786599636077881, 2.3140270709991455, 6.089990139007568, 3.272933006286621, 3.226541042327881, 2.207611560821533, 3.0596225261688232, 2.0148627758026123, 2.3949694633483887, 2.8068957328796387, 2.421154260635376, 2.3656649589538574, 2.3141212463378906, 2.314044237136841], \"Term\": [\"aw\", \"googl\", \"cloud\", \"data\", \"learn\", \"machin\", \"platform\", \"deep\", \"certif\", \"exam\", \"applic\", \"text\", \"abl\", \"big\", \"servic\", \"feedback\", \"linux\", \"web\", \"distribut\", \"requir\", \"build\", \"concept\", \"analysi\", \"network\", \"perform\", \"coach\", \"basic\", \"knowledg\", \"cours\", \"listen\", \"r\", \"style\", \"stream\", \"exampl\", \"particular\", \"predict\", \"spent\", \"mindset\", \"convolut\", \"high\", \"issu\", \"carri\", \"second\", \"everyon\", \"&\", \"selv\", \"inclus\", \"widen\", \"exploratori\", \"circl\", \"commit\", \"graphic\", \"disc\", \"inspir\", \"curios\", \"typic\", \"section\", \"scikit\", \"packag\", \"reflect\", \"big\", \"differ\", \"hadoop\", \"statist\", \"spark\", \"data\", \"present\", \"slalom\", \"introduc\", \"analyt\", \"inform\", \"techniqu\", \"week\", \"discuss\", \"learner\", \"product\", \"network\", \"use\", \"model\", \"appli\", \"cours\", \"learn\", \"analysi\", \"system\", \"cover\", \"work\", \"applic\", \"includ\", \"machin\", \"program\", \"distribut\", \"cloud\", \"linux\", \"certif\", \"materi\", \"specialti\", \"academi\", \"qualifi\", \"requisit\", \"within\", \"pass\", \"secur\", \"step\", \"linear\", \"februari\", \"version\", \"kubernet\", \"aw\", \"associ\", \"success\", \"knowledg\", \"script\", \"bootstrap\", \"premis\", \"codedeploy\", \"codecommit\", \"command\", \"codepipelin\", \"protect\", \"hero\", \"equip\", \"prospect\", \"infrastructur\", \"deploy\", \"guid\", \"requir\", \"exam\", \"certifi\", \"regress\", \"oper\", \"new\", \"environ\", \"develop\", \"tool\", \"cours\", \"provid\", \"one\", \"network\", \"need\", \"hand\", \"way\", \"experi\", \"model\", \"also\", \"becom\", \"design\", \"cover\", \"use\", \"cloud\", \"learn\", \"pro\", \"statement\", \"employe\", \"matplotlib\", \"chart\", \"stori\", \"csa\", \"benefit\", \"exchang\", \"verbal\", \"higher\", \"oracl\", \"erd\", \"diagram\", \"perspect\", \"term\", \"market\", \"hour\", \"dedic\", \"non\", \"virtual\", \"offer\", \"devop\", \"defin\", \"account\", \"practition\", \"ident\", \"storytel\", \"foundat\", \"compani\", \"servic\", \"cloud\", \"busi\", \"concept\", \"design\", \"comput\", \"cours\", \"technic\", \"start\", \"aw\", \"two\", \"basic\", \"week\", \"cover\", \"use\", \"student\", \"take\", \"exam\", \"manag\", \"also\", \"databas\", \"introduc\", \"big\", \"creat\", \"learn\", \"googl\", \"data\", \"feedback\", \"coach\", \"philosophi\", \"habit\", \"back\", \"receiv\", \"establish\", \"peak\", \"mentor\", \"yet\", \"regularli\", \"minut\", \"posit\", \"growth\", \"hold\", \"academia\", \"exercis\", \"templat\", \"assign\", \"built\", \"whether\", \"classic\", \"dirti\", \"homework\", \"reinforc\", \"often\", \"sysop\", \"administr\", \"achiev\", \"insid\", \"infer\", \"distribut\", \"perform\", \"convers\", \"c\", \"instead\", \"ask\", \"mapreduc\", \"system\", \"program\", \"class\", \"concept\", \"today\", \"use\", \"algorithm\", \"comput\", \"lead\", \"prior\", \"client\", \"nosql\", \"much\", \"provid\", \"requir\", \"experi\", \"understand\", \"data\", \"cloud\", \"learn\", \"cours\", \"design\", \"techniqu\", \"manag\", \"includ\", \"develop\", \"listen\", \"presenc\", \"sequenc\", \"synthesi\", \"speech\", \"audio\", \"music\", \"hous\", \"parametr\", \"innov\", \"intent\", \"human\", \"search\", \"studi\", \"architect\", \"recommend\", \"execut\", \"recognit\", \"flight\", \"mismatch\", \"taught\", \"surpass\", \"ship\", \"promis\", \"aspir\", \"diagnos\", \"never\", \"otherwis\", \"priorit\", \"reduc\", \"chatbot\", \"variant\", \"rnn\", \"machin\", \"simul\", \"recurr\", \"gru\", \"ai\", \"lstm\", \"commonli\", \"black\", \"box\", \"natur\", \"solv\", \"learn\", \"error\", \"ml\", \"gcp\", \"problem\", \"us\", \"mani\", \"understand\", \"practic\", \"solut\", \"appli\", \"abl\", \"build\", \"experi\", \"work\", \"also\", \"busi\", \"cours\", \"use\", \"know\", \"get\", \"algorithm\", \"deep\", \"level\", \"model\", \"applic\", \"case\", \"reproduc\", \"capabl\", \"googl\", \"choos\", \"obtain\", \"bigqueri\", \"upon\", \"text\", \"tidi\", \"api\", \"consol\", \"dataproc\", \"datastor\", \"bigtabl\", \"combin\", \"platform\", \"acceler\", \"purpos\", \"demonstr\", \"analys\", \"pig\", \"raw\", \"speed\", \"express\", \"codebook\", \"downstream\", \"format\", \"lay\", \"twofold\", \"accomplish\", \"notebook\", \"engin\", \"custom\", \"cli\", \"ipython\", \"integr\", \"clean\", \"job\", \"actual\", \"document\", \"lab\", \"among\", \"option\", \"cloud\", \"analysi\", \"data\", \"process\", \"manipul\", \"storag\", \"cours\", \"basic\", \"cluster\", \"gcp\", \"use\", \"machin\", \"hand\", \"cover\", \"learn\", \"week\", \"make\", \"prepar\", \"servic\", \"comput\", \"spark\", \"other\", \"allow\", \"ec\", \"ci\", \"cd\", \"mayb\", \"fulli\", \"batch\", \"gradient\", \"web\", \"deep\", \"pipelin\", \"mountain\", \"perhap\", \"java\", \"paa\", \"surpris\", \"almost\", \"climb\", \"thought\", \"ever\", \"tap\", \"mean\", \"meaning\", \"rail\", \"ok\", \"readili\", \"prototyp\", \"point\", \"gear\", \"rapid\", \"rubi\", \"rage\", \"effortless\", \"heard\", \"internet\", \"heroku\", \"pleasantli\", \"rather\", \"complic\", \"check\", \"tensorflow\", \"abl\", \"applic\", \"neural\", \"manipul\", \"build\", \"complet\", \"test\", \"implement\", \"python\", \"ai\", \"get\", \"librari\", \"say\", \"set\", \"learn\", \"basic\", \"cours\", \"best\", \"understand\", \"use\", \"network\", \"advanc\", \"data\", \"also\", \"provid\", \"architectur\", \"servic\", \"train\", \"appli\", \"cloud\", \"practic\", \"introduc\", \"new\", \"work\"], \"Total\": [48.0, 28.0, 68.0, 95.0, 78.0, 27.0, 16.0, 15.0, 14.0, 23.0, 30.0, 9.0, 18.0, 22.0, 23.0, 8.0, 10.0, 10.0, 13.0, 13.0, 22.0, 23.0, 18.0, 24.0, 16.0, 7.0, 20.0, 13.0, 113.0, 6.0, 10.302815437316895, 5.115367412567139, 5.11536979675293, 4.25076961517334, 4.250537395477295, 7.613972187042236, 3.3861780166625977, 3.386178493499756, 3.386178493499756, 3.386178731918335, 3.386178731918335, 3.3859548568725586, 5.8647894859313965, 5.927018165588379, 5.945539951324463, 2.5215766429901123, 2.521576404571533, 2.521576404571533, 2.5215766429901123, 2.521576404571533, 2.5215766429901123, 2.521576404571533, 2.521575689315796, 2.5215775966644287, 2.5215773582458496, 2.5215742588043213, 2.5215773582458496, 2.521578311920166, 2.5215766429901123, 2.5215773582458496, 22.932767868041992, 8.452325820922852, 5.826817989349365, 16.609317779541016, 11.55744457244873, 95.46100616455078, 8.286779403686523, 12.590193748474121, 22.129623413085938, 7.400521755218506, 11.647089004516602, 15.463053703308105, 24.62902069091797, 6.713342189788818, 8.242648124694824, 12.36732006072998, 24.67622947692871, 65.00300598144531, 20.679758071899414, 16.10109519958496, 113.86402893066406, 78.25373077392578, 18.533611297607422, 26.845510482788086, 27.700897216796875, 25.924848556518555, 30.215721130371094, 24.31302261352539, 27.594484329223633, 16.93805503845215, 13.04851245880127, 68.9953384399414, 10.756246566772461, 14.827348709106445, 5.774337291717529, 4.944013595581055, 4.943960666656494, 4.943964004516602, 4.113677978515625, 4.113328456878662, 9.075560569763184, 8.299112319946289, 3.2833945751190186, 3.2833948135375977, 3.2833807468414307, 3.2833802700042725, 6.510554313659668, 48.71804428100586, 6.584719657897949, 5.7134480476379395, 13.122758865356445, 2.4530677795410156, 2.4530677795410156, 2.4530680179595947, 2.453068256378174, 2.453068256378174, 2.4530680179595947, 2.4530680179595947, 2.4530680179595947, 2.453068256378174, 2.453066110610962, 2.453066349029541, 10.643646240234375, 9.657344818115234, 4.849839687347412, 13.860654830932617, 23.66905975341797, 10.732853889465332, 6.577817440032959, 6.673013687133789, 16.060762405395508, 13.154779434204102, 16.306812286376953, 15.3447847366333, 113.86402893066406, 26.595529556274414, 12.405476570129395, 24.67622947692871, 17.698951721191406, 16.636817932128906, 16.924802780151367, 20.77899169921875, 20.679758071899414, 27.904067993164062, 11.150952339172363, 19.592164993286133, 27.700897216796875, 65.00300598144531, 68.9953384399414, 78.25373077392578, 4.039451599121094, 3.227782726287842, 3.2277815341949463, 3.227724075317383, 3.227724552154541, 6.5275044441223145, 5.620442867279053, 2.4160008430480957, 2.4159977436065674, 2.4159977436065674, 2.416001081466675, 2.4160003662109375, 2.4160003662109375, 2.4160003662109375, 2.4159693717956543, 2.4159693717956543, 2.4159607887268066, 2.4158689975738525, 2.415832281112671, 4.808948993682861, 4.869731426239014, 8.174812316894531, 6.417696952819824, 3.9972422122955322, 4.01296854019165, 4.013078212738037, 4.876707553863525, 4.092178821563721, 9.48248291015625, 5.610201835632324, 23.819766998291016, 68.9953384399414, 7.146903991699219, 23.350419998168945, 19.592164993286133, 30.590639114379883, 113.86402893066406, 4.77609920501709, 11.403485298156738, 48.71804428100586, 10.712858200073242, 20.536962509155273, 24.62902069091797, 27.700897216796875, 65.00300598144531, 13.536187171936035, 12.94584846496582, 23.66905975341797, 15.859477996826172, 27.904067993164062, 13.736687660217285, 22.129623413085938, 22.932767868041992, 13.808503150939941, 78.25373077392578, 28.851884841918945, 95.46100616455078, 8.64649772644043, 7.075699806213379, 3.934083938598633, 3.148678779602051, 3.1486785411834717, 3.14864182472229, 2.3632700443267822, 2.363269805908203, 2.3632705211639404, 2.3632702827453613, 2.3632702827453613, 2.3632702827453613, 2.363269805908203, 2.3632700443267822, 2.363269805908203, 2.3632702827453613, 2.3632705211639404, 2.3632705211639404, 2.3632705211639404, 2.3632705211639404, 2.3632705211639404, 2.3632707595825195, 2.3632707595825195, 2.3632705211639404, 2.363223075866699, 2.363171100616455, 2.3631556034088135, 2.3631556034088135, 2.363118886947632, 4.764252185821533, 6.41403865814209, 13.04851245880127, 16.921117782592773, 4.697140216827393, 5.43973445892334, 3.8848683834075928, 4.013054847717285, 4.013078212738037, 26.845510482788086, 16.93805503845215, 6.304125785827637, 23.350419998168945, 5.5572991371154785, 65.00300598144531, 14.457782745361328, 30.590639114379883, 4.8432416915893555, 3.992621421813965, 8.256753921508789, 4.877687454223633, 8.544476509094238, 26.595529556274414, 13.860654830932617, 20.77899169921875, 28.31642723083496, 95.46100616455078, 68.9953384399414, 78.25373077392578, 113.86402893066406, 19.592164993286133, 15.463053703308105, 15.859477996826172, 24.31302261352539, 16.306812286376953, 6.179513454437256, 3.8707096576690674, 3.8707101345062256, 3.1011507511138916, 3.1011509895324707, 3.1011509895324707, 2.3315885066986084, 2.3315889835357666, 2.3315889835357666, 2.3315889835357666, 2.3315529823303223, 3.8510305881500244, 3.8510305881500244, 3.8862619400024414, 7.645791053771973, 3.965535879135132, 5.4322357177734375, 5.59972620010376, 1.5620148181915283, 1.5620148181915283, 1.5620148181915283, 1.5620150566101074, 1.5620150566101074, 1.5620149374008179, 1.5620149374008179, 1.5620149374008179, 1.5620149374008179, 1.5620149374008179, 1.5620149374008179, 1.5620149374008179, 1.5620149374008179, 1.5620149374008179, 1.5620149374008179, 27.594484329223633, 1.5620149374008179, 1.5620149374008179, 1.5620149374008179, 6.079461097717285, 1.5620148181915283, 1.5620148181915283, 3.0677781105041504, 3.0677783489227295, 4.715423107147217, 3.161731243133545, 78.25373077392578, 3.1959071159362793, 3.1959874629974365, 5.350937366485596, 7.228074073791504, 4.722534656524658, 9.60432243347168, 28.31642723083496, 19.06521987915039, 5.6162109375, 16.10109519958496, 18.794092178344727, 22.672466278076172, 20.77899169921875, 25.924848556518555, 27.904067993164062, 7.146903991699219, 113.86402893066406, 65.00300598144531, 12.822027206420898, 13.955851554870605, 14.457782745361328, 15.299515724182129, 9.586381912231445, 20.679758071899414, 30.215721130371094, 9.436086654663086, 4.542319297790527, 4.542450904846191, 28.851884841918945, 3.7923595905303955, 3.042384386062622, 3.0423805713653564, 3.0423803329467773, 9.831182479858398, 2.2924141883850098, 2.2924141883850098, 2.292414665222168, 2.2924091815948486, 2.2924089431762695, 2.2924094200134277, 2.2924094200134277, 16.803998947143555, 3.7786059379577637, 3.8540279865264893, 4.694972991943359, 5.313833713531494, 3.9218199253082275, 1.542433738708496, 1.5424339771270752, 1.5424339771270752, 1.5424338579177856, 1.5424339771270752, 1.5424339771270752, 1.5424343347549438, 1.5424343347549438, 1.5424339771270752, 1.5424342155456543, 10.908201217651367, 1.5424343347549438, 1.5424342155456543, 1.5424342155456543, 4.514858722686768, 4.514859199523926, 3.0286037921905518, 3.028604030609131, 3.0618741512298584, 4.702890396118164, 3.104062795639038, 3.104063034057617, 68.9953384399414, 18.533611297607422, 95.46100616455078, 15.145566940307617, 5.251134872436523, 7.903757572174072, 113.86402893066406, 20.536962509155273, 9.64626407623291, 5.350937366485596, 65.00300598144531, 27.594484329223633, 16.636817932128906, 27.700897216796875, 78.25373077392578, 24.62902069091797, 12.555292129516602, 13.784882545471191, 23.819766998291016, 30.590639114379883, 11.55744457244873, 8.670105934143066, 6.318512916564941, 3.0013041496276855, 2.265028953552246, 2.265028715133667, 2.2650296688079834, 2.265029191970825, 2.2650294303894043, 2.2650296688079834, 10.457742691040039, 15.299515724182129, 5.370957374572754, 1.5287444591522217, 1.5287444591522217, 1.5287444591522217, 1.5287444591522217, 1.5287444591522217, 1.5287444591522217, 1.5287444591522217, 1.5287444591522217, 1.5287444591522217, 1.5287444591522217, 1.5287444591522217, 1.5287443399429321, 1.5287444591522217, 1.5287444591522217, 1.5287443399429321, 1.5287444591522217, 1.5287443399429321, 1.5287444591522217, 1.5287444591522217, 1.5287444591522217, 1.5287444591522217, 1.5287444591522217, 1.5287444591522217, 1.5287444591522217, 1.5287444591522217, 1.5287444591522217, 3.0149085521698, 3.0344719886779785, 3.0502066612243652, 3.128950834274292, 18.794092178344727, 30.215721130371094, 9.471004486083984, 5.251134872436523, 22.672466278076172, 5.411331653594971, 5.412544250488281, 7.772294044494629, 5.4799675941467285, 6.079461097717285, 13.955851554870605, 3.8617663383483887, 3.8884668350219727, 10.835912704467773, 78.25373077392578, 20.536962509155273, 113.86402893066406, 12.735530853271484, 28.31642723083496, 65.00300598144531, 24.67622947692871, 7.734687805175781, 95.46100616455078, 27.904067993164062, 26.595529556274414, 7.192569732666016, 23.819766998291016, 6.279965400695801, 16.10109519958496, 68.9953384399414, 19.06521987915039, 22.129623413085938, 16.060762405395508, 25.924848556518555], \"loglift\": [30.0, 29.0, 28.0, 27.0, 26.0, 25.0, 24.0, 23.0, 22.0, 21.0, 20.0, 19.0, 18.0, 17.0, 16.0, 15.0, 14.0, 13.0, 12.0, 11.0, 10.0, 9.0, 8.0, 7.0, 6.0, 5.0, 4.0, 3.0, 2.0, 1.0, 1.4089000225067139, 1.3360999822616577, 1.3360999822616577, 1.3049999475479126, 1.3046000003814697, 1.2668999433517456, 1.2561999559402466, 1.2561999559402466, 1.2561999559402466, 1.2561999559402466, 1.2561999559402466, 1.2559000253677368, 1.19760000705719, 1.1887999773025513, 1.1857000589370728, 1.1678999662399292, 1.1678999662399292, 1.1678999662399292, 1.1678999662399292, 1.1678999662399292, 1.1678999662399292, 1.1678999662399292, 1.1678999662399292, 1.1678999662399292, 1.1678999662399292, 1.1678999662399292, 1.1678999662399292, 1.1678999662399292, 1.1678999662399292, 1.1678999662399292, 1.1575000286102295, 1.1306999921798706, 1.1384999752044678, 1.0175000429153442, 1.0461000204086304, 0.8501999974250793, 1.0313999652862549, 0.8949999809265137, 0.7731000185012817, 0.9667999744415283, 0.8711000084877014, 0.8052999973297119, 0.7117999792098999, 0.9657999873161316, 0.9225000143051147, 0.7940000295639038, 0.5861999988555908, 0.18330000340938568, 0.5945000052452087, 0.6353999972343445, -0.148499995470047, -0.019899999722838402, 0.5637999773025513, 0.35740000009536743, 0.26930001378059387, 0.2996000051498413, 0.20730000734329224, 0.3292999863624573, 0.057999998331069946, 0.4185999929904938, 0.5774000287055969, -0.8245000243186951, 1.6656999588012695, 1.6294000148773193, 1.6062999963760376, 1.583899974822998, 1.583799958229065, 1.583799958229065, 1.5514999628067017, 1.5476000308990479, 1.5436999797821045, 1.5255000591278076, 1.5006999969482422, 1.5006999969482422, 1.5006999969482422, 1.5006999969482422, 1.4864000082015991, 1.478700041770935, 1.4638999700546265, 1.4392000436782837, 1.426300048828125, 1.4091999530792236, 1.4091999530792236, 1.4091999530792236, 1.4091999530792236, 1.4091999530792236, 1.4091999530792236, 1.4091999530792236, 1.4091999530792236, 1.4091999530792236, 1.4091999530792236, 1.4091999530792236, 1.3808000087738037, 1.373900055885315, 1.3868000507354736, 1.3417999744415283, 1.2789000272750854, 1.242900013923645, 1.2984000444412231, 1.2839000225067139, 1.1550999879837036, 1.1700999736785889, 1.1196999549865723, 1.1128000020980835, 0.4560000002384186, 0.7727000117301941, 0.9902999997138977, 0.6959999799728394, 0.8278999924659729, 0.8438000082969666, 0.8123999834060669, 0.6851999759674072, 0.625, 0.3691999912261963, 0.9419999718666077, 0.49540001153945923, 0.1738000065088272, -0.5907999873161316, -0.7731000185012817, -0.9491999745368958, 1.705199956893921, 1.653499960899353, 1.653499960899353, 1.65339994430542, 1.65339994430542, 1.6195000410079956, 1.5911999940872192, 1.5601999759674072, 1.5601999759674072, 1.5601999759674072, 1.5601999759674072, 1.5601999759674072, 1.5601999759674072, 1.5601999759674072, 1.5600999593734741, 1.5600999593734741, 1.559999942779541, 1.5597000122070312, 1.5595999956130981, 1.530900001525879, 1.5184999704360962, 1.5037000179290771, 1.4586999416351318, 1.4397000074386597, 1.4357999563217163, 1.4357000589370728, 1.4217000007629395, 1.416200041770935, 1.3968000411987305, 1.3767999410629272, 1.277899980545044, 0.954200029373169, 1.2892999649047852, 0.9923999905586243, 1.0089000463485718, 0.8827999830245972, 0.33090001344680786, 1.329300045967102, 0.9768000245094299, 0.33160001039505005, 0.946399986743927, 0.6692000031471252, 0.5785999894142151, 0.47540000081062317, -0.03929999843239784, 0.7605999708175659, 0.7843999862670898, 0.4090999960899353, 0.6265000104904175, 0.24279999732971191, 0.697700023651123, 0.3828999996185303, 0.2939000129699707, 0.6244000196456909, -0.8766999840736389, -0.046300001442432404, -1.1776000261306763, 1.9731999635696411, 1.9539999961853027, 1.8652000427246094, 1.8116999864578247, 1.8116999864578247, 1.8115999698638916, 1.7156000137329102, 1.7156000137329102, 1.7156000137329102, 1.7156000137329102, 1.7156000137329102, 1.7156000137329102, 1.7156000137329102, 1.7156000137329102, 1.7156000137329102, 1.7156000137329102, 1.7156000137329102, 1.7156000137329102, 1.7156000137329102, 1.7156000137329102, 1.7156000137329102, 1.7156000137329102, 1.7156000137329102, 1.7156000137329102, 1.715399980545044, 1.7151999473571777, 1.715000033378601, 1.715000033378601, 1.714900016784668, 1.673799991607666, 1.5927000045776367, 1.457900047302246, 1.3776999711990356, 1.5851999521255493, 1.541200041770935, 1.6016000509262085, 1.569200038909912, 1.569100022315979, 0.9987000226974487, 1.0812000036239624, 1.3937000036239624, 0.8507999777793884, 1.3840999603271484, 0.3686999976634979, 0.9575999975204468, 0.60589998960495, 1.381100058555603, 1.47160005569458, 1.1236000061035156, 1.3739999532699585, 1.0896999835968018, 0.44369998574256897, 0.7874000072479248, 0.5566999912261963, 0.25589999556541443, -0.5321999788284302, -0.382099986076355, -0.5949000120162964, -1.0018999576568604, 0.310699999332428, 0.4964999854564667, 0.47119998931884766, 0.04390000179409981, 0.39739999175071716, 2.0422000885009766, 1.9666999578475952, 1.9666999578475952, 1.9121999740600586, 1.9121999740600586, 1.9121999740600586, 1.8143999576568604, 1.8143999576568604, 1.8143999576568604, 1.8143999576568604, 1.8141000270843506, 1.6956000328063965, 1.6956000328063965, 1.6864999532699585, 1.679800033569336, 1.6663000583648682, 1.6279000043869019, 1.597499966621399, 1.586300015449524, 1.586300015449524, 1.586300015449524, 1.586300015449524, 1.586300015449524, 1.586300015449524, 1.586300015449524, 1.586300015449524, 1.586300015449524, 1.586300015449524, 1.586300015449524, 1.586300015449524, 1.586300015449524, 1.586300015449524, 1.586300015449524, 1.5332000255584717, 1.586300015449524, 1.586300015449524, 1.586300015449524, 1.5153000354766846, 1.586300015449524, 1.586300015449524, 1.5399999618530273, 1.5399999618530273, 1.4931000471115112, 1.5096999406814575, 1.1497999429702759, 1.4990999698638916, 1.4989999532699585, 1.3665000200271606, 1.3092000484466553, 1.3652000427246094, 1.218000054359436, 0.9837999939918518, 1.048200011253357, 1.317199945449829, 0.9352999925613403, 0.7806000113487244, 0.5860000252723694, 0.590499997138977, 0.4442000091075897, 0.3921999931335449, 1.170799970626831, -0.46320000290870667, -0.33809998631477356, 0.76910001039505, 0.6843000054359436, 0.6489999890327454, 0.5924000144004822, 0.9505000114440918, 0.29109999537467957, -0.08820000290870667, 0.7993999719619751, 2.113800048828125, 2.1135001182556152, 2.0973000526428223, 2.077899932861328, 2.0220999717712402, 2.0220000743865967, 2.0220000743865967, 2.0208001136779785, 1.9220999479293823, 1.9220999479293823, 1.9220999479293823, 1.9220000505447388, 1.9220000505447388, 1.9220000505447388, 1.9220000505447388, 1.8854999542236328, 1.8051999807357788, 1.785599946975708, 1.7800999879837036, 1.7407000064849854, 1.7254999876022339, 1.6897000074386597, 1.6897000074386597, 1.6897000074386597, 1.6897000074386597, 1.6897000074386597, 1.6897000074386597, 1.6897000074386597, 1.6897000074386597, 1.6897000074386597, 1.6897000074386597, 1.6402000188827515, 1.6897000074386597, 1.6897000074386597, 1.6897000074386597, 1.6274000406265259, 1.6274000406265259, 1.6435999870300293, 1.6435999870300293, 1.632699966430664, 1.5865000486373901, 1.61899995803833, 1.61899995803833, 1.0580999851226807, 1.2065000534057617, 0.7802000045776367, 1.2161999940872192, 1.4763000011444092, 1.3437000513076782, -0.09709999710321426, 0.7827000021934509, 1.1445000171661377, 1.4573999643325806, 0.07959999889135361, 0.5526000261306763, 0.815500020980835, 0.48350000381469727, -0.2126999944448471, 0.3889999985694885, 0.8808000087738037, 0.7046999931335449, 0.23960000276565552, -0.009700000286102295, 0.820900022983551, 0.9749000072479248, 1.2913000583648682, 2.0710999965667725, 1.969599962234497, 1.969599962234497, 1.969599962234497, 1.969599962234497, 1.969599962234497, 1.969599962234497, 1.8904000520706177, 1.7940000295639038, 1.7654999494552612, 1.7339999675750732, 1.7339999675750732, 1.7339999675750732, 1.7339999675750732, 1.7339999675750732, 1.7339999675750732, 1.7339999675750732, 1.7339999675750732, 1.7339999675750732, 1.7339999675750732, 1.7339999675750732, 1.7339999675750732, 1.7339999675750732, 1.7339999675750732, 1.7339999675750732, 1.7339999675750732, 1.7339999675750732, 1.7339999675750732, 1.7339999675750732, 1.7339999675750732, 1.7339999675750732, 1.7339999675750732, 1.7339999675750732, 1.7339999675750732, 1.7339999675750732, 1.7339999675750732, 1.6835999488830566, 1.6770999431610107, 1.6720000505447388, 1.6464999914169312, 1.3044999837875366, 1.2148000001907349, 1.4143999814987183, 1.5117000341415405, 1.1985000371932983, 1.4814000129699707, 1.4811999797821045, 1.395900011062622, 1.469099998474121, 1.3652000427246094, 1.0268000364303589, 1.4361000061035156, 1.4292000532150269, 1.0634000301361084, 0.26820001006126404, 0.7613999843597412, 0.031099999323487282, 0.9021000266075134, 0.4970000088214874, 0.06360000371932983, 0.45680001378059387, 1.124500036239624, -0.42089998722076416, 0.18809999525547028, 0.22190000116825104, 1.1500999927520752, 0.27900001406669617, 1.1943999528884888, 0.42570000886917114, -0.8707000017166138, 0.26759999990463257, 0.09539999812841415, 0.3939000070095062, -0.08500000089406967], \"logprob\": [30.0, 29.0, 28.0, 27.0, 26.0, 25.0, 24.0, 23.0, 22.0, 21.0, 20.0, 19.0, 18.0, 17.0, 16.0, 15.0, 14.0, 13.0, 12.0, 11.0, 10.0, 9.0, 8.0, 7.0, 6.0, 5.0, 4.0, 3.0, 2.0, 1.0, -4.751699924468994, -5.524700164794922, -5.524700164794922, -5.741000175476074, -5.741499900817871, -5.196300029754639, -6.017199993133545, -6.017199993133545, -6.017199993133545, -6.017199993133545, -6.017199993133545, -6.017600059509277, -5.526599884033203, -5.524700164794922, -5.524700164794922, -6.400300025939941, -6.400300025939941, -6.400300025939941, -6.400300025939941, -6.400300025939941, -6.400300025939941, -6.400300025939941, -6.400300025939941, -6.400300025939941, -6.400300025939941, -6.400300025939941, -6.400300025939941, -6.400300025939941, -6.400300025939941, -6.400300025939941, -4.203100204467773, -5.228000164031982, -5.592199802398682, -4.665599822998047, -4.99970006942749, -3.084199905395508, -5.347099781036377, -5.065199851989746, -4.623000144958496, -5.524700164794922, -5.166900157928467, -4.949399948120117, -4.577400207519531, -5.623199939727783, -5.461299896240234, -5.184000015258789, -4.701099872589111, -4.13539981842041, -4.869500160217285, -5.078800201416016, -3.906599998474121, -4.1529998779296875, -5.009799957275391, -4.845600128173828, -4.902400016784668, -4.938300132751465, -4.877500057220459, -4.972799777984619, -5.117499828338623, -5.244900226593018, -5.347099781036377, -5.083600044250488, -4.451900005340576, -4.167200088500977, -5.133399963378906, -5.311100006103516, -5.311100006103516, -5.311100006103516, -5.527299880981445, -5.531199932098389, -4.743800163269043, -4.851399898529053, -5.803500175476074, -5.803500175476074, -5.803500175476074, -5.803500175476074, -5.133299827575684, -3.1282999515533447, -5.144400119781494, -5.311100006103516, -4.492499828338623, -6.186500072479248, -6.186500072479248, -6.186500072479248, -6.186500072479248, -6.186500072479248, -6.186500072479248, -6.186500072479248, -6.186500072479248, -6.186500072479248, -6.186500072479248, -6.186500072479248, -4.747399806976318, -4.851500034332275, -5.527400016784668, -4.522299766540527, -4.050000190734863, -4.8769001960754395, -5.310999870300293, -5.311100006103516, -4.561600208282471, -4.746200084686279, -4.581900119781494, -4.649600028991699, -3.3020999431610107, -4.439700126647949, -4.9847002029418945, -4.591300010681152, -4.7916998863220215, -4.837699890136719, -4.851900100708008, -4.77400016784668, -4.838900089263916, -4.795100212097168, -5.139599800109863, -5.022500038146973, -4.997900009155273, -4.90939998626709, -5.032199859619141, -5.082300186157227, -5.3917999267578125, -5.667799949645996, -5.667799949645996, -5.668000221252441, -5.668000221252441, -4.997600078582764, -5.17549991607666, -6.05079984664917, -6.05079984664917, -6.05079984664917, -6.05079984664917, -6.05079984664917, -6.05079984664917, -6.05079984664917, -6.051000118255615, -6.051000118255615, -6.051000118255615, -6.051300048828125, -6.051499843597412, -5.39169979095459, -5.391499996185303, -4.888299942016602, -5.175300121307373, -5.667799949645996, -5.667799949645996, -5.667799949645996, -5.4868998527526855, -5.667799949645996, -4.84689998626709, -5.39169979095459, -4.0447001457214355, -3.304800033569336, -5.237199783325195, -4.350100040435791, -4.509099960327148, -4.189599990844727, -3.4272000789642334, -5.600200176239014, -5.082300186157227, -4.275400161743164, -5.175300121307373, -4.801700115203857, -4.710599899291992, -4.696300029754639, -4.357999801635742, -5.127200126647949, -5.147900104522705, -4.9197998046875, -5.102799892425537, -4.921599864959717, -5.175300121307373, -5.013299942016602, -5.0665998458862305, -5.2434000968933105, -5.009799957275391, -5.177299976348877, -5.111999988555908, -4.362800121307373, -4.582399845123291, -5.258200168609619, -5.53439998626709, -5.53439998626709, -5.534599781036377, -5.917500019073486, -5.917500019073486, -5.917500019073486, -5.917500019073486, -5.917500019073486, -5.917500019073486, -5.917500019073486, -5.917500019073486, -5.917500019073486, -5.917500019073486, -5.917500019073486, -5.917500019073486, -5.917500019073486, -5.917500019073486, -5.917500019073486, -5.917500019073486, -5.917500019073486, -5.917500019073486, -5.917699813842773, -5.917900085449219, -5.918099880218506, -5.918099880218506, -5.9182000160217285, -5.258200168609619, -5.041900157928467, -4.466599941253662, -4.286900043487549, -5.361000061035156, -5.258200168609619, -5.53439998626709, -5.53439998626709, -5.53439998626709, -4.2042999267578125, -4.582399845123291, -5.258200168609619, -4.491700172424316, -5.393899917602539, -3.950000047683716, -4.864200115203857, -4.4664998054504395, -5.53439998626709, -5.63700008392334, -5.258500099182129, -5.53439998626709, -5.2581000328063965, -4.768700122833252, -5.076700210571289, -4.902400016784668, -4.893799781799316, -4.466599941253662, -4.641200065612793, -4.728000164031982, -4.760000228881836, -5.207300186157227, -5.258200168609619, -5.258200168609619, -5.258200168609619, -5.304200172424316, -4.629700183868408, -5.172900199890137, -5.172900199890137, -5.44920015335083, -5.44920015335083, -5.44920015335083, -5.832200050354004, -5.832200050354004, -5.832200050354004, -5.832200050354004, -5.832499980926514, -5.44920015335083, -5.44920015335083, -5.449100017547607, -4.779200077056885, -5.449100017547607, -5.172900199890137, -5.172900199890137, -6.460899829864502, -6.460899829864502, -6.460899829864502, -6.460899829864502, -6.460899829864502, -6.460899829864502, -6.460899829864502, -6.460899829864502, -6.460899829864502, -6.460899829864502, -6.460899829864502, -6.460899829864502, -6.460899829864502, -6.460899829864502, -6.460899829864502, -3.6422998905181885, -6.460899829864502, -6.460899829864502, -6.460899829864502, -5.172900199890137, -6.460899829864502, -6.460899829864502, -5.832200050354004, -5.832200050354004, -5.44920015335083, -5.832300186157227, -2.9834001064300537, -5.832200050354004, -5.832200050354004, -5.449399948120117, -5.205999851226807, -5.5756001472473145, -5.012899875640869, -4.165900230407715, -4.497099876403809, -5.450200080871582, -4.7789998054504395, -4.7789998054504395, -4.785999774932861, -4.868599891662598, -4.793700218200684, -4.77209997177124, -5.355599880218506, -4.22130012512207, -4.656799793243408, -5.172900199890137, -5.172900199890137, -5.172900199890137, -5.172900199890137, -5.282299995422363, -5.172900199890137, -5.172900199890137, -5.449100017547607, -4.865900039672852, -4.866199970245361, -3.033600091934204, -5.082200050354004, -5.358399868011475, -5.358399868011475, -5.358399868011475, -4.186699867248535, -5.741399765014648, -5.741399765014648, -5.741399765014648, -5.741499900817871, -5.741499900817871, -5.741499900817871, -5.741499900817871, -3.785900115966797, -5.35860013961792, -5.358399868011475, -5.166500091552734, -5.082099914550781, -5.401000022888184, -6.369999885559082, -6.369999885559082, -6.369999885559082, -6.369999885559082, -6.369999885559082, -6.369999885559082, -6.369999885559082, -6.369999885559082, -6.369999885559082, -6.369999885559082, -4.463399887084961, -6.369999885559082, -6.369999885559082, -6.369999885559082, -5.358399868011475, -5.358399868011475, -5.741399765014648, -5.741399765014648, -5.741399765014648, -5.358399868011475, -5.741399765014648, -5.741399765014648, -3.2009999752044678, -4.367000102996826, -3.1542000770568848, -4.559199810028076, -5.358399868011475, -5.082099914550781, -3.8552000522613525, -4.6880998611450195, -5.082099914550781, -5.358399868011475, -4.239099979400635, -4.622900009155273, -4.866000175476074, -4.6880998611450195, -4.345900058746338, -4.900100231170654, -5.082200050354004, -5.164899826049805, -5.083000183105469, -5.082099914550781, -5.224899768829346, -5.35830020904541, -5.35830020904541, -5.32289981842041, -5.705999851226807, -5.705999851226807, -5.705999851226807, -5.705999851226807, -5.705999851226807, -5.705999851226807, -4.255300045013428, -3.971299886703491, -5.046599864959717, -6.33459997177124, -6.33459997177124, -6.33459997177124, -6.33459997177124, -6.33459997177124, -6.33459997177124, -6.33459997177124, -6.33459997177124, -6.33459997177124, -6.33459997177124, -6.33459997177124, -6.33459997177124, -6.33459997177124, -6.33459997177124, -6.33459997177124, -6.33459997177124, -6.33459997177124, -6.33459997177124, -6.33459997177124, -6.33459997177124, -6.33459997177124, -6.33459997177124, -6.33459997177124, -6.33459997177124, -6.33459997177124, -6.33459997177124, -5.705900192260742, -5.705900192260742, -5.705900192260742, -5.705900192260742, -4.255000114440918, -3.8698999881744385, -4.830399990081787, -5.32289981842041, -4.173500061035156, -5.323200225830078, -5.323200225830078, -5.046599864959717, -5.32289981842041, -5.32289981842041, -4.830399990081787, -5.705900192260742, -5.705900192260742, -5.046800136566162, -3.8649001121520996, -4.709499835968018, -3.7269999980926514, -5.0467000007629395, -4.652699947357178, -4.255099773406982, -4.830399990081787, -5.32289981842041, -4.355199813842773, -4.976200103759766, -4.990499973297119, -5.369999885559082, -5.043600082397461, -5.461299896240234, -5.28849983215332, -5.129799842834473, -5.277599811553955, -5.30079984664917, -5.32289981842041, -5.32289981842041]}, \"token.table\": {\"Topic\": [1, 2, 1, 4, 5, 7, 2, 4, 6, 7, 6, 3, 4, 4, 6, 7, 4, 1, 2, 5, 6, 7, 5, 7, 1, 2, 4, 5, 7, 2, 4, 6, 7, 1, 2, 3, 4, 5, 6, 7, 3, 6, 4, 6, 7, 1, 2, 4, 6, 7, 1, 4, 6, 6, 1, 2, 5, 6, 7, 1, 2, 3, 5, 6, 7, 5, 6, 7, 1, 2, 3, 7, 1, 4, 5, 4, 2, 3, 5, 2, 3, 4, 1, 2, 3, 6, 7, 7, 2, 3, 5, 6, 7, 3, 1, 2, 4, 5, 7, 1, 2, 3, 6, 6, 5, 7, 2, 5, 7, 1, 2, 3, 5, 6, 7, 4, 3, 5, 4, 5, 7, 6, 1, 2, 3, 4, 5, 7, 7, 2, 6, 1, 2, 3, 3, 5, 4, 7, 6, 7, 1, 1, 4, 5, 7, 4, 6, 7, 6, 1, 4, 7, 1, 2, 3, 4, 6, 7, 1, 2, 5, 6, 4, 6, 2, 2, 2, 6, 2, 1, 5, 3, 4, 2, 6, 7, 5, 7, 1, 2, 3, 4, 5, 6, 1, 2, 3, 4, 6, 6, 4, 5, 1, 1, 2, 3, 4, 5, 6, 7, 1, 2, 3, 4, 6, 7, 1, 2, 3, 4, 6, 3, 5, 1, 6, 1, 2, 3, 4, 5, 6, 7, 1, 3, 4, 5, 6, 7, 6, 6, 3, 1, 5, 7, 3, 5, 1, 6, 2, 6, 7, 1, 2, 3, 4, 1, 2, 3, 4, 5, 2, 3, 7, 5, 3, 1, 2, 4, 4, 1, 1, 3, 1, 4, 5, 6, 6, 7, 7, 3, 1, 2, 3, 6, 7, 1, 2, 3, 6, 7, 2, 3, 1, 5, 4, 7, 1, 3, 2, 3, 5, 6, 1, 3, 3, 5, 6, 4, 1, 2, 3, 4, 5, 6, 7, 1, 6, 2, 4, 5, 6, 3, 4, 6, 7, 7, 5, 6, 7, 2, 4, 5, 6, 7, 3, 6, 7, 1, 4, 5, 2, 7, 4, 1, 6, 2, 3, 4, 5, 6, 7, 7, 2, 7, 1, 3, 4, 4, 3, 5, 5, 6, 2, 3, 1, 2, 4, 5, 7, 1, 2, 3, 4, 5, 6, 7, 1, 1, 2, 4, 1, 3, 4, 2, 3, 7, 5, 2, 4, 1, 4, 7, 6, 7, 5, 7, 1, 3, 4, 6, 7, 6, 1, 7, 6, 7, 1, 2, 3, 4, 5, 7, 2, 3, 4, 2, 7, 2, 6, 6, 1, 2, 4, 1, 2, 3, 4, 5, 6, 7, 1, 3, 6, 7, 1, 2, 3, 5, 7, 3, 4, 7, 2, 2, 5, 5, 1, 3, 5, 6, 2, 3, 4, 5, 6, 2, 3, 4, 6, 7, 1, 2, 3, 4, 5, 6, 7, 1, 4, 3, 2, 3, 7, 7, 7, 4, 1, 4, 5, 1, 5, 1, 2, 4, 5, 6, 7, 3, 4, 5, 6, 7, 5, 1, 5, 6, 1, 2, 3, 5, 6, 7, 1, 2, 5, 7, 1, 5, 7, 5, 2, 3, 4, 5, 7, 3, 5, 1, 4, 6, 6, 1, 2, 3, 4, 7, 1, 2, 6, 7, 1, 2, 3, 6, 3, 1, 3, 4, 5, 6, 5, 7, 1, 5, 1, 2, 3, 4, 1, 2, 4, 5, 7, 7, 3, 4, 1, 6, 1, 5, 7, 3, 4, 6, 7, 7, 7, 4, 1, 2, 3, 4, 5, 7, 3, 4, 1, 5, 2, 1, 2, 3, 6, 5, 1, 4, 7, 2, 4, 5, 3, 1, 4, 5, 1, 2, 4, 5, 6, 7, 1, 2, 4, 5, 6, 1, 2, 4, 5, 6, 7, 5, 2, 2, 7, 1, 2, 3, 4, 5, 7, 3, 6, 1, 6, 7, 2, 1, 7, 7, 7, 6, 7, 6, 7, 4, 1, 5, 1, 5, 5, 5, 1, 1, 2, 5, 4, 4, 6, 2, 4, 2, 5, 7, 3, 7, 1, 2, 5, 6, 1, 6, 1, 1, 2, 1, 5, 2, 3, 4, 6, 7, 2, 4, 5, 6, 7, 5, 5, 1, 2, 3, 4, 1, 3, 5, 2, 5, 1, 4, 6, 2, 5, 6, 1, 1, 2, 3, 7, 3, 1, 2, 4, 5, 6, 7, 2, 1, 3, 6, 1, 3, 1, 3, 1, 1, 2, 3, 4, 6, 7, 4, 5, 1, 2, 5, 5, 7, 5, 4, 1, 2, 3, 4, 5, 7, 1, 2, 3, 4, 7, 7, 5, 3, 5, 1, 4, 5, 7, 4, 1, 7, 3, 2, 3, 5, 7, 5, 6, 7, 6, 2, 4, 5, 2, 3, 5, 6, 7, 1, 3, 5, 7, 1, 3, 5, 6, 1, 1, 2, 3, 4, 5, 6, 7, 6, 2, 4, 5, 1, 2, 3, 4, 5, 6, 7, 5, 3, 2, 2, 3, 1, 2, 3, 4, 5, 6, 7, 5, 6, 7, 1, 2, 3, 5, 6, 7, 4, 1, 2, 1, 2, 3, 4, 5, 6, 7, 4], \"Freq\": [0.6727731823921204, 0.1681932955980301, 0.2660410404205322, 0.10641641914844513, 0.2660410404205322, 0.37245747447013855, 0.8090679049491882, 0.8462849259376526, 0.5292957425117493, 0.26464787125587463, 0.6483259797096252, 0.7475762367248535, 0.24919208884239197, 0.8463391661643982, 0.6603702306747437, 0.3301851153373718, 0.8463259935379028, 0.1292877048254013, 0.1292877048254013, 0.2585754096508026, 0.2585754096508026, 0.2585754096508026, 0.49346479773521423, 0.3289765417575836, 0.27666759490966797, 0.06916689872741699, 0.34583449363708496, 0.20750069618225098, 0.06916689872741699, 0.47479525208473206, 0.15826508402824402, 0.31653016805648804, 0.6541315317153931, 0.10751120746135712, 0.25085946917533875, 0.17918534576892853, 0.07167413830757141, 0.17918534576892853, 0.07167413830757141, 0.10751120746135712, 0.32215842604637146, 0.6443168520927429, 0.18818804621696472, 0.5645641684532166, 0.18818804621696472, 0.37769216299057007, 0.16186808049678802, 0.05395602434873581, 0.32373616099357605, 0.05395602434873581, 0.5405024290084839, 0.13512560725212097, 0.27025121450424194, 0.8724426627159119, 0.43475303053855896, 0.06210757791996002, 0.3105378746986389, 0.06210757791996002, 0.12421515583992004, 0.26476284861564636, 0.16547676920890808, 0.09928606450557709, 0.09928606450557709, 0.033095356076955795, 0.33095353841781616, 0.6539545655250549, 0.2615818381309509, 0.13079091906547546, 0.2780647277832031, 0.13903236389160156, 0.2780647277832031, 0.2780647277832031, 0.24918672442436218, 0.49837344884872437, 0.6401987671852112, 0.846284806728363, 0.7593337893486023, 0.15186674892902374, 0.6449218392372131, 0.7799984812736511, 0.20526275038719177, 0.6351870894432068, 0.19477076828479767, 0.09738538414239883, 0.2921561598777771, 0.2434634566307068, 0.19477076828479767, 0.8829907178878784, 0.44839218258857727, 0.1793568730354309, 0.08967843651771545, 0.1793568730354309, 0.08967843651771545, 0.8278142809867859, 0.31408190727233887, 0.15704095363616943, 0.15704095363616943, 0.15704095363616943, 0.23556144535541534, 0.7412973642349243, 0.04360572621226311, 0.21802863478660583, 0.6573799252510071, 0.8724445104598999, 0.6519376039505005, 0.32596880197525024, 0.8153056502342224, 0.6519376039505005, 0.32596880197525024, 0.22053180634975433, 0.08821272104978561, 0.08821272104978561, 0.22053180634975433, 0.08821272104978561, 0.30874451994895935, 0.846284806728363, 0.5596829056739807, 0.41976219415664673, 0.5514975190162659, 0.18383249640464783, 0.18383249640464783, 0.8805819153785706, 0.8860129714012146, 0.10597613453865051, 0.31792840361595154, 0.10597613453865051, 0.21195226907730103, 0.21195226907730103, 0.8829910159111023, 0.8767582178115845, 0.06744293868541718, 0.0931718647480011, 0.6522030234336853, 0.2795155942440033, 0.9294473528862, 0.6401987671852112, 0.3278466463088989, 0.6556932926177979, 0.7910642027854919, 0.8829908967018127, 0.7931546568870544, 0.1586262732744217, 0.47587883472442627, 0.1586262732744217, 0.1586262732744217, 0.8462847471237183, 0.44298169016838074, 0.44298169016838074, 0.6483258605003357, 0.48445188999176025, 0.3633389174938202, 0.6541315317153931, 0.10145612806081772, 0.08696239441633224, 0.3913307785987854, 0.08696239441633224, 0.2898746430873871, 0.04348119720816612, 0.3110012412071228, 0.3110012412071228, 0.10366708040237427, 0.3110012412071228, 0.8479726910591125, 0.64832603931427, 0.8153054714202881, 0.8153054714202881, 0.8153055906295776, 0.8724445104598999, 0.8153055906295776, 0.7931545376777649, 0.6401987671852112, 0.5347400903701782, 0.35649341344833374, 0.3695947825908661, 0.18479739129543304, 0.3695947825908661, 0.32954663038253784, 0.6590932607650757, 0.16344869136810303, 0.06537947803735733, 0.3595871329307556, 0.22882817685604095, 0.06537947803735733, 0.0980692133307457, 0.08565156161785126, 0.12847734987735748, 0.4282578229904175, 0.2997804880142212, 0.08565156161785126, 0.8724424839019775, 0.63868647813797, 0.2128954976797104, 0.8859544992446899, 0.19321291148662567, 0.28103694319725037, 0.21077771484851837, 0.043912023305892944, 0.07025923579931259, 0.09660645574331284, 0.09660645574331284, 0.28879931569099426, 0.2165994793176651, 0.2526994049549103, 0.03609991446137428, 0.18049956858158112, 0.03609991446137428, 0.28967657685279846, 0.14483828842639923, 0.28967657685279846, 0.14483828842639923, 0.14483828842639923, 0.7116876840591431, 0.17792192101478577, 0.7931543588638306, 0.6483258008956909, 0.5342495441436768, 0.041901927441358566, 0.041901927441358566, 0.07332836836576462, 0.020950963720679283, 0.21998511254787445, 0.0628528892993927, 0.2911910116672516, 0.2911910116672516, 0.1455955058336258, 0.0727977529168129, 0.0727977529168129, 0.1455955058336258, 0.8724445700645447, 0.8724446892738342, 0.8278720378875732, 0.1960846334695816, 0.1960846334695816, 0.588253915309906, 0.7505174279212952, 0.2501724660396576, 0.2129937708377838, 0.638981282711029, 0.7248368859291077, 0.10354813188314438, 0.20709626376628876, 0.10208162665367126, 0.3062448799610138, 0.40832650661468506, 0.1531224399805069, 0.06132406368851662, 0.5519165992736816, 0.12264812737703323, 0.18397219479084015, 0.06132406368851662, 0.1558191329240799, 0.6232765316963196, 0.1558191329240799, 0.6401987671852112, 0.8278144598007202, 0.7098637819290161, 0.11831063032150269, 0.11831063032150269, 0.8462847471237183, 0.7931548357009888, 0.5958284139633179, 0.29791420698165894, 0.3831854462623596, 0.5364596247673035, 0.3265973627567291, 0.6531947255134583, 0.6483259797096252, 0.6663770079612732, 0.6541315317153931, 0.9294309616088867, 0.09167414158582687, 0.09167414158582687, 0.09167414158582687, 0.5500448346138, 0.09167414158582687, 0.2280540019273758, 0.6081439852714539, 0.07601799815893173, 0.07601799815893173, 0.07601799815893173, 0.8153061866760254, 0.8278144598007202, 0.31290021538734436, 0.6258004307746887, 0.8462849855422974, 0.6541315317153931, 0.6748756170272827, 0.16871890425682068, 0.6337387561798096, 0.21124625205993652, 0.042249247431755066, 0.08449849486351013, 0.941006064414978, 0.8278153538703918, 0.18408626317977905, 0.5522587895393372, 0.18408626317977905, 0.846284806728363, 0.048125531524419785, 0.3368787169456482, 0.09625106304883957, 0.24062764644622803, 0.19250212609767914, 0.048125531524419785, 0.048125531524419785, 0.7931545376777649, 0.6483259797096252, 0.9136924147605896, 0.925230085849762, 0.6401987671852112, 0.6483259797096252, 0.6327456831932068, 0.1054576113820076, 0.1054576113820076, 0.2109152227640152, 0.882990837097168, 0.37376630306243896, 0.37376630306243896, 0.6541315317153931, 0.21496360003948212, 0.21496360003948212, 0.21496360003948212, 0.07165452837944031, 0.28661811351776123, 0.13863912224769592, 0.8318347334861755, 0.8829906582832336, 0.7931546568870544, 0.8462849855422974, 0.6401987671852112, 0.6185771226882935, 0.20619238913059235, 0.635187029838562, 0.6864809989929199, 0.17162024974822998, 0.420753538608551, 0.060107648372650146, 0.12021529674530029, 0.12021529674530029, 0.24043059349060059, 0.060107648372650146, 0.6541315317153931, 0.8153054714202881, 0.6541315317153931, 0.8859544396400452, 0.8278142213821411, 0.8462851047515869, 0.846284806728363, 0.8278594613075256, 0.8577840924263, 0.5193415284156799, 0.25967076420783997, 0.20505638420581818, 0.6151691675186157, 0.1286621391773224, 0.1286621391773224, 0.2573242783546448, 0.1286621391773224, 0.38598641753196716, 0.3290417790412903, 0.16452088952064514, 0.12339066714048386, 0.12339066714048386, 0.08226044476032257, 0.08226044476032257, 0.08226044476032257, 0.7931546568870544, 0.15590800344944, 0.15590800344944, 0.62363201379776, 0.5151501893997192, 0.17171671986579895, 0.17171671986579895, 0.7516221404075623, 0.18790553510189056, 0.09395276755094528, 0.8577840924263, 0.2098965346813202, 0.6296895742416382, 0.793154239654541, 0.5148179531097412, 0.2574089765548706, 0.4429817497730255, 0.4429817497730255, 0.857797384262085, 0.6541315317153931, 0.4970712661743164, 0.2259414792060852, 0.0903765931725502, 0.0903765931725502, 0.0903765931725502, 0.6483258605003357, 0.8859544396400452, 0.6541315317153931, 0.6603702902793884, 0.3301851451396942, 0.23397235572338104, 0.07799078524112701, 0.23397235572338104, 0.15598157048225403, 0.23397235572338104, 0.07799078524112701, 0.7620348930358887, 0.07620348781347275, 0.1524069756269455, 0.7679837346076965, 0.15359675884246826, 0.4252703785896301, 0.4252703785896301, 0.6483258008956909, 0.20647327601909637, 0.20647327601909637, 0.41294655203819275, 0.23002098500728607, 0.06389471888542175, 0.06389471888542175, 0.07667366415262222, 0.3578104078769684, 0.07667366415262222, 0.1277894377708435, 0.6066011786460876, 0.12132023274898529, 0.12132023274898529, 0.12132023274898529, 0.1043146401643753, 0.2086292803287506, 0.3129439353942871, 0.3129439353942871, 0.1043146401643753, 0.2589488625526428, 0.2589488625526428, 0.5178977251052856, 0.9136884808540344, 0.9296923279762268, 0.8091251850128174, 0.6401987671852112, 0.25367388129234314, 0.036239124834537506, 0.5435869097709656, 0.18119563162326813, 0.07964769005775452, 0.23894307017326355, 0.15929538011550903, 0.15929538011550903, 0.23894307017326355, 0.25221511721611023, 0.25221511721611023, 0.18916133046150208, 0.12610755860805511, 0.12610755860805511, 0.10411978513002396, 0.31235936284065247, 0.10411978513002396, 0.10411978513002396, 0.4164791405200958, 0.3808700442314148, 0.3808700442314148, 0.24918527901172638, 0.49837055802345276, 0.8278279900550842, 0.8659002184867859, 0.9294474720954895, 0.8829906582832336, 0.6541315317153931, 0.6541315913200378, 0.846284806728363, 0.8859544992446899, 0.8462849259376526, 0.6401987671852112, 0.312892347574234, 0.625784695148468, 0.43520817160606384, 0.33849525451660156, 0.04835646599531174, 0.14506939053535461, 0.04835646599531174, 0.6541315317153931, 0.2340693473815918, 0.3511040210723877, 0.1170346736907959, 0.1170346736907959, 0.2340693473815918, 0.8577842712402344, 0.2120700478553772, 0.4241400957107544, 0.2120700478553772, 0.16950155794620514, 0.3955036401748657, 0.056500520557165146, 0.11300104111433029, 0.11300104111433029, 0.11300104111433029, 0.4052482843399048, 0.36472347378730774, 0.08104965835809708, 0.16209931671619415, 0.4223416745662689, 0.21117083728313446, 0.4223416745662689, 0.6401987671852112, 0.5603718757629395, 0.06226354464888573, 0.18679063022136688, 0.06226354464888573, 0.12452708929777145, 0.6238369345664978, 0.20794564485549927, 0.4100303649902344, 0.4100303649902344, 0.6483258605003357, 0.657379150390625, 0.12232697010040283, 0.12232697010040283, 0.733961820602417, 0.8463204503059387, 0.6541315317153931, 0.32243824005126953, 0.4836573600769043, 0.08060956001281738, 0.08060956001281738, 0.2997146546840668, 0.5994293093681335, 0.3221583962440491, 0.6443167924880981, 0.8278144598007202, 0.11533884704113007, 0.346016526222229, 0.11533884704113007, 0.11533884704113007, 0.23067769408226013, 0.6401987671852112, 0.6541315317153931, 0.7931545376777649, 0.8577840924263, 0.9410575032234192, 0.8814882636070251, 0.11018603295087814, 0.8462851047515869, 0.23639100790023804, 0.11819550395011902, 0.5318797826766968, 0.05909775197505951, 0.05909775197505951, 0.6541315317153931, 0.8278250694274902, 0.762566328048706, 0.25498366355895996, 0.5099673271179199, 0.1861865520477295, 0.1861865520477295, 0.5585596561431885, 0.17852893471717834, 0.05950964614748955, 0.6546061038970947, 0.05950964614748955, 0.6541315317153931, 0.6541315913200378, 0.8462851047515869, 0.15735459327697754, 0.15735459327697754, 0.15735459327697754, 0.10490306466817856, 0.3147091865539551, 0.10490306466817856, 0.7475558519363403, 0.24918527901172638, 0.7880249619483948, 0.1313374936580658, 0.8153055906295776, 0.14508646726608276, 0.3627161979675293, 0.2901729345321655, 0.21762971580028534, 0.7750516533851624, 0.603370726108551, 0.2413482815027237, 0.12067414075136185, 0.25046202540397644, 0.5009240508079529, 0.6401987671852112, 0.7426750659942627, 0.27669888734817505, 0.13834944367408752, 0.4150483310222626, 0.33012959361076355, 0.13205184042453766, 0.06602592021226883, 0.06602592021226883, 0.33012959361076355, 0.06602592021226883, 0.4851495623588562, 0.1617165207862854, 0.0808582603931427, 0.1617165207862854, 0.0808582603931427, 0.35423192381858826, 0.05903865396976471, 0.35423192381858826, 0.05903865396976471, 0.05903865396976471, 0.11807730793952942, 0.6401987671852112, 0.8153061270713806, 0.8153055906295776, 0.6541315317153931, 0.11280091106891632, 0.3760030269622803, 0.11280091106891632, 0.18800151348114014, 0.07520060986280441, 0.11280091106891632, 0.25946879386901855, 0.5189375877380371, 0.36496564745903015, 0.18248282372951508, 0.36496564745903015, 0.8090673685073853, 0.9706084728240967, 0.6541315317153931, 0.6541315317153931, 0.6541315317153931, 0.33168500661849976, 0.6633700132369995, 0.64832603931427, 0.6541315913200378, 0.6351944804191589, 0.3571603298187256, 0.5357404947280884, 0.2521727383136749, 0.5043454766273499, 0.6401987671852112, 0.6401987671852112, 0.7931543588638306, 0.15202611684799194, 0.6081044673919678, 0.15202611684799194, 0.8462849259376526, 0.8463018536567688, 0.8806074261665344, 0.6493199467658997, 0.28858664631843567, 0.7292743921279907, 0.6401987671852112, 0.6541315317153931, 0.5143415331840515, 0.5143415331840515, 0.7931540012359619, 0.8153056502342224, 0.5193415284156799, 0.25967076420783997, 0.6820363998413086, 0.17050909996032715, 0.7931543588638306, 0.12049481272697449, 0.8434637188911438, 0.7931545376777649, 0.7750515937805176, 0.1259458214044571, 0.545765221118927, 0.04198193922638893, 0.1259458214044571, 0.1259458214044571, 0.18457144498825073, 0.18457144498825073, 0.18457144498825073, 0.09228572249412537, 0.2768571674823761, 0.6401987075805664, 0.6401987671852112, 0.5559882521629333, 0.15885378420352936, 0.23828068375587463, 0.07942689210176468, 0.17805598676204681, 0.17805598676204681, 0.35611197352409363, 0.3162824213504791, 0.6325648427009583, 0.6921945214271545, 0.08652431517839432, 0.25957295298576355, 0.8090592622756958, 0.6449218392372131, 0.6483259797096252, 0.8859546184539795, 0.2630774676799774, 0.175384983420372, 0.43846243619918823, 0.175384983420372, 0.9294306039810181, 0.6020717024803162, 0.060207169502973557, 0.12041433900594711, 0.060207169502973557, 0.060207169502973557, 0.060207169502973557, 0.9136885404586792, 0.12652209401130676, 0.3795663118362427, 0.3795663118362427, 0.15319789946079254, 0.7659895420074463, 0.24436859786510468, 0.7331057786941528, 0.7819571495056152, 0.0738760456442833, 0.22162814438343048, 0.2955041825771332, 0.1477520912885666, 0.1477520912885666, 0.0738760456442833, 0.2573166787624359, 0.5146333575248718, 0.7819575071334839, 0.7001026272773743, 0.17502565681934357, 0.6401987075805664, 0.6541315317153931, 0.6449218988418579, 0.8463259935379028, 0.3352515995502472, 0.111750528216362, 0.111750528216362, 0.3352515995502472, 0.07450035214424133, 0.037250176072120667, 0.0772448405623436, 0.3862242102622986, 0.3089793622493744, 0.0772448405623436, 0.1544896811246872, 0.6541315317153931, 0.6401987671852112, 0.6281276345252991, 0.20937588810920715, 0.5173622369766235, 0.19401083886623383, 0.12934055924415588, 0.12934055924415588, 0.846284806728363, 0.31959593296051025, 0.6391918659210205, 0.8278250694274902, 0.18475599586963654, 0.18475599586963654, 0.18475599586963654, 0.36951199173927307, 0.20343433320522308, 0.8137373328208923, 0.6541315317153931, 0.8724426627159119, 0.1799435317516327, 0.5398305654525757, 0.1799435317516327, 0.5213497877120972, 0.2606748938560486, 0.06516872346401215, 0.1303374469280243, 0.06516872346401215, 0.31847310066223145, 0.15923655033111572, 0.31847310066223145, 0.31847310066223145, 0.3733830749988556, 0.3733830749988556, 0.1866915374994278, 0.6483258008956909, 0.793155312538147, 0.10594557225704193, 0.10594557225704193, 0.10594557225704193, 0.1765759438276291, 0.3178367018699646, 0.03531518951058388, 0.1765759438276291, 0.6573799848556519, 0.21175070106983185, 0.21175070106983185, 0.4235014021396637, 0.27691027522087097, 0.09230342507362366, 0.13845513761043549, 0.18460685014724731, 0.07691951841115952, 0.1076873242855072, 0.1076873242855072, 0.6401987671852112, 0.8278153538703918, 0.9136925339698792, 0.2053501307964325, 0.6160504221916199, 0.11816976964473724, 0.41359418630599976, 0.05908488482236862, 0.17725464701652527, 0.11816976964473724, 0.11816976964473724, 0.05908488482236862, 0.19124585390090942, 0.19124585390090942, 0.6693605184555054, 0.44662758708000183, 0.040602508932352066, 0.28421756625175476, 0.040602508932352066, 0.16241003572940826, 0.040602508932352066, 0.846284806728363, 0.7931546568870544, 0.7293363809585571, 0.3085842430591583, 0.19286516308784485, 0.11571909487247467, 0.07714606076478958, 0.19286516308784485, 0.03857303038239479, 0.07714606076478958, 0.8462849259376526], \"Term\": [\"&\", \"&\", \"abl\", \"abl\", \"abl\", \"abl\", \"academi\", \"academia\", \"acceler\", \"acceler\", \"accomplish\", \"account\", \"account\", \"achiev\", \"actual\", \"actual\", \"administr\", \"advanc\", \"advanc\", \"advanc\", \"advanc\", \"advanc\", \"ai\", \"ai\", \"algorithm\", \"algorithm\", \"algorithm\", \"algorithm\", \"algorithm\", \"allow\", \"allow\", \"allow\", \"almost\", \"also\", \"also\", \"also\", \"also\", \"also\", \"also\", \"also\", \"among\", \"among\", \"analys\", \"analys\", \"analys\", \"analysi\", \"analysi\", \"analysi\", \"analysi\", \"analysi\", \"analyt\", \"analyt\", \"analyt\", \"api\", \"appli\", \"appli\", \"appli\", \"appli\", \"appli\", \"applic\", \"applic\", \"applic\", \"applic\", \"applic\", \"applic\", \"architect\", \"architect\", \"architect\", \"architectur\", \"architectur\", \"architectur\", \"architectur\", \"ask\", \"ask\", \"aspir\", \"assign\", \"associ\", \"associ\", \"audio\", \"aw\", \"aw\", \"back\", \"basic\", \"basic\", \"basic\", \"basic\", \"basic\", \"batch\", \"becom\", \"becom\", \"becom\", \"becom\", \"becom\", \"benefit\", \"best\", \"best\", \"best\", \"best\", \"best\", \"big\", \"big\", \"big\", \"bigqueri\", \"bigtabl\", \"black\", \"black\", \"bootstrap\", \"box\", \"box\", \"build\", \"build\", \"build\", \"build\", \"build\", \"build\", \"built\", \"busi\", \"busi\", \"c\", \"c\", \"c\", \"capabl\", \"carri\", \"case\", \"case\", \"case\", \"case\", \"case\", \"cd\", \"certif\", \"certif\", \"certifi\", \"certifi\", \"certifi\", \"chart\", \"chatbot\", \"check\", \"check\", \"choos\", \"ci\", \"circl\", \"class\", \"class\", \"class\", \"class\", \"classic\", \"clean\", \"clean\", \"cli\", \"client\", \"client\", \"climb\", \"cloud\", \"cloud\", \"cloud\", \"cloud\", \"cloud\", \"cloud\", \"cluster\", \"cluster\", \"cluster\", \"cluster\", \"coach\", \"codebook\", \"codecommit\", \"codedeploy\", \"codepipelin\", \"combin\", \"command\", \"commit\", \"commonli\", \"compani\", \"compani\", \"complet\", \"complet\", \"complet\", \"complic\", \"complic\", \"comput\", \"comput\", \"comput\", \"comput\", \"comput\", \"comput\", \"concept\", \"concept\", \"concept\", \"concept\", \"concept\", \"consol\", \"convers\", \"convers\", \"convolut\", \"cours\", \"cours\", \"cours\", \"cours\", \"cours\", \"cours\", \"cours\", \"cover\", \"cover\", \"cover\", \"cover\", \"cover\", \"cover\", \"creat\", \"creat\", \"creat\", \"creat\", \"creat\", \"csa\", \"csa\", \"curios\", \"custom\", \"data\", \"data\", \"data\", \"data\", \"data\", \"data\", \"data\", \"databas\", \"databas\", \"databas\", \"databas\", \"databas\", \"databas\", \"dataproc\", \"datastor\", \"dedic\", \"deep\", \"deep\", \"deep\", \"defin\", \"defin\", \"demonstr\", \"demonstr\", \"deploy\", \"deploy\", \"deploy\", \"design\", \"design\", \"design\", \"design\", \"develop\", \"develop\", \"develop\", \"develop\", \"develop\", \"devop\", \"devop\", \"devop\", \"diagnos\", \"diagram\", \"differ\", \"differ\", \"differ\", \"dirti\", \"disc\", \"discuss\", \"discuss\", \"distribut\", \"distribut\", \"document\", \"document\", \"downstream\", \"ec\", \"effortless\", \"employe\", \"engin\", \"engin\", \"engin\", \"engin\", \"engin\", \"environ\", \"environ\", \"environ\", \"environ\", \"environ\", \"equip\", \"erd\", \"error\", \"error\", \"establish\", \"ever\", \"everyon\", \"everyon\", \"exam\", \"exam\", \"exam\", \"exam\", \"exampl\", \"exchang\", \"execut\", \"execut\", \"execut\", \"exercis\", \"experi\", \"experi\", \"experi\", \"experi\", \"experi\", \"experi\", \"experi\", \"exploratori\", \"express\", \"februari\", \"feedback\", \"flight\", \"format\", \"foundat\", \"foundat\", \"foundat\", \"foundat\", \"fulli\", \"gcp\", \"gcp\", \"gear\", \"get\", \"get\", \"get\", \"get\", \"get\", \"googl\", \"googl\", \"gradient\", \"graphic\", \"growth\", \"gru\", \"guid\", \"guid\", \"habit\", \"hadoop\", \"hadoop\", \"hand\", \"hand\", \"hand\", \"hand\", \"hand\", \"hand\", \"heard\", \"hero\", \"heroku\", \"high\", \"higher\", \"hold\", \"homework\", \"hour\", \"hous\", \"human\", \"human\", \"ident\", \"ident\", \"implement\", \"implement\", \"implement\", \"implement\", \"implement\", \"includ\", \"includ\", \"includ\", \"includ\", \"includ\", \"includ\", \"includ\", \"inclus\", \"infer\", \"infer\", \"infer\", \"inform\", \"inform\", \"inform\", \"infrastructur\", \"infrastructur\", \"infrastructur\", \"innov\", \"insid\", \"insid\", \"inspir\", \"instead\", \"instead\", \"integr\", \"integr\", \"intent\", \"internet\", \"introduc\", \"introduc\", \"introduc\", \"introduc\", \"introduc\", \"ipython\", \"issu\", \"java\", \"job\", \"job\", \"know\", \"know\", \"know\", \"know\", \"know\", \"know\", \"knowledg\", \"knowledg\", \"knowledg\", \"kubernet\", \"kubernet\", \"lab\", \"lab\", \"lay\", \"lead\", \"lead\", \"lead\", \"learn\", \"learn\", \"learn\", \"learn\", \"learn\", \"learn\", \"learn\", \"learner\", \"learner\", \"learner\", \"learner\", \"level\", \"level\", \"level\", \"level\", \"level\", \"librari\", \"librari\", \"librari\", \"linear\", \"linux\", \"listen\", \"lstm\", \"machin\", \"machin\", \"machin\", \"machin\", \"make\", \"make\", \"make\", \"make\", \"make\", \"manag\", \"manag\", \"manag\", \"manag\", \"manag\", \"mani\", \"mani\", \"mani\", \"mani\", \"mani\", \"manipul\", \"manipul\", \"mapreduc\", \"mapreduc\", \"market\", \"materi\", \"matplotlib\", \"mayb\", \"mean\", \"meaning\", \"mentor\", \"mindset\", \"minut\", \"mismatch\", \"ml\", \"ml\", \"model\", \"model\", \"model\", \"model\", \"model\", \"mountain\", \"much\", \"much\", \"much\", \"much\", \"much\", \"music\", \"natur\", \"natur\", \"natur\", \"need\", \"need\", \"need\", \"need\", \"need\", \"need\", \"network\", \"network\", \"network\", \"network\", \"neural\", \"neural\", \"neural\", \"never\", \"new\", \"new\", \"new\", \"new\", \"new\", \"non\", \"non\", \"nosql\", \"nosql\", \"notebook\", \"obtain\", \"offer\", \"offer\", \"offer\", \"often\", \"ok\", \"one\", \"one\", \"one\", \"one\", \"oper\", \"oper\", \"option\", \"option\", \"oracl\", \"other\", \"other\", \"other\", \"other\", \"other\", \"otherwis\", \"paa\", \"packag\", \"parametr\", \"particular\", \"pass\", \"pass\", \"peak\", \"perform\", \"perform\", \"perform\", \"perform\", \"perform\", \"perhap\", \"perspect\", \"philosophi\", \"pig\", \"pig\", \"pipelin\", \"pipelin\", \"pipelin\", \"platform\", \"platform\", \"platform\", \"platform\", \"pleasantli\", \"point\", \"posit\", \"practic\", \"practic\", \"practic\", \"practic\", \"practic\", \"practic\", \"practition\", \"practition\", \"predict\", \"predict\", \"premis\", \"prepar\", \"prepar\", \"prepar\", \"prepar\", \"presenc\", \"present\", \"present\", \"present\", \"prior\", \"prior\", \"priorit\", \"pro\", \"problem\", \"problem\", \"problem\", \"process\", \"process\", \"process\", \"process\", \"process\", \"process\", \"product\", \"product\", \"product\", \"product\", \"product\", \"program\", \"program\", \"program\", \"program\", \"program\", \"program\", \"promis\", \"prospect\", \"protect\", \"prototyp\", \"provid\", \"provid\", \"provid\", \"provid\", \"provid\", \"provid\", \"purpos\", \"purpos\", \"python\", \"python\", \"python\", \"qualifi\", \"r\", \"rage\", \"rail\", \"rapid\", \"rather\", \"rather\", \"raw\", \"readili\", \"receiv\", \"recognit\", \"recognit\", \"recommend\", \"recommend\", \"recurr\", \"reduc\", \"reflect\", \"regress\", \"regress\", \"regress\", \"regularli\", \"reinforc\", \"reproduc\", \"requir\", \"requir\", \"requisit\", \"rnn\", \"rubi\", \"say\", \"say\", \"scikit\", \"script\", \"search\", \"search\", \"second\", \"second\", \"section\", \"secur\", \"secur\", \"selv\", \"sequenc\", \"servic\", \"servic\", \"servic\", \"servic\", \"servic\", \"set\", \"set\", \"set\", \"set\", \"set\", \"ship\", \"simul\", \"slalom\", \"slalom\", \"slalom\", \"slalom\", \"solut\", \"solut\", \"solut\", \"solv\", \"solv\", \"spark\", \"spark\", \"spark\", \"specialti\", \"speech\", \"speed\", \"spent\", \"start\", \"start\", \"start\", \"start\", \"statement\", \"statist\", \"statist\", \"statist\", \"statist\", \"statist\", \"statist\", \"step\", \"storag\", \"storag\", \"storag\", \"stori\", \"stori\", \"storytel\", \"storytel\", \"stream\", \"student\", \"student\", \"student\", \"student\", \"student\", \"student\", \"studi\", \"studi\", \"style\", \"success\", \"success\", \"surpass\", \"surpris\", \"synthesi\", \"sysop\", \"system\", \"system\", \"system\", \"system\", \"system\", \"system\", \"take\", \"take\", \"take\", \"take\", \"take\", \"tap\", \"taught\", \"technic\", \"technic\", \"techniqu\", \"techniqu\", \"techniqu\", \"techniqu\", \"templat\", \"tensorflow\", \"tensorflow\", \"term\", \"test\", \"test\", \"test\", \"test\", \"text\", \"text\", \"thought\", \"tidi\", \"today\", \"today\", \"today\", \"tool\", \"tool\", \"tool\", \"tool\", \"tool\", \"train\", \"train\", \"train\", \"train\", \"two\", \"two\", \"two\", \"twofold\", \"typic\", \"understand\", \"understand\", \"understand\", \"understand\", \"understand\", \"understand\", \"understand\", \"upon\", \"us\", \"us\", \"us\", \"use\", \"use\", \"use\", \"use\", \"use\", \"use\", \"use\", \"variant\", \"verbal\", \"version\", \"virtual\", \"virtual\", \"way\", \"way\", \"way\", \"way\", \"way\", \"way\", \"way\", \"web\", \"web\", \"web\", \"week\", \"week\", \"week\", \"week\", \"week\", \"week\", \"whether\", \"widen\", \"within\", \"work\", \"work\", \"work\", \"work\", \"work\", \"work\", \"work\", \"yet\"]}, \"R\": 30, \"lambda.step\": 0.01, \"plot.opts\": {\"xlab\": \"PC1\", \"ylab\": \"PC2\"}, \"topic.order\": [1, 2, 6, 5, 4, 7, 3]};\n",
       "\n",
       "function LDAvis_load_lib(url, callback){\n",
       "  var s = document.createElement('script');\n",
       "  s.src = url;\n",
       "  s.async = true;\n",
       "  s.onreadystatechange = s.onload = callback;\n",
       "  s.onerror = function(){console.warn(\"failed to load library \" + url);};\n",
       "  document.getElementsByTagName(\"head\")[0].appendChild(s);\n",
       "}\n",
       "\n",
       "if(typeof(LDAvis) !== \"undefined\"){\n",
       "   // already loaded: just create the visualization\n",
       "   !function(LDAvis){\n",
       "       new LDAvis(\"#\" + \"ldavis_el301381400956603015529646476980\", ldavis_el301381400956603015529646476980_data);\n",
       "   }(LDAvis);\n",
       "}else if(typeof define === \"function\" && define.amd){\n",
       "   // require.js is available: use it to load d3/LDAvis\n",
       "   require.config({paths: {d3: \"https://cdnjs.cloudflare.com/ajax/libs/d3/3.5.5/d3.min\"}});\n",
       "   require([\"d3\"], function(d3){\n",
       "      window.d3 = d3;\n",
       "      LDAvis_load_lib(\"https://cdn.rawgit.com/bmabey/pyLDAvis/files/ldavis.v1.0.0.js\", function(){\n",
       "        new LDAvis(\"#\" + \"ldavis_el301381400956603015529646476980\", ldavis_el301381400956603015529646476980_data);\n",
       "      });\n",
       "    });\n",
       "}else{\n",
       "    // require.js not available: dynamically load d3 & LDAvis\n",
       "    LDAvis_load_lib(\"https://cdnjs.cloudflare.com/ajax/libs/d3/3.5.5/d3.min.js\", function(){\n",
       "         LDAvis_load_lib(\"https://cdn.rawgit.com/bmabey/pyLDAvis/files/ldavis.v1.0.0.js\", function(){\n",
       "                 new LDAvis(\"#\" + \"ldavis_el301381400956603015529646476980\", ldavis_el301381400956603015529646476980_data);\n",
       "            })\n",
       "         });\n",
       "}\n",
       "</script>"
      ],
      "text/plain": [
       "<IPython.core.display.HTML object>"
      ]
     },
     "execution_count": 18,
     "metadata": {},
     "output_type": "execute_result"
    }
   ],
   "source": [
    "pyLDAvis.display(vis_data)"
   ]
  },
  {
   "cell_type": "code",
   "execution_count": 19,
   "metadata": {},
   "outputs": [
    {
     "name": "stderr",
     "output_type": "stream",
     "text": [
      "/home/ec2-user/anaconda3/envs/python3/lib/python3.6/site-packages/pyLDAvis/_prepare.py:257: FutureWarning: Sorting because non-concatenation axis is not aligned. A future version\n",
      "of pandas will change to not sort by default.\n",
      "\n",
      "To accept the future behavior, pass 'sort=False'.\n",
      "\n",
      "To retain the current behavior and silence the warning, pass 'sort=True'.\n",
      "\n",
      "  return pd.concat([default_term_info] + list(topic_dfs))\n"
     ]
    },
    {
     "data": {
      "text/html": [
       "\n",
       "<link rel=\"stylesheet\" type=\"text/css\" href=\"https://cdn.rawgit.com/bmabey/pyLDAvis/files/ldavis.v1.0.0.css\">\n",
       "\n",
       "\n",
       "<div id=\"ldavis_el301381400955664053289786769096\"></div>\n",
       "<script type=\"text/javascript\">\n",
       "\n",
       "var ldavis_el301381400955664053289786769096_data = {\"mdsDat\": {\"x\": [0.03753243690215412, -0.12139454712435453, 0.11998434029291027, -0.08161601373927627, 0.04124793502843463, 0.004245848640131804], \"y\": [-0.10774710894975342, 0.04244025801533328, 0.0700038982783656, 0.019089428252972836, 0.06636525045271836, -0.09015172604963677], \"topics\": [1, 2, 3, 4, 5, 6], \"cluster\": [1, 1, 1, 1, 1, 1], \"Freq\": [23.223834991455078, 18.50660514831543, 16.638397216796875, 15.780960083007812, 14.063741683959961, 11.786467552185059]}, \"tinfo\": {\"Category\": [\"Default\", \"Default\", \"Default\", \"Default\", \"Default\", \"Default\", \"Default\", \"Default\", \"Default\", \"Default\", \"Default\", \"Default\", \"Default\", \"Default\", \"Default\", \"Default\", \"Default\", \"Default\", \"Default\", \"Default\", \"Default\", \"Default\", \"Default\", \"Default\", \"Default\", \"Default\", \"Default\", \"Default\", \"Default\", \"Default\", \"Topic1\", \"Topic1\", \"Topic1\", \"Topic1\", \"Topic1\", \"Topic1\", \"Topic1\", \"Topic1\", \"Topic1\", \"Topic1\", \"Topic1\", \"Topic1\", \"Topic1\", \"Topic1\", \"Topic1\", \"Topic1\", \"Topic1\", \"Topic1\", \"Topic1\", \"Topic1\", \"Topic1\", \"Topic1\", \"Topic1\", \"Topic1\", \"Topic1\", \"Topic1\", \"Topic1\", \"Topic1\", \"Topic1\", \"Topic1\", \"Topic1\", \"Topic1\", \"Topic1\", \"Topic1\", \"Topic1\", \"Topic1\", \"Topic1\", \"Topic1\", \"Topic1\", \"Topic1\", \"Topic1\", \"Topic1\", \"Topic1\", \"Topic1\", \"Topic1\", \"Topic1\", \"Topic1\", \"Topic1\", \"Topic1\", \"Topic1\", \"Topic1\", \"Topic1\", \"Topic1\", \"Topic1\", \"Topic1\", \"Topic1\", \"Topic1\", \"Topic1\", \"Topic1\", \"Topic1\", \"Topic1\", \"Topic1\", \"Topic1\", \"Topic1\", \"Topic1\", \"Topic1\", \"Topic2\", \"Topic2\", \"Topic2\", \"Topic2\", \"Topic2\", \"Topic2\", \"Topic2\", \"Topic2\", \"Topic2\", \"Topic2\", \"Topic2\", \"Topic2\", \"Topic2\", \"Topic2\", \"Topic2\", \"Topic2\", \"Topic2\", \"Topic2\", \"Topic2\", \"Topic2\", \"Topic2\", \"Topic2\", \"Topic2\", \"Topic2\", \"Topic2\", \"Topic2\", \"Topic2\", \"Topic2\", \"Topic2\", \"Topic2\", \"Topic2\", \"Topic2\", \"Topic2\", \"Topic2\", \"Topic2\", \"Topic2\", \"Topic2\", \"Topic2\", \"Topic2\", \"Topic2\", \"Topic2\", \"Topic2\", \"Topic2\", \"Topic2\", \"Topic2\", \"Topic2\", \"Topic2\", \"Topic2\", \"Topic2\", \"Topic2\", \"Topic2\", \"Topic2\", \"Topic2\", \"Topic2\", \"Topic2\", \"Topic2\", \"Topic2\", \"Topic2\", \"Topic2\", \"Topic2\", \"Topic2\", \"Topic2\", \"Topic2\", \"Topic2\", \"Topic2\", \"Topic2\", \"Topic2\", \"Topic2\", \"Topic2\", \"Topic3\", \"Topic3\", \"Topic3\", \"Topic3\", \"Topic3\", \"Topic3\", \"Topic3\", \"Topic3\", \"Topic3\", \"Topic3\", \"Topic3\", \"Topic3\", \"Topic3\", \"Topic3\", \"Topic3\", \"Topic3\", \"Topic3\", \"Topic3\", \"Topic3\", \"Topic3\", \"Topic3\", \"Topic3\", \"Topic3\", \"Topic3\", \"Topic3\", \"Topic3\", \"Topic3\", \"Topic3\", \"Topic3\", \"Topic3\", \"Topic3\", \"Topic3\", \"Topic3\", \"Topic3\", \"Topic3\", \"Topic3\", \"Topic3\", \"Topic3\", \"Topic3\", \"Topic3\", \"Topic3\", \"Topic3\", \"Topic3\", \"Topic3\", \"Topic3\", \"Topic3\", \"Topic3\", \"Topic3\", \"Topic3\", \"Topic3\", \"Topic3\", \"Topic3\", \"Topic3\", \"Topic3\", \"Topic3\", \"Topic3\", \"Topic3\", \"Topic3\", \"Topic3\", \"Topic3\", \"Topic3\", \"Topic3\", \"Topic3\", \"Topic3\", \"Topic3\", \"Topic4\", \"Topic4\", \"Topic4\", \"Topic4\", \"Topic4\", \"Topic4\", \"Topic4\", \"Topic4\", \"Topic4\", \"Topic4\", \"Topic4\", \"Topic4\", \"Topic4\", \"Topic4\", \"Topic4\", \"Topic4\", \"Topic4\", \"Topic4\", \"Topic4\", \"Topic4\", \"Topic4\", \"Topic4\", \"Topic4\", \"Topic4\", \"Topic4\", \"Topic4\", \"Topic4\", \"Topic4\", \"Topic4\", \"Topic4\", \"Topic4\", \"Topic4\", \"Topic4\", \"Topic4\", \"Topic4\", \"Topic4\", \"Topic4\", \"Topic4\", \"Topic4\", \"Topic4\", \"Topic4\", \"Topic4\", \"Topic4\", \"Topic4\", \"Topic4\", \"Topic4\", \"Topic4\", \"Topic4\", \"Topic4\", \"Topic4\", \"Topic4\", \"Topic4\", \"Topic4\", \"Topic4\", \"Topic4\", \"Topic4\", \"Topic4\", \"Topic5\", \"Topic5\", \"Topic5\", \"Topic5\", \"Topic5\", \"Topic5\", \"Topic5\", \"Topic5\", \"Topic5\", \"Topic5\", \"Topic5\", \"Topic5\", \"Topic5\", \"Topic5\", \"Topic5\", \"Topic5\", \"Topic5\", \"Topic5\", \"Topic5\", \"Topic5\", \"Topic5\", \"Topic5\", \"Topic5\", \"Topic5\", \"Topic5\", \"Topic5\", \"Topic5\", \"Topic5\", \"Topic5\", \"Topic5\", \"Topic5\", \"Topic5\", \"Topic5\", \"Topic5\", \"Topic5\", \"Topic5\", \"Topic5\", \"Topic5\", \"Topic5\", \"Topic5\", \"Topic5\", \"Topic5\", \"Topic5\", \"Topic5\", \"Topic5\", \"Topic5\", \"Topic5\", \"Topic5\", \"Topic5\", \"Topic5\", \"Topic5\", \"Topic5\", \"Topic5\", \"Topic5\", \"Topic5\", \"Topic5\", \"Topic5\", \"Topic5\", \"Topic5\", \"Topic5\", \"Topic5\", \"Topic5\", \"Topic5\", \"Topic5\", \"Topic5\", \"Topic5\", \"Topic5\", \"Topic5\", \"Topic6\", \"Topic6\", \"Topic6\", \"Topic6\", \"Topic6\", \"Topic6\", \"Topic6\", \"Topic6\", \"Topic6\", \"Topic6\", \"Topic6\", \"Topic6\", \"Topic6\", \"Topic6\", \"Topic6\", \"Topic6\", \"Topic6\", \"Topic6\", \"Topic6\", \"Topic6\", \"Topic6\", \"Topic6\", \"Topic6\", \"Topic6\", \"Topic6\", \"Topic6\", \"Topic6\", \"Topic6\", \"Topic6\", \"Topic6\", \"Topic6\", \"Topic6\", \"Topic6\", \"Topic6\", \"Topic6\", \"Topic6\", \"Topic6\", \"Topic6\", \"Topic6\", \"Topic6\", \"Topic6\", \"Topic6\", \"Topic6\", \"Topic6\", \"Topic6\", \"Topic6\", \"Topic6\", \"Topic6\", \"Topic6\", \"Topic6\", \"Topic6\", \"Topic6\", \"Topic6\", \"Topic6\", \"Topic6\", \"Topic6\", \"Topic6\", \"Topic6\", \"Topic6\", \"Topic6\", \"Topic6\", \"Topic6\", \"Topic6\", \"Topic6\", \"Topic6\", \"Topic6\", \"Topic6\", \"Topic6\", \"Topic6\", \"Topic6\", \"Topic6\", \"Topic6\", \"Topic6\", \"Topic6\", \"Topic6\", \"Topic6\", \"Topic6\", \"Topic6\", \"Topic6\", \"Topic6\", \"Topic6\", \"Topic6\"], \"Freq\": [30.0, 47.0, 69.0, 94.0, 29.0, 15.0, 23.0, 21.0, 24.0, 17.0, 112.0, 13.0, 10.0, 80.0, 19.0, 8.0, 30.0, 22.0, 9.0, 14.0, 23.0, 22.0, 10.0, 10.0, 13.0, 20.0, 7.0, 11.0, 7.0, 17.0, 6.097668647766113, 6.095512390136719, 5.246676445007324, 4.395907402038574, 4.3950910568237305, 3.5450925827026367, 3.545090436935425, 2.694230556488037, 2.694230556488037, 2.694230556488037, 2.6942296028137207, 2.6942293643951416, 2.6942291259765625, 2.6942172050476074, 2.6935155391693115, 2.6925601959228516, 5.972408771514893, 21.80241584777832, 1.8433637619018555, 1.8433641195297241, 1.8433624505996704, 1.843363881111145, 1.843362808227539, 1.843362808227539, 1.843362808227539, 1.8433630466461182, 1.8433421850204468, 1.8433207273483276, 1.8433202505111694, 1.8433204889297485, 8.123220443725586, 8.630313873291016, 39.284889221191406, 2.3642513751983643, 5.218115329742432, 11.201615333557129, 4.393575191497803, 4.390280246734619, 3.5443360805511475, 3.5446889400482178, 3.5451340675354004, 2.694277048110962, 8.238971710205078, 18.817607879638672, 9.360511779785156, 10.437331199645996, 10.014629364013672, 20.35626220703125, 20.926271438598633, 7.102344989776611, 4.864168643951416, 4.11494779586792, 7.299722671508789, 7.298930644989014, 7.646920204162598, 4.395847320556641, 5.068883419036865, 5.422671794891357, 5.2467169761657715, 6.2474236488342285, 5.967716217041016, 5.246539115905762, 5.354050159454346, 5.2470903396606445, 5.798851490020752, 5.246743202209473, 8.32651424407959, 6.688488483428955, 5.050405025482178, 4.121857166290283, 3.41243314743042, 3.4123806953430176, 11.174620628356934, 3.2550301551818848, 3.2550156116485596, 2.5934176445007324, 2.5934176445007324, 2.593417167663574, 2.5934152603149414, 3.8047432899475098, 1.7743988037109375, 1.7743985652923584, 1.7743985652923584, 1.7743982076644897, 1.7743979692459106, 1.7743982076644897, 1.7743982076644897, 1.7743977308273315, 1.7743983268737793, 1.7743983268737793, 1.7743977308273315, 1.7743982076644897, 1.7743982076644897, 1.7743983268737793, 1.7743979692459106, 1.7743977308273315, 1.7743979692459106, 1.7743977308273315, 1.7743979692459106, 1.774397373199463, 3.412496566772461, 8.934033393859863, 25.12149429321289, 3.2697877883911133, 6.456304550170898, 4.231814861297607, 7.1436448097229, 9.552306175231934, 7.67876672744751, 8.170615196228027, 4.940815448760986, 2.669238328933716, 11.26966381072998, 6.485997200012207, 3.4127357006073, 3.412463903427124, 10.112278938293457, 8.919092178344727, 7.802751541137695, 15.180168151855469, 6.763607501983643, 5.714229106903076, 4.709587097167969, 8.638920783996582, 6.222225666046143, 7.125533103942871, 14.594264030456543, 5.352771282196045, 9.181746482849121, 5.0702080726623535, 8.20786190032959, 5.635589599609375, 6.597926139831543, 5.455817222595215, 5.364439487457275, 26.602279663085938, 4.147428035736084, 4.147094249725342, 3.3446741104125977, 3.3436477184295654, 2.541926860809326, 2.5419256687164307, 2.5419249534606934, 2.541337490081787, 2.5403945446014404, 4.147526741027832, 4.1475701332092285, 1.7391719818115234, 1.7391713857650757, 1.7391712665557861, 1.7391698360443115, 1.7391706705093384, 1.7391712665557861, 1.739171028137207, 1.739171028137207, 1.739171028137207, 1.7391712665557861, 1.739171028137207, 1.739171028137207, 1.739170789718628, 1.7391700744628906, 1.739169716835022, 8.057933807373047, 1.7382172346115112, 1.7381826639175415, 12.580158233642578, 13.412734031677246, 3.32566237449646, 5.066617012023926, 7.1895647048950195, 6.556880474090576, 34.52766036987305, 24.077308654785156, 7.316835403442383, 2.540888786315918, 2.5398526191711426, 2.541947841644287, 2.5412707328796387, 2.541233777999878, 2.541980504989624, 4.147660732269287, 3.3433055877685547, 3.3447554111480713, 11.85442066192627, 6.556093215942383, 11.202792167663574, 3.0389411449432373, 4.949225425720215, 4.955776691436768, 10.747794151306152, 4.508464813232422, 5.146932601928711, 4.3497090339660645, 3.34521222114563, 4.701913833618164, 4.581153869628906, 4.147172927856445, 3.8796603679656982, 3.494532823562622, 3.429011583328247, 4.865713119506836, 4.076072692871094, 6.444692611694336, 2.498939037322998, 2.4989380836486816, 2.4976518154144287, 2.497311592102051, 4.866668224334717, 4.864599704742432, 1.7097619771957397, 1.7097619771957397, 1.7097609043121338, 1.709761142730713, 1.7097604274749756, 1.7097607851028442, 1.709758996963501, 1.7097604274749756, 1.709758996963501, 1.7097601890563965, 1.709758996963501, 1.7097597122192383, 1.7097594738006592, 1.709758996963501, 1.709208369255066, 1.7092077732086182, 1.7086206674575806, 6.99638032913208, 6.307986259460449, 2.9526708126068115, 5.656050682067871, 13.547645568847656, 9.107571601867676, 4.8651957511901855, 7.1532111167907715, 3.2881455421447754, 3.2883355617523193, 29.625661849975586, 4.865959167480469, 6.8896942138671875, 7.153226852416992, 17.611968994140625, 7.314016819000244, 5.016902446746826, 3.917818307876587, 11.129745483398438, 7.810094833374023, 3.2869205474853516, 5.583069324493408, 5.485044479370117, 4.702353477478027, 4.188673496246338, 4.077281475067139, 5.468330383300781, 4.077022075653076, 3.815079927444458, 4.576203346252441, 3.993769645690918, 2.4568188190460205, 2.4568183422088623, 2.4568183422088623, 2.4552738666534424, 7.888123989105225, 4.784688472747803, 1.6809478998184204, 1.6809474229812622, 1.6809451580047607, 1.6809451580047607, 1.680946946144104, 1.680946946144104, 1.6310476064682007, 3.232776165008545, 3.2282299995422363, 2.4568698406219482, 2.456979751586914, 2.4569027423858643, 2.457042932510376, 2.8052427768707275, 0.9050634503364563, 0.9050634503364563, 0.9050634503364563, 0.9050635695457458, 0.9050635099411011, 0.9050635099411011, 0.9050634503364563, 0.9050634503364563, 0.9050634503364563, 0.9050628542900085, 0.9050629734992981, 0.9050629734992981, 11.452625274658203, 4.008988380432129, 2.4570093154907227, 2.456963062286377, 1.6810027360916138, 9.765186309814453, 1.6327663660049438, 4.008920669555664, 4.707340717315674, 2.647108554840088, 8.468791961669922, 20.96119499206543, 7.113018035888672, 9.440840721130371, 6.798849105834961, 20.240188598632812, 10.647461891174316, 4.008961200714111, 5.560608863830566, 3.4733710289001465, 9.918827056884766, 3.232797145843506, 5.1539411544799805, 3.232921838760376, 4.797571659088135, 4.175921440124512, 5.685285568237305, 3.2330715656280518, 3.232832431793213, 3.1883232593536377, 4.00856351852417, 3.3010644912719727, 3.3019556999206543, 3.264744758605957, 3.2533442974090576, 3.2328858375549316, 4.59575080871582, 3.8503241539001465, 1.6145905256271362, 1.614589810371399, 1.6145896911621094, 1.6145902872085571, 1.6145894527435303, 1.6145902872085571, 6.086714267730713, 9.06757926940918, 3.105412244796753, 0.8693425059318542, 0.8693425059318542, 0.8693425059318542, 0.8693425059318542, 0.8693423867225647, 0.8693422675132751, 0.8693423271179199, 0.8693423271179199, 0.8693423271179199, 0.8693422675132751, 0.8693423271179199, 0.8693423271179199, 0.8693423271179199, 0.8693422675132751, 0.8693423271179199, 0.8693422675132751, 0.8693423271179199, 0.8693423271179199, 0.8693423271179199, 6.086953163146973, 0.8693423271179199, 0.8693423867225647, 0.8693423867225647, 0.8693423867225647, 0.8693423271179199, 0.8693423867225647, 0.8693423271179199, 0.8693423867225647, 0.8693423271179199, 3.8506081104278564, 1.6146422624588013, 1.6146305799484253, 1.6147013902664185, 1.6147723197937012, 1.614668607711792, 8.1642427444458, 3.8505098819732666, 6.8320417404174805, 9.719436645507812, 0.8693423271179199, 0.8693423867225647, 2.359841823577881, 2.3599624633789062, 0.8693423271179199, 2.3599820137023926, 2.3285131454467773, 0.8693423271179199, 0.8693423271179199, 4.5958251953125, 2.3598451614379883, 2.288639783859253, 16.074331283569336, 12.341079711914062, 3.85064959526062, 4.5959153175354, 4.461479187011719, 10.072975158691406, 3.8506927490234375, 4.543334484100342, 4.481468677520752, 6.086183547973633, 2.9991586208343506, 3.1054446697235107, 3.7274885177612305, 3.850461006164551, 3.8507065773010254, 3.1054952144622803, 3.8508095741271973, 3.6293060779571533, 4.593920707702637, 3.5125789642333984], \"Term\": [\"googl\", \"aw\", \"cloud\", \"data\", \"machin\", \"deep\", \"network\", \"big\", \"week\", \"platform\", \"cours\", \"requir\", \"text\", \"learn\", \"abl\", \"feedback\", \"applic\", \"build\", \"r\", \"certif\", \"servic\", \"concept\", \"web\", \"linux\", \"distribut\", \"basic\", \"secur\", \"engin\", \"coach\", \"need\", \"listen\", \"regress\", \"execut\", \"stream\", \"reproduc\", \"sequenc\", \"presenc\", \"audio\", \"synthesi\", \"speech\", \"linear\", \"intellig\", \"statement\", \"ml\", \"wareh\", \"upon\", \"busi\", \"machin\", \"music\", \"innov\", \"intent\", \"parametr\", \"diagram\", \"erd\", \"oracl\", \"hous\", \"given\", \"enorm\", \"memori\", \"consensu\", \"spark\", \"databas\", \"learn\", \"error\", \"present\", \"model\", \"problem\", \"sql\", \"analys\", \"special\", \"recognit\", \"search\", \"analysi\", \"use\", \"week\", \"applic\", \"understand\", \"data\", \"cours\", \"practic\", \"mani\", \"analyt\", \"build\", \"includ\", \"system\", \"other\", \"distribut\", \"appli\", \"deep\", \"comput\", \"also\", \"abl\", \"introduc\", \"experi\", \"cloud\", \"work\", \"feedback\", \"coach\", \"csa\", \"qualifi\", \"philosophi\", \"pro\", \"requir\", \"around\", \"requisit\", \"habit\", \"receiv\", \"back\", \"ec\", \"nosql\", \"peak\", \"administr\", \"sysop\", \"mentor\", \"posit\", \"establish\", \"minut\", \"reinforc\", \"exercis\", \"academia\", \"yet\", \"assign\", \"dirti\", \"templat\", \"built\", \"regularli\", \"classic\", \"whether\", \"homework\", \"growth\", \"insid\", \"certif\", \"aw\", \"academi\", \"real\", \"infer\", \"world\", \"perform\", \"distribut\", \"develop\", \"much\", \"mapreduc\", \"provid\", \"take\", \"c\", \"today\", \"system\", \"exam\", \"experi\", \"use\", \"program\", \"knowledg\", \"base\", \"comput\", \"hand\", \"concept\", \"cours\", \"environ\", \"cloud\", \"algorithm\", \"data\", \"servic\", \"learn\", \"understand\", \"also\", \"googl\", \"style\", \"capabl\", \"choos\", \"pig\", \"convolut\", \"mindset\", \"spent\", \"bigqueri\", \"carri\", \"&\", \"everyon\", \"exploratori\", \"graphic\", \"selv\", \"typic\", \"disc\", \"circl\", \"commit\", \"inclus\", \"widen\", \"curios\", \"section\", \"inspir\", \"reflect\", \"datastor\", \"bigtabl\", \"engin\", \"dataproc\", \"consol\", \"platform\", \"big\", \"principl\", \"differ\", \"product\", \"slalom\", \"data\", \"cloud\", \"techniqu\", \"describ\", \"acceler\", \"purpos\", \"hive\", \"meet\", \"imag\", \"client\", \"identifi\", \"valu\", \"use\", \"work\", \"learn\", \"hadoop\", \"statist\", \"appli\", \"cours\", \"prepar\", \"abl\", \"creat\", \"interact\", \"cover\", \"machin\", \"network\", \"servic\", \"build\", \"help\", \"materi\", \"specialti\", \"secur\", \"step\", \"version\", \"obtain\", \"behind\", \"kubernet\", \"allow\", \"script\", \"bootstrap\", \"command\", \"premis\", \"git\", \"codedeploy\", \"prospect\", \"codecommit\", \"equip\", \"codepipelin\", \"subject\", \"instruct\", \"hero\", \"tidi\", \"e\", \"protect\", \"scikit\", \"linux\", \"infrastructur\", \"addit\", \"deploy\", \"network\", \"need\", \"code\", \"tool\", \"compon\", \"success\", \"cours\", \"cluster\", \"new\", \"way\", \"data\", \"exam\", \"knowledg\", \"pass\", \"aw\", \"cover\", \"predict\", \"provid\", \"also\", \"design\", \"certif\", \"basic\", \"learn\", \"includ\", \"process\", \"cloud\", \"applic\", \"employe\", \"matplotlib\", \"chart\", \"third\", \"text\", \"stori\", \"benefit\", \"higher\", \"exchang\", \"verbal\", \"term\", \"perspect\", \"measur\", \"virtual\", \"non\", \"storytel\", \"account\", \"practition\", \"defin\", \"ident\", \"salesperson\", \"individu\", \"perfect\", \"primari\", \"increasingli\", \"alway\", \"jargon\", \"tech\", \"valuabl\", \"accomplish\", \"similar\", \"group\", \"week\", \"offer\", \"role\", \"technic\", \"workshop\", \"servic\", \"begin\", \"visual\", \"start\", \"compani\", \"concept\", \"cloud\", \"basic\", \"comput\", \"introduc\", \"cours\", \"aw\", \"two\", \"design\", \"technolog\", \"use\", \"storag\", \"cover\", \"method\", \"understand\", \"big\", \"learn\", \"focu\", \"case\", \"foundat\", \"also\", \"prepar\", \"manag\", \"data\", \"googl\", \"includ\", \"devop\", \"function\", \"mayb\", \"ci\", \"fulli\", \"batch\", \"cd\", \"gradient\", \"r\", \"deep\", \"pipelin\", \"java\", \"mountain\", \"perhap\", \"paa\", \"rmsprop\", \"era\", \"systemat\", \"dropout\", \"momentum\", \"dev\", \"descent\", \"trick\", \"adam\", \"paramet\", \"l\", \"magic\", \"mini\", \"optim\", \"converg\", \"web\", \"rubi\", \"surpris\", \"tap\", \"thought\", \"readili\", \"rail\", \"effortless\", \"prototyp\", \"rage\", \"implement\", \"read\", \"tensorflow\", \"check\", \"complic\", \"rather\", \"build\", \"neural\", \"abl\", \"applic\", \"climb\", \"almost\", \"manipul\", \"python\", \"mean\", \"complet\", \"test\", \"meaning\", \"point\", \"program\", \"ai\", \"train\", \"cours\", \"learn\", \"get\", \"basic\", \"practic\", \"data\", \"statist\", \"provid\", \"also\", \"use\", \"set\", \"best\", \"introduc\", \"network\", \"work\", \"student\", \"understand\", \"cover\", \"cloud\", \"includ\"], \"Total\": [30.0, 47.0, 69.0, 94.0, 29.0, 15.0, 23.0, 21.0, 24.0, 17.0, 112.0, 13.0, 10.0, 80.0, 19.0, 8.0, 30.0, 22.0, 9.0, 14.0, 23.0, 22.0, 10.0, 10.0, 13.0, 20.0, 7.0, 11.0, 7.0, 17.0, 6.753012657165527, 6.752676963806152, 5.902135372161865, 5.051290512084961, 5.051183223724365, 4.200432777404785, 4.200430393218994, 3.3495709896087646, 3.3495709896087646, 3.349571466445923, 3.3495705127716064, 3.3495707511901855, 3.3495707511901855, 3.3495700359344482, 3.3494863510131836, 3.3493733406066895, 7.51772928237915, 29.234201431274414, 2.498703956604004, 2.498704671859741, 2.4987030029296875, 2.498704671859741, 2.498703718185425, 2.498703718185425, 2.498703718185425, 2.498704195022583, 2.4987027645111084, 2.4987003803253174, 2.4987003803253174, 2.4987006187438965, 11.700891494750977, 14.040763854980469, 80.58030700683594, 3.308479070663452, 8.284090995788574, 20.606504440307617, 7.422418594360352, 7.475327014923096, 5.764327526092529, 5.7949957847595215, 5.805817127227783, 4.125328063964844, 18.696918487548828, 65.51124572753906, 24.1286563873291, 30.227367401123047, 29.060829162597656, 94.04147338867188, 112.20851135253906, 19.259376525878906, 9.830586433410645, 7.46065092086792, 22.96859359741211, 24.112268447875977, 26.928062438964844, 9.04339599609375, 13.266498565673828, 16.075300216674805, 15.647443771362305, 30.546070098876953, 27.960418701171875, 19.05930519104004, 21.47039031982422, 21.132089614868164, 69.18922424316406, 25.637990951538086, 8.987166404724121, 7.349139213562012, 5.71110725402832, 4.88803243637085, 4.073082447052002, 4.073078632354736, 13.82581615447998, 4.0672607421875, 4.067259311676025, 3.254065990447998, 3.254065990447998, 3.254065752029419, 3.2540647983551025, 4.907656192779541, 2.4350457191467285, 2.4350457191467285, 2.4350457191467285, 2.4350459575653076, 2.4350459575653076, 2.4350461959838867, 2.4350461959838867, 2.4350457191467285, 2.435046672821045, 2.435046672821045, 2.4350457191467285, 2.435046911239624, 2.435046911239624, 2.435046911239624, 2.435046434402466, 2.4350461959838867, 2.435046672821045, 2.435046672821045, 2.435046672821045, 2.4350457191467285, 4.862127304077148, 14.548440933227539, 47.29880142211914, 4.856908321380615, 10.570524215698242, 6.545372009277344, 12.062240600585938, 17.001522064208984, 13.266498565673828, 16.34566879272461, 8.852564811706543, 4.101775646209717, 26.39122772216797, 12.915536880493164, 5.668867588043213, 5.712787628173828, 26.928062438964844, 23.334808349609375, 21.132089614868164, 65.51124572753906, 16.79900360107422, 12.855183601379395, 9.767304420471191, 30.546070098876953, 16.990821838378906, 22.88758659362793, 112.20851135253906, 12.739320755004883, 69.18922424316406, 14.651273727416992, 94.04147338867188, 23.649307250976562, 80.58030700683594, 29.060829162597656, 27.960418701171875, 30.390398025512695, 4.81078577041626, 4.8107781410217285, 4.008036136627197, 4.008018970489502, 3.20528507232666, 3.20528507232666, 3.2052841186523438, 3.2052700519561768, 3.2051970958709717, 5.599831581115723, 5.6614460945129395, 2.4025299549102783, 2.40252947807312, 2.402529716491699, 2.4025278091430664, 2.402528762817383, 2.402529716491699, 2.40252947807312, 2.40252947807312, 2.40252947807312, 2.4025299549102783, 2.402529716491699, 2.4025299549102783, 2.4025299549102783, 2.4025301933288574, 2.4025299549102783, 11.13266658782959, 2.402507781982422, 2.4025096893310547, 17.540651321411133, 21.663482666015625, 4.827284812927246, 8.016250610351562, 12.119697570800781, 11.94364070892334, 94.04147338867188, 69.18922424316406, 15.235589981079102, 3.9503471851348877, 3.950458288192749, 3.981039047241211, 3.9810197353363037, 3.9809653759002686, 4.055950164794922, 8.182063102722168, 6.453176021575928, 6.494721412658691, 65.51124572753906, 25.637990951538086, 80.58030700683594, 5.727900981903076, 15.900450706481934, 16.075300216674805, 112.20851135253906, 13.540201187133789, 19.05930519104004, 13.795116424560547, 7.2423481941223145, 26.983104705810547, 29.234201431274414, 23.65418243408203, 23.649307250976562, 22.96859359741211, 10.413028717041016, 5.532049655914307, 4.742859363555908, 7.913026332855225, 3.1645610332489014, 3.164560556411743, 3.164552688598633, 3.1645357608795166, 6.277231216430664, 6.350953578948975, 2.3753821849823, 2.3753821849823, 2.3753821849823, 2.375382900238037, 2.375382423400879, 2.375382900238037, 2.3753809928894043, 2.375382900238037, 2.3753809928894043, 2.375382900238037, 2.3753812313079834, 2.375382900238037, 2.375382900238037, 2.375382661819458, 2.375356912612915, 2.37536358833313, 2.3753316402435303, 10.365486145019531, 10.210479736328125, 4.830638408660889, 9.433095932006836, 23.65418243408203, 17.606426239013672, 8.66034984588623, 15.144948959350586, 5.571394920349121, 5.623237133026123, 112.20851135253906, 9.78600788116455, 15.868951797485352, 16.80903434753418, 94.04147338867188, 23.334808349609375, 12.855183601379395, 8.80062484741211, 47.29880142211914, 26.983104705810547, 7.055535793304443, 26.39122772216797, 27.960418701171875, 19.269010543823242, 14.548440933227539, 20.242902755737305, 80.58030700683594, 24.112268447875977, 15.23961353302002, 69.18922424316406, 30.227367401123047, 3.1246578693389893, 3.1246588230133057, 3.1246590614318848, 3.124620199203491, 10.257270812988281, 6.254866123199463, 2.3487863540649414, 2.3487865924835205, 2.348783493041992, 2.348783493041992, 2.3487861156463623, 2.3487861156463623, 2.349529266357422, 4.689569473266602, 4.751071453094482, 3.9272689819335938, 3.943509578704834, 3.943516492843628, 3.9753012657165527, 4.696834087371826, 1.5729014873504639, 1.5729014873504639, 1.5729014873504639, 1.572901725769043, 1.5729016065597534, 1.5729016065597534, 1.5729014873504639, 1.5729016065597534, 1.5729016065597534, 1.5729007720947266, 1.5729008913040161, 1.5729008913040161, 24.1286563873291, 7.9247941970825195, 4.7941694259643555, 4.826199054718018, 3.1513917446136475, 23.649307250976562, 3.0946364402770996, 8.724217414855957, 10.9732084274292, 5.570911884307861, 22.88758659362793, 69.18922424316406, 20.242902755737305, 30.546070098876953, 21.47039031982422, 112.20851135253906, 47.29880142211914, 10.522197723388672, 19.269010543823242, 8.746965408325195, 65.51124572753906, 7.989891052246094, 26.983104705810547, 8.782320976257324, 29.060829162597656, 21.663482666015625, 80.58030700683594, 9.736026763916016, 9.760724067687988, 9.614823341369629, 27.960418701171875, 13.540201187133789, 16.01206398010254, 94.04147338867188, 30.390398025512695, 24.112268447875977, 6.0575056076049805, 5.298995018005371, 2.287534713745117, 2.287533760070801, 2.28753399848938, 2.287534713745117, 2.2875335216522217, 2.287534713745117, 9.153322219848633, 15.647443771362305, 5.479377746582031, 1.5422862768173218, 1.5422863960266113, 1.5422863960266113, 1.5422863960266113, 1.5422861576080322, 1.5422861576080322, 1.5422861576080322, 1.5422861576080322, 1.5422861576080322, 1.5422861576080322, 1.5422861576080322, 1.5422861576080322, 1.5422861576080322, 1.5422862768173218, 1.5422861576080322, 1.5422861576080322, 1.5422861576080322, 1.5422861576080322, 1.5422861576080322, 10.919116020202637, 1.5422862768173218, 1.5422862768173218, 1.5422862768173218, 1.5422862768173218, 1.5422862768173218, 1.5422863960266113, 1.5422862768173218, 1.5422862768173218, 1.5422862768173218, 7.800824165344238, 3.090142250061035, 3.090144157409668, 3.106383800506592, 3.1381735801696777, 3.138049602508545, 22.96859359741211, 9.435659408569336, 19.05930519104004, 30.227367401123047, 1.5422862768173218, 1.5422862768173218, 5.360281944274902, 5.373383522033691, 1.5422862768173218, 5.429845809936523, 5.452681541442871, 1.5422862768173218, 1.5422862768173218, 16.79900360107422, 6.4360551834106445, 6.365902900695801, 112.20851135253906, 80.58030700683594, 14.359020233154297, 20.242902755737305, 19.259376525878906, 94.04147338867188, 15.900450706481934, 26.39122772216797, 27.960418701171875, 65.51124572753906, 11.231468200683594, 12.73043155670166, 21.47039031982422, 23.65418243408203, 25.637990951538086, 13.312923431396484, 29.060829162597656, 26.983104705810547, 69.18922424316406, 24.112268447875977], \"loglift\": [30.0, 29.0, 28.0, 27.0, 26.0, 25.0, 24.0, 23.0, 22.0, 21.0, 20.0, 19.0, 18.0, 17.0, 16.0, 15.0, 14.0, 13.0, 12.0, 11.0, 10.0, 9.0, 8.0, 7.0, 6.0, 5.0, 4.0, 3.0, 2.0, 1.0, 1.3579000234603882, 1.3575999736785889, 1.3423000574111938, 1.3209999799728394, 1.3208999633789062, 1.2904000282287598, 1.2904000282287598, 1.242300033569336, 1.242300033569336, 1.242300033569336, 1.242300033569336, 1.242300033569336, 1.242300033569336, 1.242300033569336, 1.2419999837875366, 1.2417000532150269, 1.2299000024795532, 1.166700005531311, 1.1557999849319458, 1.1557999849319458, 1.1557999849319458, 1.1557999849319458, 1.1557999849319458, 1.1557999849319458, 1.1557999849319458, 1.1557999849319458, 1.1557999849319458, 1.1557999849319458, 1.1557999849319458, 1.1557999849319458, 1.0951000452041626, 0.9732999801635742, 0.741599977016449, 1.1239999532699585, 0.9977999925613403, 0.8503999710083008, 0.9355999827384949, 0.9277999997138977, 0.9736999869346619, 0.9684000015258789, 0.96670001745224, 1.034000039100647, 0.640500009059906, 0.2125999927520752, 0.5131000280380249, 0.39660000801086426, 0.3946000039577484, -0.07039999961853027, -0.21940000355243683, 0.46239998936653137, 0.7563999891281128, 0.8650000095367432, 0.31369999051094055, 0.26499998569488525, 0.20110000669956207, 0.7386000156402588, 0.49790000915527344, 0.3732999861240387, 0.36730000376701355, -0.12710000574588776, -0.0843999981880188, 0.17000000178813934, 0.07119999825954437, 0.06689999997615814, -1.0191999673843384, -0.1264999955892563, 1.610700011253357, 1.5928000211715698, 1.5641000270843506, 1.5166000127792358, 1.51010000705719, 1.51010000705719, 1.4742000102996826, 1.4643000364303589, 1.4643000364303589, 1.4601000547409058, 1.4601000547409058, 1.4601000547409058, 1.4601000547409058, 1.4325000047683716, 1.3704999685287476, 1.3704999685287476, 1.3704999685287476, 1.3704999685287476, 1.3704999685287476, 1.3704999685287476, 1.3704999685287476, 1.3704999685287476, 1.3704999685287476, 1.3704999685287476, 1.3704999685287476, 1.3704999685287476, 1.3704999685287476, 1.3704999685287476, 1.3704999685287476, 1.3704999685287476, 1.3704999685287476, 1.3704999685287476, 1.3704999685287476, 1.3704999685287476, 1.3329999446868896, 1.1993999481201172, 1.0542999505996704, 1.2913999557495117, 1.194000005722046, 1.2509000301361084, 1.1632000207901, 1.1104999780654907, 1.1403000354766846, 0.9936000108718872, 1.1038999557495117, 1.2574000358581543, 0.8360999822616577, 0.9983000159263611, 1.1796000003814697, 1.1718000173568726, 0.7075999975204468, 0.7253000140190125, 0.6906999945640564, 0.2248000055551529, 0.7773000001907349, 0.8762999773025513, 0.9575999975204468, 0.42410001158714294, 0.6825000047683716, 0.5200999975204468, -0.35269999504089355, 0.8199999928474426, -0.3325999975204468, 0.6258999705314636, -0.7516000270843506, 0.25279998779296875, -0.815500020980835, 0.014299999922513962, 0.035999998450279236, 1.6603000164031982, 1.6450999975204468, 1.6449999809265137, 1.6124999523162842, 1.6122000217437744, 1.5615999698638916, 1.5615999698638916, 1.5615999698638916, 1.561400055885315, 1.5609999895095825, 1.4931999444961548, 1.482300043106079, 1.4702999591827393, 1.4702999591827393, 1.4702999591827393, 1.4702999591827393, 1.4702999591827393, 1.4702999591827393, 1.4702999591827393, 1.4702999591827393, 1.4702999591827393, 1.4702999591827393, 1.4702999591827393, 1.4702999591827393, 1.4702999591827393, 1.4702999591827393, 1.4702999591827393, 1.4701999425888062, 1.4697999954223633, 1.4697999954223633, 1.4610999822616577, 1.3140000104904175, 1.420799970626831, 1.3346999883651733, 1.271299958229065, 1.1937999725341797, 0.7914999723434448, 0.7379000186920166, 1.059999942779541, 1.3522000312805176, 1.351699948310852, 1.3447999954223633, 1.344599962234497, 1.344599962234497, 1.326200008392334, 1.1140999794006348, 1.1358000040054321, 1.1298999786376953, 0.08389999717473984, 0.42980000376701355, -0.17960000038146973, 1.159600019454956, 0.6262999773025513, 0.6166999936103821, -0.5522000193595886, 0.6937999725341797, 0.48429998755455017, 0.6392999887466431, 1.0210000276565552, 0.04619999974966049, -0.05990000069141388, 0.052299998700618744, -0.014100000262260437, -0.08950000256299973, 0.682699978351593, 1.718000054359436, 1.6949000358581543, 1.6411000490188599, 1.610200047492981, 1.610200047492981, 1.6096999645233154, 1.6095999479293823, 1.5917999744415283, 1.579699993133545, 1.5176000595092773, 1.5176000595092773, 1.5176000595092773, 1.5176000595092773, 1.5176000595092773, 1.5176000595092773, 1.5176000595092773, 1.5176000595092773, 1.5176000595092773, 1.5176000595092773, 1.5176000595092773, 1.5176000595092773, 1.5176000595092773, 1.5176000595092773, 1.517199993133545, 1.517199993133545, 1.5168999433517456, 1.4532999992370605, 1.364799976348877, 1.354099988937378, 1.3349000215530396, 1.2890000343322754, 1.1871999502182007, 1.269700050354004, 1.0963000059127808, 1.319000005722046, 1.3098000288009644, 0.5145999789237976, 1.1476999521255493, 1.0119999647140503, 0.9919999837875366, 0.1712000072002411, 0.6862000226974487, 0.9053999781608582, 1.0370999574661255, 0.3995000123977661, 0.6065999865531921, 1.0824999809265137, 0.2930999994277954, 0.2176000028848648, 0.4359000027179718, 0.6013000011444092, 0.24400000274181366, -0.8439000248908997, 0.0689999982714653, 0.46140000224113464, -0.8695999979972839, -0.17759999632835388, 1.7210999727249146, 1.7210999727249146, 1.7210999727249146, 1.7204999923706055, 1.6988999843597412, 1.693600058555603, 1.6269999742507935, 1.6269999742507935, 1.6269999742507935, 1.6269999742507935, 1.6269999742507935, 1.6269999742507935, 1.59660005569458, 1.5895999670028687, 1.5750999450683594, 1.4924999475479126, 1.4883999824523926, 1.4883999824523926, 1.4803999662399292, 1.4462000131607056, 1.4089000225067139, 1.4089000225067139, 1.4089000225067139, 1.4089000225067139, 1.4089000225067139, 1.4089000225067139, 1.4089000225067139, 1.4089000225067139, 1.4089000225067139, 1.4089000225067139, 1.4089000225067139, 1.4089000225067139, 1.2164000272750854, 1.2800999879837036, 1.2930999994277954, 1.2863999605178833, 1.3330999612808228, 1.0771000385284424, 1.3221999406814575, 1.184000015258789, 1.1152000427246094, 1.2174999713897705, 0.9674000144004822, 0.7674000263214111, 0.9157000184059143, 0.7874000072479248, 0.8116000294685364, 0.24889999628067017, 0.47040000557899475, 0.9965999722480774, 0.7188000082969666, 1.0379999876022339, 0.0737999975681305, 1.0566999912261963, 0.3061000108718872, 0.9621999859809875, 0.16030000150203705, 0.31529998779296875, -0.6898000240325928, 0.8592000007629395, 0.8565999865531921, 0.8578000068664551, 0.019200000911951065, 0.5501999855041504, 0.38269999623298645, -1.3990000486373901, -0.2728999853134155, -0.04780000075697899, 1.8621000051498413, 1.8188999891281128, 1.7898000478744507, 1.7898000478744507, 1.7898000478744507, 1.7898000478744507, 1.7898000478744507, 1.7898000478744507, 1.7302000522613525, 1.5925999879837036, 1.5703999996185303, 1.5649000406265259, 1.5649000406265259, 1.5649000406265259, 1.5649000406265259, 1.5649000406265259, 1.5649000406265259, 1.5649000406265259, 1.5649000406265259, 1.5649000406265259, 1.5649000406265259, 1.5649000406265259, 1.5649000406265259, 1.5649000406265259, 1.5649000406265259, 1.5649000406265259, 1.5649000406265259, 1.5649000406265259, 1.5649000406265259, 1.5649000406265259, 1.5539000034332275, 1.5649000406265259, 1.5649000406265259, 1.5649000406265259, 1.5649000406265259, 1.5649000406265259, 1.5649000406265259, 1.5649000406265259, 1.5649000406265259, 1.5649000406265259, 1.4321999549865723, 1.4890999794006348, 1.4890999794006348, 1.4838999509811401, 1.4737999439239502, 1.4737000465393066, 1.1038999557495117, 1.2418999671936035, 1.1123000383377075, 1.003600001335144, 1.5649000406265259, 1.5649000406265259, 1.3178000450134277, 1.3154000043869019, 1.5649000406265259, 1.3049999475479126, 1.2872999906539917, 1.5649000406265259, 1.5649000406265259, 0.8420000076293945, 1.1348999738693237, 1.1152000427246094, 0.19509999454021454, 0.26190000772476196, 0.8220999836921692, 0.6556000113487244, 0.6757000088691711, -0.09570000320672989, 0.7200999855995178, 0.37880000472068787, 0.3073999881744385, -0.23800000548362732, 0.817799985408783, 0.727400004863739, 0.3873000144958496, 0.3228999972343445, 0.24240000545978546, 0.682699978351593, 0.11710000038146973, 0.13199999928474426, -0.5738999843597412, 0.2117999941110611], \"logprob\": [30.0, 29.0, 28.0, 27.0, 26.0, 25.0, 24.0, 23.0, 22.0, 21.0, 20.0, 19.0, 18.0, 17.0, 16.0, 15.0, 14.0, 13.0, 12.0, 11.0, 10.0, 9.0, 8.0, 7.0, 6.0, 5.0, 4.0, 3.0, 2.0, 1.0, -5.225200176239014, -5.225599765777588, -5.375500202178955, -5.5524001121521, -5.552599906921387, -5.767600059509277, -5.767600059509277, -6.041999816894531, -6.041999816894531, -6.041999816894531, -6.041999816894531, -6.041999816894531, -6.041999816894531, -6.041999816894531, -6.042300224304199, -6.042600154876709, -5.245999813079834, -3.9511001110076904, -6.421500205993652, -6.421500205993652, -6.421500205993652, -6.421500205993652, -6.421500205993652, -6.421500205993652, -6.421500205993652, -6.421500205993652, -6.421500205993652, -6.421500205993652, -6.421500205993652, -6.421500205993652, -4.938399791717529, -4.877799987792969, -3.362299919128418, -6.172699928283691, -5.38100004196167, -4.617099761962891, -5.552999973297119, -5.553699970245361, -5.7677998542785645, -5.7677001953125, -5.767499923706055, -6.041999816894531, -4.924200057983398, -4.098299980163574, -4.796599864959717, -4.687699794769287, -4.729100227355957, -4.019700050354004, -3.9921000003814697, -5.072700023651123, -5.451200008392334, -5.618500232696533, -5.045300006866455, -5.045400142669678, -4.998799800872803, -5.552499771118164, -5.409999847412109, -5.34250020980835, -5.375500202178955, -5.200900077819824, -5.246799945831299, -5.375500202178955, -5.355299949645996, -5.375400066375732, -5.2754998207092285, -5.375500202178955, -4.686600208282471, -4.905700206756592, -5.186600208282471, -5.389800071716309, -5.57859992980957, -5.578700065612793, -4.392399787902832, -5.625899791717529, -5.625899791717529, -5.853099822998047, -5.853099822998047, -5.853099822998047, -5.853099822998047, -5.469799995422363, -6.232600212097168, -6.232600212097168, -6.232600212097168, -6.232600212097168, -6.232600212097168, -6.232600212097168, -6.232600212097168, -6.232600212097168, -6.232600212097168, -6.232600212097168, -6.232600212097168, -6.232600212097168, -6.232600212097168, -6.232600212097168, -6.232600212097168, -6.232600212097168, -6.232600212097168, -6.232600212097168, -6.232600212097168, -6.232600212097168, -5.57859992980957, -4.616199970245361, -3.5822999477386475, -5.621300220489502, -4.940999984741211, -5.363399982452393, -4.839799880981445, -4.549300193786621, -4.767600059509277, -4.70550012588501, -5.208499908447266, -5.8242998123168945, -4.383900165557861, -4.936399936676025, -5.578499794006348, -5.57859992980957, -4.492300033569336, -4.6178998947143555, -4.7515997886657715, -4.086100101470947, -4.894499778747559, -5.0630998611450195, -5.256499767303467, -4.649799823760986, -4.97790002822876, -4.842400074005127, -4.125400066375732, -5.128399848937988, -4.588799953460693, -5.182700157165527, -4.701000213623047, -5.077000141143799, -4.919300079345703, -5.109399795532227, -5.126299858093262, -3.4186999797821045, -5.277200222015381, -5.277200222015381, -5.492300033569336, -5.492599964141846, -5.76669979095459, -5.76669979095459, -5.76669979095459, -5.767000198364258, -5.767300128936768, -5.277100086212158, -5.277100086212158, -6.146200180053711, -6.146200180053711, -6.146200180053711, -6.146200180053711, -6.146200180053711, -6.146200180053711, -6.146200180053711, -6.146200180053711, -6.146200180053711, -6.146200180053711, -6.146200180053711, -6.146200180053711, -6.146200180053711, -6.146200180053711, -6.146200180053711, -4.61299991607666, -6.1468000411987305, -6.1468000411987305, -4.167500019073486, -4.103400230407715, -5.498000144958496, -5.077000141143799, -4.7270002365112305, -4.8190999031066895, -3.157900094985962, -3.518399953842163, -4.709499835968018, -5.767099857330322, -5.767499923706055, -5.76669979095459, -5.767000198364258, -5.767000198364258, -5.76669979095459, -5.277100086212158, -5.492700099945068, -5.492300033569336, -4.226900100708008, -4.819300174713135, -4.2835001945495605, -5.588099956512451, -5.100399971008301, -5.099100112915039, -4.324900150299072, -5.193699836730957, -5.061200141906738, -5.229499816894531, -5.492099761962891, -5.151700019836426, -5.177700042724609, -5.277200222015381, -5.343900203704834, -5.448400020599365, -5.467400074005127, -5.064499855041504, -5.241600036621094, -4.7835001945495605, -5.730899810791016, -5.730899810791016, -5.731400012969971, -5.731500148773193, -5.064300060272217, -5.064799785614014, -6.110400199890137, -6.110400199890137, -6.110400199890137, -6.110400199890137, -6.110400199890137, -6.110400199890137, -6.110400199890137, -6.110400199890137, -6.110400199890137, -6.110400199890137, -6.110400199890137, -6.110400199890137, -6.110400199890137, -6.110400199890137, -6.1107001304626465, -6.1107001304626465, -6.111100196838379, -4.701300144195557, -4.804900169372559, -5.564000129699707, -4.914000034332275, -4.040500164031982, -4.437600135803223, -5.064599990844727, -4.679200172424316, -5.456399917602539, -5.456399917602539, -3.2581000328063965, -5.064499855041504, -4.716700077056885, -4.679200172424316, -3.7781999111175537, -4.656899929046631, -5.033899784088135, -5.281199932098389, -4.237100124359131, -4.591300010681152, -5.4567999839782715, -4.927000045776367, -4.944699764251709, -5.098700046539307, -5.214399814605713, -5.241300106048584, -4.947800159454346, -5.241399765014648, -5.307799816131592, -5.125899791717529, -5.26200008392334, -5.632699966430664, -5.632699966430664, -5.632699966430664, -5.633299827575684, -4.46619987487793, -4.966100215911865, -6.012199878692627, -6.012199878692627, -6.012199878692627, -6.012199878692627, -6.012199878692627, -6.012199878692627, -6.042300224304199, -5.3582000732421875, -5.359600067138672, -5.632599830627441, -5.632599830627441, -5.632599830627441, -5.632599830627441, -5.5, -6.63129997253418, -6.63129997253418, -6.63129997253418, -6.63129997253418, -6.63129997253418, -6.63129997253418, -6.63129997253418, -6.63129997253418, -6.63129997253418, -6.63129997253418, -6.63129997253418, -6.63129997253418, -4.093299865722656, -5.14300012588501, -5.632599830627441, -5.632599830627441, -6.0121002197265625, -4.252699851989746, -6.041299819946289, -5.14300012588501, -4.982399940490723, -5.55810022354126, -4.395100116729736, -3.4888999462127686, -4.5696001052856445, -4.286499977111816, -4.614799976348877, -3.523900032043457, -4.166200160980225, -5.14300012588501, -4.815800189971924, -5.286399841308594, -4.237100124359131, -5.3582000732421875, -4.8917999267578125, -5.358099937438965, -4.963399887084961, -5.102200031280518, -4.793700218200684, -5.358099937438965, -5.3582000732421875, -5.372000217437744, -5.143099784851074, -5.337299823760986, -5.336999893188477, -5.348400115966797, -5.351900100708008, -5.3582000732421875, -4.829800128936768, -5.006700038909912, -5.875800132751465, -5.875800132751465, -5.875800132751465, -5.875800132751465, -5.875800132751465, -5.875800132751465, -4.548799991607666, -4.150199890136719, -5.221700191497803, -6.494900226593018, -6.494900226593018, -6.494900226593018, -6.494900226593018, -6.494900226593018, -6.494900226593018, -6.494900226593018, -6.494900226593018, -6.494900226593018, -6.494900226593018, -6.494900226593018, -6.494900226593018, -6.494900226593018, -6.494900226593018, -6.494900226593018, -6.494900226593018, -6.494900226593018, -6.494900226593018, -6.494900226593018, -4.548699855804443, -6.494900226593018, -6.494900226593018, -6.494900226593018, -6.494900226593018, -6.494900226593018, -6.494900226593018, -6.494900226593018, -6.494900226593018, -6.494900226593018, -5.006700038909912, -5.875800132751465, -5.875800132751465, -5.875699996948242, -5.875699996948242, -5.875800132751465, -4.255099773406982, -5.006700038909912, -4.433300018310547, -4.0808000564575195, -6.494900226593018, -6.494900226593018, -5.496300220489502, -5.496200084686279, -6.494900226593018, -5.496200084686279, -5.509699821472168, -6.494900226593018, -6.494900226593018, -4.829699993133545, -5.496300220489502, -5.526899814605713, -3.577699899673462, -3.8420000076293945, -5.0065999031066895, -4.829699993133545, -4.859399795532227, -4.045000076293945, -5.0065999031066895, -4.84119987487793, -4.854899883270264, -4.548900127410889, -5.2565999031066895, -5.221700191497803, -5.0391998291015625, -5.006700038909912, -5.0065999031066895, -5.221700191497803, -5.0065999031066895, -5.065800189971924, -4.8302001953125, -5.098499774932861]}, \"token.table\": {\"Topic\": [3, 4, 1, 2, 3, 6, 2, 4, 2, 3, 6, 5, 2, 5, 6, 1, 4, 2, 1, 6, 1, 2, 3, 4, 6, 2, 4, 6, 1, 2, 3, 4, 5, 6, 5, 1, 2, 6, 1, 2, 3, 4, 6, 1, 2, 3, 1, 3, 4, 5, 6, 1, 2, 3, 4, 5, 6, 2, 2, 1, 2, 4, 5, 2, 1, 2, 4, 5, 2, 3, 4, 5, 6, 6, 5, 6, 4, 5, 1, 2, 3, 4, 5, 6, 1, 3, 4, 5, 3, 3, 4, 1, 3, 4, 5, 6, 2, 1, 5, 1, 2, 6, 3, 3, 1, 2, 5, 6, 2, 3, 4, 5, 2, 6, 3, 6, 3, 2, 1, 2, 3, 6, 1, 2, 3, 4, 5, 6, 1, 4, 2, 2, 4, 6, 4, 4, 4, 4, 3, 2, 5, 2, 4, 6, 1, 6, 1, 4, 6, 1, 2, 3, 4, 5, 6, 2, 3, 4, 5, 6, 1, 3, 6, 3, 1, 2, 3, 4, 5, 6, 1, 2, 3, 4, 5, 6, 1, 2, 3, 4, 5, 2, 3, 1, 2, 3, 4, 5, 6, 1, 2, 4, 6, 3, 3, 1, 3, 6, 1, 5, 2, 3, 4, 6, 6, 3, 6, 1, 2, 3, 4, 5, 6, 1, 2, 3, 4, 4, 6, 1, 2, 3, 4, 2, 3, 1, 2, 6, 4, 2, 6, 5, 3, 4, 5, 6, 1, 2, 3, 4, 5, 6, 4, 6, 1, 1, 2, 1, 3, 1, 2, 3, 4, 5, 5, 1, 2, 1, 2, 3, 4, 5, 6, 3, 2, 1, 3, 4, 5, 1, 2, 3, 5, 6, 6, 5, 6, 1, 2, 4, 6, 4, 1, 3, 5, 6, 3, 5, 2, 2, 1, 3, 1, 2, 3, 4, 5, 6, 1, 2, 3, 4, 5, 6, 4, 5, 3, 5, 2, 1, 4, 5, 1, 2, 3, 5, 1, 3, 1, 2, 4, 6, 1, 2, 3, 4, 5, 6, 3, 5, 5, 1, 2, 3, 3, 4, 5, 6, 1, 2, 4, 3, 4, 1, 1, 1, 2, 3, 4, 5, 1, 2, 3, 4, 5, 6, 5, 6, 1, 2, 4, 6, 4, 6, 6, 1, 2, 3, 4, 5, 6, 1, 2, 4, 1, 1, 3, 5, 6, 1, 2, 3, 4, 5, 6, 1, 2, 4, 5, 5, 6, 1, 2, 4, 5, 6, 6, 6, 5, 3, 5, 1, 2, 1, 4, 5, 3, 6, 2, 1, 1, 2, 3, 4, 5, 6, 6, 1, 2, 3, 6, 1, 1, 2, 4, 5, 6, 1, 3, 4, 6, 1, 3, 6, 1, 2, 4, 5, 6, 1, 5, 1, 2, 4, 2, 3, 5, 6, 1, 1, 2, 3, 5, 6, 6, 1, 2, 4, 5, 2, 5, 1, 2, 3, 4, 6, 6, 5, 2, 3, 1, 6, 2, 3, 5, 6, 6, 2, 1, 2, 4, 5, 6, 2, 5, 1, 4, 6, 4, 2, 3, 4, 5, 1, 1, 2, 6, 5, 2, 3, 2, 1, 2, 5, 1, 2, 3, 4, 5, 6, 1, 2, 3, 4, 1, 2, 4, 6, 4, 4, 6, 1, 2, 3, 4, 5, 6, 3, 5, 4, 5, 6, 2, 3, 4, 6, 6, 6, 1, 6, 3, 6, 6, 1, 2, 4, 6, 2, 1, 3, 3, 1, 2, 2, 1, 2, 4, 2, 6, 1, 2, 5, 6, 5, 4, 4, 1, 5, 3, 3, 4, 3, 1, 2, 3, 4, 5, 6, 1, 2, 4, 6, 5, 2, 3, 4, 5, 1, 2, 3, 1, 2, 5, 4, 1, 3, 1, 2, 3, 1, 3, 4, 5, 6, 1, 1, 2, 3, 5, 6, 4, 1, 3, 5, 3, 5, 3, 5, 1, 2, 3, 4, 5, 6, 3, 4, 1, 2, 4, 6, 1, 2, 1, 2, 3, 4, 5, 6, 6, 1, 2, 3, 4, 6, 6, 5, 1, 5, 1, 2, 3, 6, 1, 3, 5, 6, 2, 3, 6, 5, 1, 4, 5, 6, 1, 5, 5, 6, 4, 1, 2, 4, 1, 3, 4, 5, 6, 1, 2, 3, 6, 6, 1, 3, 4, 5, 3, 1, 2, 3, 4, 5, 6, 1, 1, 2, 3, 4, 5, 6, 1, 2, 3, 5, 5, 4, 4, 5, 1, 3, 4, 5, 1, 1, 2, 3, 4, 5, 6, 1, 2, 4, 6, 1, 3, 4, 5, 6, 2, 3, 1, 2, 3, 4, 5, 6, 3, 5, 2, 3, 5, 6, 2], \"Freq\": [0.7143071889877319, 0.17857679724693298, 0.2623390555381775, 0.10493561625480652, 0.2623390555381775, 0.367274671792984, 0.6176769137382507, 0.20589229464530945, 0.82133948802948, 0.7594055533409119, 0.25313517451286316, 0.6357679963111877, 0.2535812258720398, 0.5071624517440796, 0.6483880877494812, 0.20701198279857635, 0.6210359334945679, 0.8213397860527039, 0.621498703956604, 0.310749351978302, 0.34126725792884827, 0.34126725792884827, 0.13650690019130707, 0.06825345009565353, 0.13650690019130707, 0.1574566662311554, 0.7872833609580994, 0.6483880281448364, 0.21458905935287476, 0.17882421612739563, 0.10729452967643738, 0.17882421612739563, 0.1430593729019165, 0.1430593729019165, 0.6357676982879639, 0.6939231157302856, 0.1734807789325714, 0.1734807789325714, 0.4278779923915863, 0.05348474904894829, 0.16045424342155457, 0.21393899619579315, 0.10696949809789658, 0.5361462235450745, 0.13403655588626862, 0.26807311177253723, 0.3110361695289612, 0.3110361695289612, 0.12441447377204895, 0.062207236886024475, 0.18662171065807343, 0.3308260440826416, 0.06616520881652832, 0.06616520881652832, 0.13233041763305664, 0.06616520881652832, 0.3308260440826416, 0.7375971674919128, 0.8213394284248352, 0.8956370949745178, 0.5285546183586121, 0.2325640320777893, 0.2325640320777893, 0.9219235777854919, 0.20476478338241577, 0.5119119882583618, 0.10238239169120789, 0.10238239169120789, 0.09880006313323975, 0.14820009469985962, 0.1976001262664795, 0.3458002209663391, 0.24700014293193817, 0.8743036985397339, 0.6462794542312622, 0.3231397271156311, 0.6320042610168457, 0.8515036106109619, 0.2356557995080948, 0.15710386633872986, 0.2356557995080948, 0.15710386633872986, 0.07855193316936493, 0.2356557995080948, 0.13848188519477844, 0.6000881791114807, 0.046160630881786346, 0.18464252352714539, 0.9359585642814636, 0.8324558138847351, 0.8419697880744934, 0.3047639727592468, 0.13061313331127167, 0.08707541972398758, 0.08707541972398758, 0.3483016788959503, 0.8213395476341248, 0.7981133460998535, 0.13301889598369598, 0.17640207707881927, 0.5292062163352966, 0.17640207707881927, 0.8314663171768188, 0.9359799027442932, 0.40980565547943115, 0.30735424160957336, 0.30735424160957336, 0.8743041157722473, 0.6186229586601257, 0.06873589009046555, 0.2749435603618622, 0.640069842338562, 0.32191771268844604, 0.6438354253768921, 0.7484962344169617, 0.8743040561676025, 0.8324558734893799, 0.82133948802948, 0.3666556775569916, 0.12221856415271759, 0.48887425661087036, 0.6483880281448364, 0.08671870827674866, 0.13007806241512299, 0.34687483310699463, 0.07226558774709702, 0.3035154640674591, 0.07226558774709702, 0.4087468683719635, 0.5109335780143738, 0.9524924755096436, 0.23093755543231964, 0.5773438811302185, 0.23093755543231964, 0.8419695496559143, 0.8419695496559143, 0.8419695496559143, 0.8419697880744934, 0.8324559926986694, 0.35900765657424927, 0.5385114550590515, 0.1841672956943512, 0.3683345913887024, 0.3683345913887024, 0.31865668296813965, 0.6373133659362793, 0.17948825657367706, 0.5384647846221924, 0.17948825657367706, 0.19642461836338043, 0.29463690519332886, 0.09821230918169022, 0.06547486782073975, 0.29463690519332886, 0.06547486782073975, 0.30584263801574707, 0.04369180649518967, 0.17476722598075867, 0.34953445196151733, 0.08738361299037933, 0.8004159927368164, 0.8324628472328186, 0.6483880877494812, 0.935954213142395, 0.18715158104896545, 0.13367970287799835, 0.09803178161382675, 0.2673594057559967, 0.1782395988702774, 0.1425916850566864, 0.18530113995075226, 0.03706022724509239, 0.18530113995075226, 0.29648181796073914, 0.18530113995075226, 0.14824090898036957, 0.2899576723575592, 0.1449788361787796, 0.2899576723575592, 0.1449788361787796, 0.1449788361787796, 0.8754869699478149, 0.8324558138847351, 0.2126721292734146, 0.08506885170936584, 0.37217622995376587, 0.19140490889549255, 0.03190081939101219, 0.1063360646367073, 0.6409907937049866, 0.21366359293460846, 0.07122119516134262, 0.14244239032268524, 0.8324635028839111, 0.8324556946754456, 0.31954100728034973, 0.06390820443630219, 0.5751737952232361, 0.2515532672405243, 0.5031065344810486, 0.10600973665714264, 0.10600973665714264, 0.6360583901405334, 0.21201947331428528, 0.6483880877494812, 0.7594268918037415, 0.2531422972679138, 0.20758719742298126, 0.20758719742298126, 0.051896799355745316, 0.2594839930534363, 0.3113808035850525, 0.6483880877494812, 0.24471314251422882, 0.48942628502845764, 0.061178285628557205, 0.18353486061096191, 0.16508445143699646, 0.8254222869873047, 0.8004150390625, 0.12474659830331802, 0.6237329840660095, 0.12474659830331802, 0.8213394284248352, 0.8324562311172485, 0.3768891990184784, 0.6030226945877075, 0.6483880877494812, 0.8419787287712097, 0.9219238758087158, 0.6483880281448364, 0.6400700807571411, 0.7186059355735779, 0.08982574194669724, 0.08982574194669724, 0.08982574194669724, 0.800416111946106, 0.3924856185913086, 0.15699423849582672, 0.15699423849582672, 0.15699423849582672, 0.15699423849582672, 0.8419702053070068, 0.6483880877494812, 0.8004150390625, 0.6045073866844177, 0.8213396668434143, 0.1766333132982254, 0.7065332531929016, 0.0857088640332222, 0.385689914226532, 0.0857088640332222, 0.299981027841568, 0.1285632997751236, 0.8515046238899231, 0.8471510410308838, 0.82133948802948, 0.23660698533058167, 0.37857118248939514, 0.09464279562234879, 0.18928559124469757, 0.09464279562234879, 0.04732139781117439, 0.8324558138847351, 0.8901582360267639, 0.41084522008895874, 0.10271130502223969, 0.10271130502223969, 0.30813390016555786, 0.2080121487379074, 0.2080121487379074, 0.1040060743689537, 0.3120182156562805, 0.1040060743689537, 0.874303936958313, 0.18871502578258514, 0.7548601031303406, 0.2785705327987671, 0.20892789959907532, 0.20892789959907532, 0.2785705327987671, 0.8419696688652039, 0.8004153370857239, 0.8884385228157043, 0.0987153872847557, 0.8743036985397339, 0.8324559926986694, 0.635767936706543, 0.8213397860527039, 0.9219235181808472, 0.3491680324077606, 0.5237520933151245, 0.17656591534614563, 0.35313183069229126, 0.17656591534614563, 0.11771061271429062, 0.11771061271429062, 0.05885530635714531, 0.09603353589773178, 0.28810063004493713, 0.28810063004493713, 0.19206707179546356, 0.09603353589773178, 0.09603353589773178, 0.8419695496559143, 0.8515034914016724, 0.7535757422447205, 0.2511919140815735, 0.82133948802948, 0.8004148602485657, 0.21290937066078186, 0.638728141784668, 0.1549624502658844, 0.1549624502658844, 0.4648873507976532, 0.1549624502658844, 0.24655134975910187, 0.7396540641784668, 0.12819159030914307, 0.25638318061828613, 0.12819159030914307, 0.5127663612365723, 0.2903086543083191, 0.1658906489610672, 0.0829453244805336, 0.1658906489610672, 0.1244179904460907, 0.1658906489610672, 0.8324559926986694, 0.6357676982879639, 0.6357676982879639, 0.1527796983718872, 0.6111187934875488, 0.1527796983718872, 0.09793858975172043, 0.5876315236091614, 0.19587717950344086, 0.09793858975172043, 0.8004147410392761, 0.6170138716697693, 0.2056712955236435, 0.8324558138847351, 0.8419695496559143, 0.8956371545791626, 0.8004152774810791, 0.1380767673254013, 0.1380767673254013, 0.4142302870750427, 0.1380767673254013, 0.1380767673254013, 0.23287886381149292, 0.09315154701471329, 0.13972730934619904, 0.046575773507356644, 0.3260304033756256, 0.18630309402942657, 0.6357676982879639, 0.6483880281448364, 0.07778963446617126, 0.4667377769947052, 0.3889481723308563, 0.07778963446617126, 0.7965295314788818, 0.1593059003353119, 0.6483880877494812, 0.4839892089366913, 0.08686985820531845, 0.13650977611541748, 0.062049899250268936, 0.07445988059043884, 0.14891976118087769, 0.8956372141838074, 0.28942203521728516, 0.6753180623054504, 0.8884923458099365, 0.7525432109832764, 0.17103254795074463, 0.06841301918029785, 0.6483880877494812, 0.12490582466125488, 0.3122645616531372, 0.12490582466125488, 0.18735873699188232, 0.18735873699188232, 0.06245291233062744, 0.5086166858673096, 0.1017233282327652, 0.2034466564655304, 0.1017233282327652, 0.3731147050857544, 0.3731147050857544, 0.24379685521125793, 0.7313905358314514, 0.9038241505622864, 0.6400699019432068, 0.8743036985397339, 0.6483880281448364, 0.6483880281448364, 0.8512343168258667, 0.7535860538482666, 0.25119534134864807, 0.800416111946106, 0.8213397264480591, 0.22773022949695587, 0.22773022949695587, 0.3415953516960144, 0.935954213142395, 0.6483880877494812, 0.8213396668434143, 0.8956373333930969, 0.5338120460510254, 0.048528365790843964, 0.1455851048231125, 0.19411346316337585, 0.048528365790843964, 0.6483880877494812, 0.6483880281448364, 0.11296161264181137, 0.5648080706596375, 0.11296161264181137, 0.22592322528362274, 0.8004149198532104, 0.2271897792816162, 0.1135948896408081, 0.5111770033836365, 0.05679744482040405, 0.1135948896408081, 0.08455163985490799, 0.16910327970981598, 0.5918614864349365, 0.16910327970981598, 0.21196186542510986, 0.3179427981376648, 0.4239237308502197, 0.0630161315202713, 0.3150806725025177, 0.4411129355430603, 0.0630161315202713, 0.1260322630405426, 0.21047884225845337, 0.6314365267753601, 0.20376326143741608, 0.8150530457496643, 0.6320008635520935, 0.25237247347831726, 0.12618623673915863, 0.5047449469566345, 0.6483880877494812, 0.8004150390625, 0.44231170415878296, 0.22115585207939148, 0.11057792603969574, 0.22115585207939148, 0.6483880281448364, 0.6483880281448364, 0.8004147410392761, 0.45451319217681885, 0.45451319217681885, 0.11362829804420471, 0.8213397860527039, 0.6357676982879639, 0.11763652414083481, 0.5881826281547546, 0.11763652414083481, 0.11763652414083481, 0.11763652414083481, 0.6483880281448364, 0.8515036702156067, 0.7365429401397705, 0.7484994530677795, 0.3650049567222595, 0.5475074052810669, 0.05701042711734772, 0.7411355376243591, 0.11402085423469543, 0.05701042711734772, 0.6483880281448364, 0.8213397264480591, 0.3634593188762665, 0.1557682752609253, 0.1557682752609253, 0.1038455218076706, 0.2076910436153412, 0.253580778837204, 0.507161557674408, 0.14173267781734467, 0.4251980483531952, 0.28346535563468933, 0.8419695496559143, 0.2215624451637268, 0.3692707419395447, 0.2215624451637268, 0.2215624451637268, 0.9522833824157715, 0.6035665273666382, 0.24142660200595856, 0.12071330100297928, 0.6357676386833191, 0.20715579390525818, 0.6214673519134521, 0.736543595790863, 0.5389078855514526, 0.13472697138786316, 0.2694539427757263, 0.19685538113117218, 0.13123692572116852, 0.19685538113117218, 0.26247385144233704, 0.13123692572116852, 0.06561846286058426, 0.16502061486244202, 0.08251030743122101, 0.5775721669197083, 0.16502061486244202, 0.17858202755451202, 0.416691392660141, 0.11905468255281448, 0.2976366877555847, 0.8419702053070068, 0.8419763445854187, 0.6483880281448364, 0.11367413401603699, 0.4168051779270172, 0.03789137676358223, 0.22734826803207397, 0.03789137676358223, 0.18945689499378204, 0.7535721063613892, 0.2511906921863556, 0.1861024796962738, 0.3722049593925476, 0.3722049593925476, 0.8183251619338989, 0.21849989891052246, 0.10924994945526123, 0.6554996967315674, 0.6483880281448364, 0.6483880281448364, 0.31866928935050964, 0.6373385787010193, 0.32360970973968506, 0.6472194194793701, 0.6483880281448364, 0.1892053782939911, 0.5676161050796509, 0.09460268914699554, 0.09460268914699554, 0.9219235181808472, 0.6889641880989075, 0.34448209404945374, 0.8324558138847351, 0.8885365128517151, 0.8213396668434143, 0.8213397860527039, 0.7918936610221863, 0.7956130504608154, 0.1446569263935089, 0.7375974059104919, 0.6483880877494812, 0.2085867077112198, 0.2085867077112198, 0.4171734154224396, 0.6483880281448364, 0.6357676982879639, 0.841987669467926, 0.8419697880744934, 0.7272148728370667, 0.242404967546463, 0.8324558734893799, 0.12637390196323395, 0.7582433819770813, 0.8324558734893799, 0.9522828459739685, 0.25370723009109497, 0.16913814842700958, 0.08456907421350479, 0.42284536361694336, 0.08456907421350479, 0.35614222288131714, 0.26710665225982666, 0.17807111144065857, 0.26710665225982666, 0.635767936706543, 0.08372656255960464, 0.5860859751701355, 0.1674531251192093, 0.1674531251192093, 0.6837086081504822, 0.08546357601881027, 0.17092715203762054, 0.6902506947517395, 0.17256267368793488, 0.17256267368793488, 0.8433731198310852, 0.8956369757652283, 0.9359544515609741, 0.5350936651229858, 0.13377341628074646, 0.2675468325614929, 0.0911310464143753, 0.0911310464143753, 0.1822620928287506, 0.4556552469730377, 0.1822620928287506, 0.8956371545791626, 0.18867389857769012, 0.18867389857769012, 0.3144564926624298, 0.12578259408473969, 0.25156518816947937, 0.6319991946220398, 0.1251581460237503, 0.3754744529724121, 0.3754744529724121, 0.1598755270242691, 0.7993776202201843, 0.25462988018989563, 0.5092597603797913, 0.7918768525123596, 0.15022996068000793, 0.2253449410200119, 0.2253449410200119, 0.15022996068000793, 0.2253449410200119, 0.8314650058746338, 0.8419700860977173, 0.17783351242542267, 0.17783351242542267, 0.5335005521774292, 0.6483880281448364, 0.8956370949745178, 0.8213397860527039, 0.2970878481864929, 0.37135979533195496, 0.11140794306993484, 0.07427196204662323, 0.07427196204662323, 0.037135981023311615, 0.6483880877494812, 0.1548522561788559, 0.4645567536354065, 0.07742612808942795, 0.1548522561788559, 0.1548522561788559, 0.6483880281448364, 0.6357676982879639, 0.4144047796726227, 0.4144047796726227, 0.1312715858221054, 0.19690737128257751, 0.45945054292678833, 0.1312715858221054, 0.22865073382854462, 0.22865073382854462, 0.34297609329223633, 0.11432536691427231, 0.8213394284248352, 0.32360950112342834, 0.6472190022468567, 0.8515036702156067, 0.18339599668979645, 0.18339599668979645, 0.18339599668979645, 0.3667919933795929, 0.19498364627361298, 0.7799345850944519, 0.6400777697563171, 0.6483880281448364, 0.8419696092605591, 0.1750458925962448, 0.5251376628875732, 0.1750458925962448, 0.26411446928977966, 0.06602861732244492, 0.4622003138065338, 0.13205723464488983, 0.13205723464488983, 0.3141738176345825, 0.15708690881729126, 0.15708690881729126, 0.3141738176345825, 0.6483880877494812, 0.380148708820343, 0.09503717720508575, 0.09503717720508575, 0.380148708820343, 0.8324565291404724, 0.3441058099269867, 0.17205290496349335, 0.06882116198539734, 0.10323174297809601, 0.17205290496349335, 0.13764232397079468, 0.8956899642944336, 0.29002654552459717, 0.2289683222770691, 0.18317465484142303, 0.06105821952223778, 0.152645543217659, 0.09158732742071152, 0.15397119522094727, 0.30794239044189453, 0.4619135856628418, 0.6357676982879639, 0.8515046238899231, 0.6319992542266846, 0.21323919296264648, 0.6397175788879395, 0.11462346464395523, 0.3438703715801239, 0.11462346464395523, 0.4584938585758209, 0.8956597447395325, 0.17847545444965363, 0.17847545444965363, 0.11898363381624222, 0.41644272208213806, 0.11898363381624222, 0.05949181690812111, 0.2747475206851959, 0.09158250689506531, 0.09158250689506531, 0.5494950413703918, 0.37300047278404236, 0.04144449532032013, 0.04144449532032013, 0.4558894634246826, 0.04144449532032013, 0.82133948802948, 0.8324559926986694, 0.1950230747461319, 0.15601846575737, 0.2730323076248169, 0.1170138493180275, 0.078009232878685, 0.15601846575737, 0.3173201084136963, 0.6346402168273926, 0.580323338508606, 0.16580668091773987, 0.16580668091773987, 0.08290334045886993, 0.8213397860527039], \"Term\": [\"&\", \"&\", \"abl\", \"abl\", \"abl\", \"abl\", \"academi\", \"academi\", \"academia\", \"acceler\", \"acceler\", \"accomplish\", \"account\", \"account\", \"adam\", \"addit\", \"addit\", \"administr\", \"ai\", \"ai\", \"algorithm\", \"algorithm\", \"algorithm\", \"algorithm\", \"algorithm\", \"allow\", \"allow\", \"almost\", \"also\", \"also\", \"also\", \"also\", \"also\", \"also\", \"alway\", \"analys\", \"analys\", \"analys\", \"analysi\", \"analysi\", \"analysi\", \"analysi\", \"analysi\", \"analyt\", \"analyt\", \"analyt\", \"appli\", \"appli\", \"appli\", \"appli\", \"appli\", \"applic\", \"applic\", \"applic\", \"applic\", \"applic\", \"applic\", \"around\", \"assign\", \"audio\", \"aw\", \"aw\", \"aw\", \"back\", \"base\", \"base\", \"base\", \"base\", \"basic\", \"basic\", \"basic\", \"basic\", \"basic\", \"batch\", \"begin\", \"begin\", \"behind\", \"benefit\", \"best\", \"best\", \"best\", \"best\", \"best\", \"best\", \"big\", \"big\", \"big\", \"big\", \"bigqueri\", \"bigtabl\", \"bootstrap\", \"build\", \"build\", \"build\", \"build\", \"build\", \"built\", \"busi\", \"busi\", \"c\", \"c\", \"c\", \"capabl\", \"carri\", \"case\", \"case\", \"case\", \"cd\", \"certif\", \"certif\", \"certif\", \"chart\", \"check\", \"check\", \"choos\", \"ci\", \"circl\", \"classic\", \"client\", \"client\", \"client\", \"climb\", \"cloud\", \"cloud\", \"cloud\", \"cloud\", \"cloud\", \"cloud\", \"cluster\", \"cluster\", \"coach\", \"code\", \"code\", \"code\", \"codecommit\", \"codedeploy\", \"codepipelin\", \"command\", \"commit\", \"compani\", \"compani\", \"complet\", \"complet\", \"complet\", \"complic\", \"complic\", \"compon\", \"compon\", \"compon\", \"comput\", \"comput\", \"comput\", \"comput\", \"comput\", \"comput\", \"concept\", \"concept\", \"concept\", \"concept\", \"concept\", \"consensu\", \"consol\", \"converg\", \"convolut\", \"cours\", \"cours\", \"cours\", \"cours\", \"cours\", \"cours\", \"cover\", \"cover\", \"cover\", \"cover\", \"cover\", \"cover\", \"creat\", \"creat\", \"creat\", \"creat\", \"creat\", \"csa\", \"curios\", \"data\", \"data\", \"data\", \"data\", \"data\", \"data\", \"databas\", \"databas\", \"databas\", \"databas\", \"dataproc\", \"datastor\", \"deep\", \"deep\", \"deep\", \"defin\", \"defin\", \"deploy\", \"deploy\", \"deploy\", \"deploy\", \"descent\", \"describ\", \"describ\", \"design\", \"design\", \"design\", \"design\", \"design\", \"dev\", \"develop\", \"develop\", \"develop\", \"develop\", \"devop\", \"devop\", \"diagram\", \"differ\", \"differ\", \"differ\", \"dirti\", \"disc\", \"distribut\", \"distribut\", \"dropout\", \"e\", \"ec\", \"effortless\", \"employe\", \"engin\", \"engin\", \"engin\", \"engin\", \"enorm\", \"environ\", \"environ\", \"environ\", \"environ\", \"environ\", \"equip\", \"era\", \"erd\", \"error\", \"establish\", \"everyon\", \"everyon\", \"exam\", \"exam\", \"exam\", \"exam\", \"exam\", \"exchang\", \"execut\", \"exercis\", \"experi\", \"experi\", \"experi\", \"experi\", \"experi\", \"experi\", \"exploratori\", \"feedback\", \"focu\", \"focu\", \"focu\", \"focu\", \"foundat\", \"foundat\", \"foundat\", \"foundat\", \"foundat\", \"fulli\", \"function\", \"function\", \"get\", \"get\", \"get\", \"get\", \"git\", \"given\", \"googl\", \"googl\", \"gradient\", \"graphic\", \"group\", \"growth\", \"habit\", \"hadoop\", \"hadoop\", \"hand\", \"hand\", \"hand\", \"hand\", \"hand\", \"hand\", \"help\", \"help\", \"help\", \"help\", \"help\", \"help\", \"hero\", \"higher\", \"hive\", \"hive\", \"homework\", \"hous\", \"ident\", \"ident\", \"identifi\", \"identifi\", \"identifi\", \"identifi\", \"imag\", \"imag\", \"implement\", \"implement\", \"implement\", \"implement\", \"includ\", \"includ\", \"includ\", \"includ\", \"includ\", \"includ\", \"inclus\", \"increasingli\", \"individu\", \"infer\", \"infer\", \"infer\", \"infrastructur\", \"infrastructur\", \"infrastructur\", \"infrastructur\", \"innov\", \"insid\", \"insid\", \"inspir\", \"instruct\", \"intellig\", \"intent\", \"interact\", \"interact\", \"interact\", \"interact\", \"interact\", \"introduc\", \"introduc\", \"introduc\", \"introduc\", \"introduc\", \"introduc\", \"jargon\", \"java\", \"knowledg\", \"knowledg\", \"knowledg\", \"knowledg\", \"kubernet\", \"kubernet\", \"l\", \"learn\", \"learn\", \"learn\", \"learn\", \"learn\", \"learn\", \"linear\", \"linux\", \"linux\", \"listen\", \"machin\", \"machin\", \"machin\", \"magic\", \"manag\", \"manag\", \"manag\", \"manag\", \"manag\", \"manag\", \"mani\", \"mani\", \"mani\", \"mani\", \"manipul\", \"manipul\", \"mapreduc\", \"mapreduc\", \"materi\", \"matplotlib\", \"mayb\", \"mean\", \"meaning\", \"measur\", \"meet\", \"meet\", \"memori\", \"mentor\", \"method\", \"method\", \"method\", \"mindset\", \"mini\", \"minut\", \"ml\", \"model\", \"model\", \"model\", \"model\", \"model\", \"momentum\", \"mountain\", \"much\", \"much\", \"much\", \"much\", \"music\", \"need\", \"need\", \"need\", \"need\", \"need\", \"network\", \"network\", \"network\", \"network\", \"neural\", \"neural\", \"neural\", \"new\", \"new\", \"new\", \"new\", \"new\", \"non\", \"non\", \"nosql\", \"nosql\", \"obtain\", \"offer\", \"offer\", \"offer\", \"optim\", \"oracl\", \"other\", \"other\", \"other\", \"other\", \"paa\", \"paramet\", \"parametr\", \"pass\", \"pass\", \"pass\", \"peak\", \"perfect\", \"perform\", \"perform\", \"perform\", \"perform\", \"perform\", \"perhap\", \"perspect\", \"philosophi\", \"pig\", \"pipelin\", \"pipelin\", \"platform\", \"platform\", \"platform\", \"platform\", \"point\", \"posit\", \"practic\", \"practic\", \"practic\", \"practic\", \"practic\", \"practition\", \"practition\", \"predict\", \"predict\", \"predict\", \"premis\", \"prepar\", \"prepar\", \"prepar\", \"prepar\", \"presenc\", \"present\", \"present\", \"present\", \"primari\", \"principl\", \"principl\", \"pro\", \"problem\", \"problem\", \"problem\", \"process\", \"process\", \"process\", \"process\", \"process\", \"process\", \"product\", \"product\", \"product\", \"product\", \"program\", \"program\", \"program\", \"program\", \"prospect\", \"protect\", \"prototyp\", \"provid\", \"provid\", \"provid\", \"provid\", \"provid\", \"provid\", \"purpos\", \"purpos\", \"python\", \"python\", \"python\", \"qualifi\", \"r\", \"r\", \"r\", \"rage\", \"rail\", \"rather\", \"rather\", \"read\", \"read\", \"readili\", \"real\", \"real\", \"real\", \"real\", \"receiv\", \"recognit\", \"recognit\", \"reflect\", \"regress\", \"regularli\", \"reinforc\", \"reproduc\", \"requir\", \"requir\", \"requisit\", \"rmsprop\", \"role\", \"role\", \"role\", \"rubi\", \"salesperson\", \"scikit\", \"script\", \"search\", \"search\", \"section\", \"secur\", \"secur\", \"selv\", \"sequenc\", \"servic\", \"servic\", \"servic\", \"servic\", \"servic\", \"set\", \"set\", \"set\", \"set\", \"similar\", \"slalom\", \"slalom\", \"slalom\", \"slalom\", \"spark\", \"spark\", \"spark\", \"special\", \"special\", \"special\", \"specialti\", \"speech\", \"spent\", \"sql\", \"sql\", \"sql\", \"start\", \"start\", \"start\", \"start\", \"start\", \"statement\", \"statist\", \"statist\", \"statist\", \"statist\", \"statist\", \"step\", \"storag\", \"storag\", \"storag\", \"stori\", \"stori\", \"storytel\", \"storytel\", \"stream\", \"student\", \"student\", \"student\", \"student\", \"student\", \"style\", \"subject\", \"success\", \"success\", \"success\", \"surpris\", \"synthesi\", \"sysop\", \"system\", \"system\", \"system\", \"system\", \"system\", \"system\", \"systemat\", \"take\", \"take\", \"take\", \"take\", \"take\", \"tap\", \"tech\", \"technic\", \"technic\", \"techniqu\", \"techniqu\", \"techniqu\", \"techniqu\", \"technolog\", \"technolog\", \"technolog\", \"technolog\", \"templat\", \"tensorflow\", \"tensorflow\", \"term\", \"test\", \"test\", \"test\", \"test\", \"text\", \"text\", \"third\", \"thought\", \"tidi\", \"today\", \"today\", \"today\", \"tool\", \"tool\", \"tool\", \"tool\", \"tool\", \"train\", \"train\", \"train\", \"train\", \"trick\", \"two\", \"two\", \"two\", \"two\", \"typic\", \"understand\", \"understand\", \"understand\", \"understand\", \"understand\", \"understand\", \"upon\", \"use\", \"use\", \"use\", \"use\", \"use\", \"use\", \"valu\", \"valu\", \"valu\", \"valuabl\", \"verbal\", \"version\", \"virtual\", \"virtual\", \"visual\", \"visual\", \"visual\", \"visual\", \"wareh\", \"way\", \"way\", \"way\", \"way\", \"way\", \"way\", \"web\", \"web\", \"web\", \"web\", \"week\", \"week\", \"week\", \"week\", \"week\", \"whether\", \"widen\", \"work\", \"work\", \"work\", \"work\", \"work\", \"work\", \"workshop\", \"workshop\", \"world\", \"world\", \"world\", \"world\", \"yet\"]}, \"R\": 30, \"lambda.step\": 0.01, \"plot.opts\": {\"xlab\": \"PC1\", \"ylab\": \"PC2\"}, \"topic.order\": [4, 5, 1, 2, 6, 3]};\n",
       "\n",
       "function LDAvis_load_lib(url, callback){\n",
       "  var s = document.createElement('script');\n",
       "  s.src = url;\n",
       "  s.async = true;\n",
       "  s.onreadystatechange = s.onload = callback;\n",
       "  s.onerror = function(){console.warn(\"failed to load library \" + url);};\n",
       "  document.getElementsByTagName(\"head\")[0].appendChild(s);\n",
       "}\n",
       "\n",
       "if(typeof(LDAvis) !== \"undefined\"){\n",
       "   // already loaded: just create the visualization\n",
       "   !function(LDAvis){\n",
       "       new LDAvis(\"#\" + \"ldavis_el301381400955664053289786769096\", ldavis_el301381400955664053289786769096_data);\n",
       "   }(LDAvis);\n",
       "}else if(typeof define === \"function\" && define.amd){\n",
       "   // require.js is available: use it to load d3/LDAvis\n",
       "   require.config({paths: {d3: \"https://cdnjs.cloudflare.com/ajax/libs/d3/3.5.5/d3.min\"}});\n",
       "   require([\"d3\"], function(d3){\n",
       "      window.d3 = d3;\n",
       "      LDAvis_load_lib(\"https://cdn.rawgit.com/bmabey/pyLDAvis/files/ldavis.v1.0.0.js\", function(){\n",
       "        new LDAvis(\"#\" + \"ldavis_el301381400955664053289786769096\", ldavis_el301381400955664053289786769096_data);\n",
       "      });\n",
       "    });\n",
       "}else{\n",
       "    // require.js not available: dynamically load d3 & LDAvis\n",
       "    LDAvis_load_lib(\"https://cdnjs.cloudflare.com/ajax/libs/d3/3.5.5/d3.min.js\", function(){\n",
       "         LDAvis_load_lib(\"https://cdn.rawgit.com/bmabey/pyLDAvis/files/ldavis.v1.0.0.js\", function(){\n",
       "                 new LDAvis(\"#\" + \"ldavis_el301381400955664053289786769096\", ldavis_el301381400955664053289786769096_data);\n",
       "            })\n",
       "         });\n",
       "}\n",
       "</script>"
      ],
      "text/plain": [
       "<IPython.core.display.HTML object>"
      ]
     },
     "execution_count": 19,
     "metadata": {},
     "output_type": "execute_result"
    }
   ],
   "source": [
    "vis_data6 = gensimvis.prepare(model6, stem_corpus, stem_dictionary)\n",
    "pyLDAvis.display(vis_data6)"
   ]
  },
  {
   "cell_type": "code",
   "execution_count": 20,
   "metadata": {},
   "outputs": [
    {
     "name": "stderr",
     "output_type": "stream",
     "text": [
      "/home/ec2-user/anaconda3/envs/python3/lib/python3.6/site-packages/pyLDAvis/_prepare.py:257: FutureWarning: Sorting because non-concatenation axis is not aligned. A future version\n",
      "of pandas will change to not sort by default.\n",
      "\n",
      "To accept the future behavior, pass 'sort=False'.\n",
      "\n",
      "To retain the current behavior and silence the warning, pass 'sort=True'.\n",
      "\n",
      "  return pd.concat([default_term_info] + list(topic_dfs))\n"
     ]
    },
    {
     "data": {
      "text/html": [
       "\n",
       "<link rel=\"stylesheet\" type=\"text/css\" href=\"https://cdn.rawgit.com/bmabey/pyLDAvis/files/ldavis.v1.0.0.css\">\n",
       "\n",
       "\n",
       "<div id=\"ldavis_el301381400955665053281960165342\"></div>\n",
       "<script type=\"text/javascript\">\n",
       "\n",
       "var ldavis_el301381400955665053281960165342_data = {\"mdsDat\": {\"x\": [0.07330060005187988, -0.07330060005187988], \"y\": [0.0, 0.0], \"topics\": [1, 2], \"cluster\": [1, 1], \"Freq\": [51.75510025024414, 48.24489212036133]}, \"tinfo\": {\"Category\": [\"Default\", \"Default\", \"Default\", \"Default\", \"Default\", \"Default\", \"Default\", \"Default\", \"Default\", \"Default\", \"Default\", \"Default\", \"Default\", \"Default\", \"Default\", \"Default\", \"Default\", \"Default\", \"Default\", \"Default\", \"Default\", \"Default\", \"Default\", \"Default\", \"Default\", \"Default\", \"Default\", \"Default\", \"Default\", \"Default\", \"Topic1\", \"Topic1\", \"Topic1\", \"Topic1\", \"Topic1\", \"Topic1\", \"Topic1\", \"Topic1\", \"Topic1\", \"Topic1\", \"Topic1\", \"Topic1\", \"Topic1\", \"Topic1\", \"Topic1\", \"Topic1\", \"Topic1\", \"Topic1\", \"Topic1\", \"Topic1\", \"Topic1\", \"Topic1\", \"Topic1\", \"Topic1\", \"Topic1\", \"Topic1\", \"Topic1\", \"Topic1\", \"Topic1\", \"Topic1\", \"Topic1\", \"Topic1\", \"Topic1\", \"Topic1\", \"Topic1\", \"Topic1\", \"Topic1\", \"Topic1\", \"Topic1\", \"Topic1\", \"Topic1\", \"Topic1\", \"Topic1\", \"Topic1\", \"Topic1\", \"Topic1\", \"Topic1\", \"Topic1\", \"Topic1\", \"Topic1\", \"Topic1\", \"Topic1\", \"Topic1\", \"Topic1\", \"Topic1\", \"Topic1\", \"Topic1\", \"Topic1\", \"Topic1\", \"Topic1\", \"Topic1\", \"Topic2\", \"Topic2\", \"Topic2\", \"Topic2\", \"Topic2\", \"Topic2\", \"Topic2\", \"Topic2\", \"Topic2\", \"Topic2\", \"Topic2\", \"Topic2\", \"Topic2\", \"Topic2\", \"Topic2\", \"Topic2\", \"Topic2\", \"Topic2\", \"Topic2\", \"Topic2\", \"Topic2\", \"Topic2\", \"Topic2\", \"Topic2\", \"Topic2\", \"Topic2\", \"Topic2\", \"Topic2\", \"Topic2\", \"Topic2\", \"Topic2\", \"Topic2\", \"Topic2\", \"Topic2\", \"Topic2\", \"Topic2\", \"Topic2\", \"Topic2\", \"Topic2\", \"Topic2\", \"Topic2\", \"Topic2\", \"Topic2\", \"Topic2\", \"Topic2\", \"Topic2\", \"Topic2\", \"Topic2\", \"Topic2\", \"Topic2\", \"Topic2\", \"Topic2\", \"Topic2\", \"Topic2\", \"Topic2\", \"Topic2\", \"Topic2\", \"Topic2\", \"Topic2\", \"Topic2\"], \"Freq\": [47.0, 70.0, 30.0, 21.0, 17.0, 12.0, 14.0, 10.0, 11.0, 23.0, 30.0, 8.0, 8.0, 113.0, 16.0, 26.0, 10.0, 8.0, 12.0, 7.0, 7.0, 8.0, 10.0, 13.0, 30.0, 6.0, 6.0, 6.0, 6.0, 7.0, 30.210479736328125, 17.26993179321289, 12.493672370910645, 21.08236312866211, 10.881535530090332, 7.657203674316406, 8.383170127868652, 6.851118564605713, 6.851034164428711, 6.818790435791016, 6.04498291015625, 6.044559955596924, 6.044284820556641, 5.238892078399658, 5.238869667053223, 5.23877477645874, 5.238566875457764, 5.237995624542236, 4.433038234710693, 4.432801723480225, 4.432790279388428, 4.432702541351318, 4.43253755569458, 4.432016849517822, 4.427112102508545, 63.54689407348633, 3.626821517944336, 3.62675142288208, 3.6267127990722656, 3.6267080307006836, 5.066068172454834, 8.56932544708252, 14.133857727050781, 8.48730754852295, 11.74235725402832, 24.74119758605957, 21.42548370361328, 7.723087787628174, 7.687435150146484, 23.14645767211914, 43.32670593261719, 58.55967330932617, 17.402835845947266, 42.933433532714844, 12.561538696289062, 13.383674621582031, 9.367127418518066, 15.836466789245605, 44.07027816772461, 14.806477546691895, 15.080523490905762, 13.931649208068848, 9.826885223388672, 10.073739051818848, 12.880071640014648, 13.620803833007812, 11.737300872802734, 12.5674467086792, 12.170245170593262, 11.759773254394531, 10.409226417541504, 46.75292205810547, 9.99033260345459, 8.393604278564453, 8.384615898132324, 6.794672966003418, 6.794604301452637, 5.9951982498168945, 5.994654655456543, 5.991800785064697, 5.9911370277404785, 5.1957783699035645, 5.195599555969238, 5.195453643798828, 5.192783355712891, 5.191870212554932, 5.189907073974609, 5.168820858001709, 13.197770118713379, 4.39637565612793, 4.396229267120361, 4.39611291885376, 4.396050453186035, 4.3958282470703125, 4.391731262207031, 4.391660690307617, 4.39149808883667, 6.58052396774292, 4.380659580230713, 5.783416271209717, 3.596801280975342, 9.233338356018066, 9.06236457824707, 18.545955657958984, 10.790003776550293, 69.0146713256836, 6.832547664642334, 13.443835258483887, 10.759056091308594, 15.089792251586914, 12.40996265411377, 17.691259384155273, 11.873003959655762, 14.339906692504883, 11.590066909790039, 11.084393501281738, 13.51400089263916, 11.813250541687012, 36.56498336791992, 12.612607955932617, 35.457366943359375, 15.910164833068848, 15.517801284790039, 14.136067390441895, 15.51622200012207, 15.270977020263672, 10.72525405883789, 21.78472328186035, 10.83293628692627, 11.208883285522461, 10.6254243850708], \"Term\": [\"aw\", \"cloud\", \"googl\", \"big\", \"platform\", \"distribut\", \"certif\", \"linux\", \"spark\", \"exam\", \"comput\", \"feedback\", \"pass\", \"cours\", \"deep\", \"system\", \"text\", \"technolog\", \"knowledg\", \"coach\", \"gain\", \"storag\", \"certifi\", \"databas\", \"applic\", \"kubernet\", \"devop\", \"associ\", \"allow\", \"predict\", \"googl\", \"platform\", \"distribut\", \"big\", \"spark\", \"storag\", \"technolog\", \"analyt\", \"sql\", \"busi\", \"valu\", \"listen\", \"stori\", \"hadoop\", \"scalabl\", \"major\", \"everyon\", \"gcp\", \"stream\", \"key\", \"nosql\", \"capabl\", \"principl\", \"style\", \"wide\", \"cloud\", \"center\", \"mapreduc\", \"choos\", \"hive\", \"move\", \"r\", \"deep\", \"neural\", \"databas\", \"comput\", \"system\", \"visual\", \"languag\", \"applic\", \"use\", \"data\", \"week\", \"learn\", \"program\", \"abl\", \"slalom\", \"servic\", \"cours\", \"concept\", \"work\", \"build\", \"creat\", \"algorithm\", \"includ\", \"understand\", \"introduc\", \"also\", \"machin\", \"cover\", \"design\", \"aw\", \"linux\", \"feedback\", \"pass\", \"coach\", \"gain\", \"kubernet\", \"devop\", \"associ\", \"allow\", \"analys\", \"manipul\", \"approach\", \"success\", \"materi\", \"csa\", \"without\", \"certif\", \"reproduc\", \"qualifi\", \"addit\", \"clean\", \"control\", \"specialti\", \"ident\", \"academi\", \"predict\", \"guid\", \"regress\", \"requisit\", \"text\", \"certifi\", \"exam\", \"knowledg\", \"cours\", \"secur\", \"need\", \"student\", \"experi\", \"perform\", \"provid\", \"develop\", \"basic\", \"new\", \"tool\", \"model\", \"way\", \"learn\", \"practic\", \"data\", \"machin\", \"cover\", \"network\", \"also\", \"understand\", \"manag\", \"use\", \"analysi\", \"includ\", \"work\"], \"Total\": [47.0, 70.0, 30.0, 21.0, 17.0, 12.0, 14.0, 10.0, 11.0, 23.0, 30.0, 8.0, 8.0, 113.0, 16.0, 26.0, 10.0, 8.0, 12.0, 7.0, 7.0, 8.0, 10.0, 13.0, 30.0, 6.0, 6.0, 6.0, 6.0, 7.0, 30.627256393432617, 17.729541778564453, 12.893668174743652, 21.758073806762695, 11.281506538391113, 8.057185173034668, 8.862479209899902, 7.251104831695557, 7.25110387802124, 7.2507710456848145, 6.445024013519287, 6.445019245147705, 6.445014953613281, 5.638943672180176, 5.638943672180176, 5.638942241668701, 5.63893985748291, 5.638932704925537, 4.832866668701172, 4.832862854003906, 4.832863807678223, 4.83286190032959, 4.832860469818115, 4.832853317260742, 4.832803726196289, 70.07431030273438, 4.026784420013428, 4.026783466339111, 4.026783466339111, 4.026782989501953, 5.637333869934082, 9.663325309753418, 16.104692459106445, 9.662650108337402, 13.686674118041992, 30.58207130432129, 26.557546615600586, 8.856914520263672, 8.856620788574219, 30.568965911865234, 65.1114273071289, 94.01704406738281, 24.12611961364746, 79.4984130859375, 16.89122772216797, 19.29635238647461, 12.068236351013184, 24.11324691772461, 113.08494567871094, 23.30532455444336, 25.705947875976562, 23.298139572143555, 13.670928955078125, 14.472408294677734, 24.08895492553711, 28.891780853271484, 21.681194305419922, 28.083667755126953, 28.08041000366211, 27.27757453918457, 19.27191162109375, 47.17107009887695, 10.39598274230957, 8.7970552444458, 8.797109603881836, 7.19814395904541, 7.19814395904541, 6.398687362670898, 6.398689270019531, 6.398705005645752, 6.398709297180176, 5.599230766296387, 5.599231243133545, 5.599230766296387, 5.599246978759766, 5.599252223968506, 5.599263668060303, 5.599394798278809, 14.399523735046387, 4.799773216247559, 4.799773693084717, 4.799773693084717, 4.799775123596191, 4.799776077270508, 4.79979944229126, 4.79979944229126, 4.799800872802734, 7.1997809410095215, 4.799863815307617, 6.400289535522461, 4.000316619873047, 10.401969909667969, 10.403388977050781, 23.222089767456055, 12.807304382324219, 113.08494567871094, 8.003620147705078, 17.621803283691406, 13.613636016845703, 20.832483291625977, 16.824281692504883, 26.453487396240234, 16.022653579711914, 20.838695526123047, 16.024993896484375, 15.223106384277344, 20.03945541381836, 16.829227447509766, 79.4984130859375, 19.240846633911133, 94.01704406738281, 28.08041000366211, 27.27757453918457, 24.064701080322266, 28.083667755126953, 28.891780853271484, 16.03215789794922, 65.1114273071289, 18.449508666992188, 24.08895492553711, 25.705947875976562], \"loglift\": [30.0, 29.0, 28.0, 27.0, 26.0, 25.0, 24.0, 23.0, 22.0, 21.0, 20.0, 19.0, 18.0, 17.0, 16.0, 15.0, 14.0, 13.0, 12.0, 11.0, 10.0, 9.0, 8.0, 7.0, 6.0, 5.0, 4.0, 3.0, 2.0, 1.0, 0.6449000239372253, 0.6323999762535095, 0.6270999908447266, 0.6270999908447266, 0.6225000023841858, 0.607699990272522, 0.6029999852180481, 0.6018999814987183, 0.6018999814987183, 0.5971999764442444, 0.5946000218391418, 0.5945000052452087, 0.5945000052452087, 0.585099995136261, 0.585099995136261, 0.5849999785423279, 0.5849999785423279, 0.5849000215530396, 0.5723000168800354, 0.5722000002861023, 0.5722000002861023, 0.5722000002861023, 0.5722000002861023, 0.5720999836921692, 0.5709999799728394, 0.5608999729156494, 0.5540000200271606, 0.5540000200271606, 0.5540000200271606, 0.5540000200271606, 0.551800012588501, 0.5385000109672546, 0.5281000137329102, 0.5289999842643738, 0.5054000020027161, 0.44670000672340393, 0.4438999891281128, 0.5217000246047974, 0.5170999765396118, 0.3804999887943268, 0.25130000710487366, 0.18520000576972961, 0.3319999873638153, 0.04259999841451645, 0.36250001192092896, 0.29280000925064087, 0.40529999136924744, 0.23819999396800995, -0.28369998931884766, 0.20499999821186066, 0.12530000507831573, 0.1444000005722046, 0.32850000262260437, 0.2962999939918518, 0.032600000500679016, -0.093299999833107, 0.04500000178813934, -0.1454000025987625, -0.17739999294281006, -0.1826999932527542, 0.04270000010728836, 0.7200000286102295, 0.6891000270843506, 0.6819000244140625, 0.680899977684021, 0.6711999773979187, 0.6711999773979187, 0.6636999845504761, 0.6636999845504761, 0.6632000207901001, 0.663100004196167, 0.6541000008583069, 0.6541000008583069, 0.6539999842643738, 0.6535000205039978, 0.6532999873161316, 0.652999997138977, 0.6488999724388123, 0.641700029373169, 0.6410999894142151, 0.6410999894142151, 0.640999972820282, 0.640999972820282, 0.640999972820282, 0.6399999856948853, 0.6399999856948853, 0.6399999856948853, 0.6388999819755554, 0.637499988079071, 0.6274999976158142, 0.6226000189781189, 0.6097000241279602, 0.5909000039100647, 0.5040000081062317, 0.5575000047683716, 0.23510000109672546, 0.5706999897956848, 0.45829999446868896, 0.4936000108718872, 0.40639999508857727, 0.4246000051498413, 0.32659998536109924, 0.42910000681877136, 0.35510000586509705, 0.4049000144004822, 0.4115999937057495, 0.33489999175071716, 0.375, -0.04780000075697899, 0.30649998784065247, -0.24629999697208405, 0.1607999950647354, 0.1648000031709671, 0.19689999520778656, 0.1356000006198883, 0.09130000323057175, 0.32690000534057617, -0.3659999966621399, 0.1964000016450882, -0.03620000183582306, -0.15459999442100525], \"logprob\": [30.0, 29.0, 28.0, 27.0, 26.0, 25.0, 24.0, 23.0, 22.0, 21.0, 20.0, 19.0, 18.0, 17.0, 16.0, 15.0, 14.0, 13.0, 12.0, 11.0, 10.0, 9.0, 8.0, 7.0, 6.0, 5.0, 4.0, 3.0, 2.0, 1.0, -4.426300048828125, -4.985499858856201, -5.309199810028076, -4.785999774932861, -5.447400093078613, -5.798799991607666, -5.708199977874756, -5.909999847412109, -5.910099983215332, -5.91480016708374, -6.035200119018555, -6.035299777984619, -6.035299777984619, -6.178299903869629, -6.178400039672852, -6.178400039672852, -6.178400039672852, -6.178500175476074, -6.345399856567383, -6.345399856567383, -6.345399856567383, -6.345399856567383, -6.3454999923706055, -6.345600128173828, -6.346700191497803, -3.6826999187469482, -6.54610013961792, -6.54610013961792, -6.54610013961792, -6.54610013961792, -6.211900234222412, -5.686299800872803, -5.1859002113342285, -5.695899963378906, -5.371300220489502, -4.625999927520752, -4.769899845123291, -5.790200233459473, -5.794899940490723, -4.692599773406982, -4.065700054168701, -3.764400005340576, -4.977799892425537, -4.07480001449585, -5.303800106048584, -5.2403998374938965, -5.597300052642822, -5.0721001625061035, -4.048699855804443, -5.139400005340576, -5.121099948883057, -5.200300216674805, -5.549300193786621, -5.524499893188477, -5.278800010681152, -5.222899913787842, -5.371699810028076, -5.303299903869629, -5.3354997634887695, -5.369800090789795, -5.491799831390381, -3.919300079345703, -5.462600231170654, -5.6367998123168945, -5.637800216674805, -5.848100185394287, -5.848100185394287, -5.973299980163574, -5.973400115966797, -5.973800182342529, -5.973899841308594, -6.116399765014648, -6.116399765014648, -6.116399765014648, -6.117000102996826, -6.117099761962891, -6.117499828338623, -6.121600151062012, -5.184199810028076, -6.283400058746338, -6.2835001945495605, -6.2835001945495605, -6.2835001945495605, -6.283599853515625, -6.2845001220703125, -6.2845001220703125, -6.284599781036377, -5.880099773406982, -6.2870001792907715, -6.009200096130371, -6.4842000007629395, -5.541399955749512, -5.560100078582764, -4.843999862670898, -5.3856000900268555, -3.529900074005127, -5.84250020980835, -5.1656999588012695, -5.388500213623047, -5.05019998550415, -5.245699882507324, -4.891200065612793, -5.289999961853027, -5.101200103759766, -5.3140997886657715, -5.358699798583984, -5.1605000495910645, -5.295000076293945, -4.16510009765625, -5.229499816894531, -4.195899963378906, -4.997300148010254, -5.022200107574463, -5.115499973297119, -5.022299766540527, -5.038300037384033, -5.391600131988525, -4.683000087738037, -5.3815999031066895, -5.347499847412109, -5.401000022888184]}, \"token.table\": {\"Topic\": [1, 2, 2, 2, 1, 2, 2, 1, 2, 2, 1, 2, 1, 1, 2, 2, 2, 2, 1, 2, 1, 2, 1, 2, 1, 1, 1, 1, 2, 1, 2, 1, 2, 1, 2, 2, 1, 2, 1, 2, 2, 1, 2, 1, 2, 1, 2, 2, 1, 2, 1, 2, 1, 2, 1, 2, 1, 2, 2, 1, 1, 1, 2, 1, 2, 2, 2, 1, 1, 2, 1, 1, 2, 1, 2, 1, 2, 1, 1, 2, 2, 1, 2, 1, 2, 2, 1, 1, 2, 1, 1, 2, 2, 1, 2, 1, 2, 1, 2, 1, 2, 1, 2, 1, 2, 1, 2, 1, 2, 1, 2, 1, 1, 2, 1, 2, 1, 1, 2, 1, 2, 2, 1, 2, 1, 2, 2, 2, 1, 1, 2, 1, 2, 1, 2, 1, 2, 1, 1, 1, 1, 1, 2, 1, 2, 1, 2, 1, 1, 2, 1, 2, 1, 2, 1, 2, 1, 1, 2, 1, 2, 1, 2, 1, 2, 1, 2], \"Freq\": [0.6737024784088135, 0.31093961000442505, 0.8333678841590881, 0.8333726525306702, 0.6909700036048889, 0.2763879895210266, 0.9376891255378723, 0.4629024863243103, 0.5697261691093445, 0.8929798007011414, 0.43361589312553406, 0.5962218642234802, 0.9653701186180115, 0.7523970603942871, 0.22899040579795837, 0.8929798007011414, 0.9376897215843201, 0.9963734149932861, 0.2879258990287781, 0.6718270778656006, 0.9651589393615723, 0.0459599494934082, 0.6009063720703125, 0.38629692792892456, 0.9654145836830139, 0.8276669383049011, 0.9933484196662903, 0.06944674253463745, 0.9028076529502869, 0.09612252563238144, 0.8651027083396912, 0.9933486580848694, 0.8333723545074463, 0.9133161306381226, 0.0998939573764801, 0.9724729061126709, 0.8174723982810974, 0.1961933821439743, 0.6436297297477722, 0.3432691991329193, 0.8333722352981567, 0.3890880346298218, 0.610160768032074, 0.4399218261241913, 0.5865623950958252, 0.7314791679382324, 0.2925916612148285, 0.8929745554924011, 0.6275457739830017, 0.37227293848991394, 0.876765251159668, 0.14612753689289093, 0.8693118691444397, 0.1241874098777771, 0.5188899040222168, 0.46700090169906616, 0.24964654445648193, 0.7489396333694458, 0.9376920461654663, 0.9306893944740295, 0.8866915106773376, 0.21531222760677338, 0.8181864619255066, 0.288011759519577, 0.720029354095459, 0.9093952178955078, 0.9724729061126709, 0.8866926431655884, 0.9795196652412415, 0.8333569765090942, 0.8866909146308899, 0.9933487772941589, 0.833368182182312, 0.5396664142608643, 0.4566408097743988, 0.553475022315979, 0.46122920513153076, 0.8276667594909668, 0.1561608910560608, 0.858884871006012, 0.9376923441886902, 0.9032790660858154, 0.11290988326072693, 0.5408912897109985, 0.46541810035705566, 0.9619100093841553, 0.9309514760971069, 0.4273441731929779, 0.5697922706604004, 0.8866910934448242, 0.3118731677532196, 0.6861209869384766, 0.8929797410964966, 0.9933486580848694, 0.8929764032363892, 0.34931087493896484, 0.6986217498779297, 0.8869441151618958, 0.17738881707191467, 0.22699151933193207, 0.7377224564552307, 0.4155464172363281, 0.5817649364471436, 0.827930212020874, 0.10349127650260925, 0.2496100813150406, 0.748830258846283, 0.8276665806770325, 0.9093896150588989, 0.23775160312652588, 0.7132548093795776, 0.9588516354560852, 0.36380934715270996, 0.6756459474563599, 0.13889311254024506, 0.972251832485199, 0.8276671767234802, 0.7696302533149719, 0.23680931329727173, 0.34021979570388794, 0.6804395914077759, 0.8333726525306702, 0.9313564300537109, 0.10348404943943024, 0.15624293684959412, 0.9374575614929199, 0.8333727121353149, 0.9999208450317383, 0.8866909146308899, 0.12494345754384995, 0.8746042251586914, 0.6635357141494751, 0.33176785707473755, 0.7457593679428101, 0.24858644604682922, 0.9750470519065857, 0.833368182182312, 0.965370237827301, 0.9929025769233704, 0.9309520721435547, 0.8276661038398743, 0.22036728262901306, 0.808013379573822, 0.8276684284210205, 0.892977237701416, 0.7907357215881348, 0.18827040493488312, 0.9026819467544556, 0.09613563865423203, 0.8652207255363464, 0.2627584636211395, 0.7225857377052307, 0.484566867351532, 0.5191788077354431, 0.6604063510894775, 0.33788231015205383, 0.9309507608413696, 0.9032490849494934, 0.11290613561868668, 0.2971021831035614, 0.7130451798439026, 0.7046304941177368, 0.2901419699192047, 0.8276768922805786, 0.892953634262085, 0.5835225582122803, 0.4279165267944336], \"Term\": [\"abl\", \"abl\", \"academi\", \"addit\", \"algorithm\", \"algorithm\", \"allow\", \"also\", \"also\", \"analys\", \"analysi\", \"analysi\", \"analyt\", \"applic\", \"applic\", \"approach\", \"associ\", \"aw\", \"basic\", \"basic\", \"big\", \"big\", \"build\", \"build\", \"busi\", \"capabl\", \"center\", \"certif\", \"certif\", \"certifi\", \"certifi\", \"choos\", \"clean\", \"cloud\", \"cloud\", \"coach\", \"comput\", \"comput\", \"concept\", \"concept\", \"control\", \"cours\", \"cours\", \"cover\", \"cover\", \"creat\", \"creat\", \"csa\", \"data\", \"data\", \"databas\", \"databas\", \"deep\", \"deep\", \"design\", \"design\", \"develop\", \"develop\", \"devop\", \"distribut\", \"everyon\", \"exam\", \"exam\", \"experi\", \"experi\", \"feedback\", \"gain\", \"gcp\", \"googl\", \"guid\", \"hadoop\", \"hive\", \"ident\", \"includ\", \"includ\", \"introduc\", \"introduc\", \"key\", \"knowledg\", \"knowledg\", \"kubernet\", \"languag\", \"languag\", \"learn\", \"learn\", \"linux\", \"listen\", \"machin\", \"machin\", \"major\", \"manag\", \"manag\", \"manipul\", \"mapreduc\", \"materi\", \"model\", \"model\", \"move\", \"move\", \"need\", \"need\", \"network\", \"network\", \"neural\", \"neural\", \"new\", \"new\", \"nosql\", \"pass\", \"perform\", \"perform\", \"platform\", \"practic\", \"practic\", \"predict\", \"predict\", \"principl\", \"program\", \"program\", \"provid\", \"provid\", \"qualifi\", \"r\", \"r\", \"regress\", \"regress\", \"reproduc\", \"requisit\", \"scalabl\", \"secur\", \"secur\", \"servic\", \"servic\", \"slalom\", \"slalom\", \"spark\", \"specialti\", \"sql\", \"storag\", \"stori\", \"stream\", \"student\", \"student\", \"style\", \"success\", \"system\", \"system\", \"technolog\", \"text\", \"text\", \"tool\", \"tool\", \"understand\", \"understand\", \"use\", \"use\", \"valu\", \"visual\", \"visual\", \"way\", \"way\", \"week\", \"week\", \"wide\", \"without\", \"work\", \"work\"]}, \"R\": 30, \"lambda.step\": 0.01, \"plot.opts\": {\"xlab\": \"PC1\", \"ylab\": \"PC2\"}, \"topic.order\": [1, 2]};\n",
       "\n",
       "function LDAvis_load_lib(url, callback){\n",
       "  var s = document.createElement('script');\n",
       "  s.src = url;\n",
       "  s.async = true;\n",
       "  s.onreadystatechange = s.onload = callback;\n",
       "  s.onerror = function(){console.warn(\"failed to load library \" + url);};\n",
       "  document.getElementsByTagName(\"head\")[0].appendChild(s);\n",
       "}\n",
       "\n",
       "if(typeof(LDAvis) !== \"undefined\"){\n",
       "   // already loaded: just create the visualization\n",
       "   !function(LDAvis){\n",
       "       new LDAvis(\"#\" + \"ldavis_el301381400955665053281960165342\", ldavis_el301381400955665053281960165342_data);\n",
       "   }(LDAvis);\n",
       "}else if(typeof define === \"function\" && define.amd){\n",
       "   // require.js is available: use it to load d3/LDAvis\n",
       "   require.config({paths: {d3: \"https://cdnjs.cloudflare.com/ajax/libs/d3/3.5.5/d3.min\"}});\n",
       "   require([\"d3\"], function(d3){\n",
       "      window.d3 = d3;\n",
       "      LDAvis_load_lib(\"https://cdn.rawgit.com/bmabey/pyLDAvis/files/ldavis.v1.0.0.js\", function(){\n",
       "        new LDAvis(\"#\" + \"ldavis_el301381400955665053281960165342\", ldavis_el301381400955665053281960165342_data);\n",
       "      });\n",
       "    });\n",
       "}else{\n",
       "    // require.js not available: dynamically load d3 & LDAvis\n",
       "    LDAvis_load_lib(\"https://cdnjs.cloudflare.com/ajax/libs/d3/3.5.5/d3.min.js\", function(){\n",
       "         LDAvis_load_lib(\"https://cdn.rawgit.com/bmabey/pyLDAvis/files/ldavis.v1.0.0.js\", function(){\n",
       "                 new LDAvis(\"#\" + \"ldavis_el301381400955665053281960165342\", ldavis_el301381400955665053281960165342_data);\n",
       "            })\n",
       "         });\n",
       "}\n",
       "</script>"
      ],
      "text/plain": [
       "<IPython.core.display.HTML object>"
      ]
     },
     "execution_count": 20,
     "metadata": {},
     "output_type": "execute_result"
    }
   ],
   "source": [
    "vis_data2 = gensimvis.prepare(model2, stem_corpus, stem_dictionary)\n",
    "pyLDAvis.display(vis_data2)"
   ]
  },
  {
   "cell_type": "code",
   "execution_count": 24,
   "metadata": {},
   "outputs": [
    {
     "data": {
      "text/plain": [
       "[(0,\n",
       "  '0.046*\"data\" + 0.020*\"cours\" + 0.016*\"use\" + 0.016*\"learn\" + 0.015*\"big\"'),\n",
       " (1,\n",
       "  '0.044*\"aw\" + 0.037*\"cours\" + 0.017*\"exam\" + 0.015*\"certif\" + 0.012*\"provid\"'),\n",
       " (2,\n",
       "  '0.024*\"cours\" + 0.021*\"learn\" + 0.021*\"applic\" + 0.019*\"deep\" + 0.015*\"build\"'),\n",
       " (3,\n",
       "  '0.051*\"learn\" + 0.026*\"machin\" + 0.016*\"understand\" + 0.015*\"cours\" + 0.011*\"practic\"'),\n",
       " (4,\n",
       "  '0.019*\"use\" + 0.015*\"system\" + 0.014*\"perform\" + 0.013*\"feedback\" + 0.011*\"comput\"'),\n",
       " (5,\n",
       "  '0.037*\"cloud\" + 0.032*\"cours\" + 0.018*\"servic\" + 0.015*\"comput\" + 0.014*\"aw\"'),\n",
       " (6,\n",
       "  '0.048*\"googl\" + 0.043*\"data\" + 0.041*\"cloud\" + 0.023*\"platform\" + 0.021*\"cours\"')]"
      ]
     },
     "execution_count": 24,
     "metadata": {},
     "output_type": "execute_result"
    }
   ],
   "source": [
    "model7.print_topics(num_words=5)"
   ]
  },
  {
   "cell_type": "code",
   "execution_count": null,
   "metadata": {},
   "outputs": [],
   "source": []
  },
  {
   "cell_type": "code",
   "execution_count": null,
   "metadata": {},
   "outputs": [],
   "source": [
    "# writing to file with single column for use with comprehend\n",
    "\n",
    "from io import StringIO\n",
    "s3_client = boto3.client('s3')\n",
    "\n",
    "output_data = class_data['Processed']\n",
    "output_data_buffer = StringIO(output_data.to_csv(header = False, index = False))\n",
    "s3_client.put_object(Bucket='ml-personalization', Key='data/comprehend_topic_data/comprehend_data.csv', Body=output_data_buffer.read(), StorageClass='STANDARD')"
   ]
  },
  {
   "cell_type": "code",
   "execution_count": null,
   "metadata": {},
   "outputs": [],
   "source": []
  }
 ],
 "metadata": {
  "kernelspec": {
   "display_name": "Python 3",
   "language": "python",
   "name": "python3"
  },
  "language_info": {
   "codemirror_mode": {
    "name": "ipython",
    "version": 3
   },
   "file_extension": ".py",
   "mimetype": "text/x-python",
   "name": "python",
   "nbconvert_exporter": "python",
   "pygments_lexer": "ipython3",
   "version": "3.6.5"
  }
 },
 "nbformat": 4,
 "nbformat_minor": 2
}
